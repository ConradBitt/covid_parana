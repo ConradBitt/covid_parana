{
 "cells": [
  {
   "cell_type": "code",
   "execution_count": 1,
   "metadata": {},
   "outputs": [
    {
     "name": "stdout",
     "output_type": "stream",
     "text": [
      "pandas == 1.2.2\n",
      "numpy == 1.19.2\n",
      "matplotlib == 3.3.4\n",
      "seaborn == 0.11.1\n",
      "plotly == 4.11.0\n",
      "pystan == 2.19.1.1\n",
      "fbprophet == 0.7.1\n"
     ]
    }
   ],
   "source": [
    "import pandas as pd\n",
    "import numpy as np\n",
    "import matplotlib\n",
    "import seaborn as sns\n",
    "import pystan\n",
    "import fbprophet \n",
    "import plotly \n",
    "\n",
    "\n",
    "\n",
    "#built-in \n",
    "import datetime\n",
    "\n",
    "print('pandas ==',pd.__version__)\n",
    "print('numpy ==',np.__version__)\n",
    "print('matplotlib ==',matplotlib.__version__)\n",
    "print('seaborn ==',sns.__version__)\n",
    "print('plotly ==', plotly.__version__)\n",
    "print('pystan ==',pystan.__version__)\n",
    "print('fbprophet ==',fbprophet.__version__)"
   ]
  },
  {
   "cell_type": "markdown",
   "metadata": {},
   "source": [
    "# Funções"
   ]
  },
  {
   "cell_type": "code",
   "execution_count": 2,
   "metadata": {},
   "outputs": [],
   "source": [
    "# =======================================================================================\n",
    "## FUNÇÕES PARA A IMPORTAÇÃO DOS DADOS E TRANSFORMAR DATAS\n",
    "\n",
    "def converte_variaveis_em_datas(dataframe):\n",
    "    for variavel in dataframe.columns:\n",
    "        if 'DATA' in variavel:\n",
    "            try:\n",
    "                dataframe[variavel] = pd.to_datetime(dataframe[variavel], format='%d/%m/%Y')\n",
    "            \n",
    "            except:\n",
    "                print(f'Variável \"{variavel}\" contém um erro e conversão/formatação')\n",
    "                pass\n",
    "        else:\n",
    "            pass \n",
    "    return dataframe\n",
    "\n",
    "\n",
    "def tira_variaveis_IBGE(dataframe):\n",
    "    dataframe = dataframe.drop(['IBGE_RES_PR','IBGE_ATEND_PR'], axis='columns')\n",
    "    return dataframe\n",
    "\n",
    "\n",
    "def cria_variavel_caso_confirmado_no_dia(dataframe):\n",
    "    dataframe['CASO_CONFIRMADO_NO_DIA'] = 1\n",
    "    return dataframe\n",
    "\n",
    "\n",
    "def replace_nas_variaveis_obito_status(dataframe):\n",
    "\n",
    "    dataframe['OBITO'] = dataframe['OBITO'].replace('SIM','Sim')\n",
    "    dataframe['OBITO'] = dataframe['OBITO'].replace('Não','Nao')\n",
    "\n",
    "    dataframe['OBITO'] = dataframe['OBITO'].replace('Sim',1)\n",
    "    dataframe['OBITO'] = dataframe['OBITO'].replace('Nao',0)\n",
    "\n",
    "    dataframe['STATUS'] = dataframe['STATUS'].replace('Recuperado','recuperado')\n",
    "    dataframe['STATUS'] = dataframe['STATUS'].replace('recuperado', 1)\n",
    "    dataframe['STATUS'] = dataframe['STATUS'].replace('nan', 0)\n",
    "\n",
    "    return dataframe\n",
    "    \n",
    "\n",
    "def pre_processamento(dataframe):\n",
    "    dataframe = converte_variaveis_em_datas(dataframe)\n",
    "    dataframe = tira_variaveis_IBGE(dataframe)\n",
    "    dataframe = cria_variavel_caso_confirmado_no_dia(dataframe)\n",
    "    dataframe = replace_nas_variaveis_obito_status(dataframe)\n",
    "    dataframe = dataframe.set_index('DATA_CONFIRMACAO_DIVULGACAO')\n",
    "    dataframe = dataframe.sort_index()\n",
    "    return dataframe\n",
    "\n",
    "def baixa_base_de_dados_casos_gerais(ano,mes,dia):\n",
    "    \"\"\"\n",
    "    Esta função baixa a base de dados disponível no ano, mes e dia.\n",
    "    retorna um dataframe do pandas com os dados disponpiveis.\n",
    "    \"\"\"\n",
    "    data = datetime.date(ano, mes, dia)\n",
    "    ano = str(data.year)\n",
    "\n",
    "    if mes != 10 and mes != 11 and mes != 12:\n",
    "        mes = '0'+str(data.month)\n",
    "    else:\n",
    "        mes = str(data.month)\n",
    "\n",
    "    if dia in [1,2,3,4,6,7,8,9]:\n",
    "        dia = '0'+str(data.day)\n",
    "\n",
    "    ano_mes = ano+'-'+mes\n",
    "\n",
    "    if ano == '2020':\n",
    "        arquivo = f'INFORME_EPIDEMIOLOGICO_{dia}_{mes}_GERAL.csv'\n",
    "    elif ano == '2021':\n",
    "        arquivo = f'informe_epidemiologico_{dia}_{mes}_{ano}_geral.csv'\n",
    "    # Podem acontecer as seguintes variações no site do estado:\n",
    "    # informe_epidemiologico_{dia}_{mes}_{ano}_geral.csv\n",
    "    # informe_epidemiologico_{dia}_{mes}_geral.csv\n",
    "    # INFORME_EPIDEMIOLOGICO_{dia}_{mes}_GERAL.csv\n",
    "\n",
    "\n",
    "\n",
    "    dominio = 'https://www.saude.pr.gov.br'\n",
    "    caminho = f'/sites/default/arquivos_restritos/files/documento/{ano_mes}/'\n",
    "    try:\n",
    "\n",
    "        url = dominio+caminho+arquivo\n",
    "        base_de_dados = pd.read_csv(url, sep=';')\n",
    "        base_de_dados = pre_processamento(base_de_dados)\n",
    "        \n",
    "    \n",
    "    except:\n",
    "        raise Exception('Não Tem dados disponíveis neste dia.')\n",
    "\n",
    "    return base_de_dados\n",
    "\n",
    "# =======================================================================================\n",
    "## FUNÇÕES PARA SELEÇÃO \n",
    "\n",
    "def seleciona_media_movel(dataframe):\n",
    "\n",
    "    if 'MUN_ATENDIMENTO' in dataframe.columns and 'DATA_CONFIRMACAO_DIVULGACAO' in dataframe.columns:\n",
    "        dataframe = dataframe.groupby(['MUN_ATENDIMENTO','DATA_CONFIRMACAO_DIVULGACAO'])[['CASO_CONFIRMADO_NO_DIA','OBITO']].sum().rolling(15).mean()[15:]\n",
    "        return dataframe\n",
    "    else:\n",
    "        raise Exception('')\n",
    "\n",
    "\n"
   ]
  },
  {
   "cell_type": "markdown",
   "metadata": {},
   "source": [
    "# Importando os Dados "
   ]
  },
  {
   "cell_type": "code",
   "execution_count": 3,
   "metadata": {},
   "outputs": [
    {
     "ename": "ValueError",
     "evalue": "day is out of range for month",
     "output_type": "error",
     "traceback": [
      "\u001b[0;31m---------------------------------------------------------------------------\u001b[0m",
      "\u001b[0;31mValueError\u001b[0m                                Traceback (most recent call last)",
      "\u001b[0;32m<ipython-input-3-3e1f808fc0fa>\u001b[0m in \u001b[0;36m<module>\u001b[0;34m\u001b[0m\n\u001b[1;32m      1\u001b[0m \u001b[0mhoje\u001b[0m \u001b[0;34m=\u001b[0m \u001b[0mdatetime\u001b[0m\u001b[0;34m.\u001b[0m\u001b[0mdate\u001b[0m\u001b[0;34m.\u001b[0m\u001b[0mtoday\u001b[0m\u001b[0;34m(\u001b[0m\u001b[0;34m)\u001b[0m\u001b[0;34m\u001b[0m\u001b[0;34m\u001b[0m\u001b[0m\n\u001b[0;32m----> 2\u001b[0;31m \u001b[0minforme_covid\u001b[0m \u001b[0;34m=\u001b[0m \u001b[0mbaixa_base_de_dados_casos_gerais\u001b[0m\u001b[0;34m(\u001b[0m\u001b[0mhoje\u001b[0m\u001b[0;34m.\u001b[0m\u001b[0myear\u001b[0m\u001b[0;34m,\u001b[0m \u001b[0mhoje\u001b[0m\u001b[0;34m.\u001b[0m\u001b[0mmonth\u001b[0m\u001b[0;34m,\u001b[0m \u001b[0mhoje\u001b[0m\u001b[0;34m.\u001b[0m\u001b[0mday\u001b[0m \u001b[0;34m-\u001b[0m \u001b[0;36m1\u001b[0m\u001b[0;34m)\u001b[0m\u001b[0;34m\u001b[0m\u001b[0;34m\u001b[0m\u001b[0m\n\u001b[0m",
      "\u001b[0;32m<ipython-input-2-d6f97056fcbd>\u001b[0m in \u001b[0;36mbaixa_base_de_dados_casos_gerais\u001b[0;34m(ano, mes, dia)\u001b[0m\n\u001b[1;32m     55\u001b[0m     \u001b[0mretorna\u001b[0m \u001b[0mum\u001b[0m \u001b[0mdataframe\u001b[0m \u001b[0mdo\u001b[0m \u001b[0mpandas\u001b[0m \u001b[0mcom\u001b[0m \u001b[0mos\u001b[0m \u001b[0mdados\u001b[0m \u001b[0mdisponpiveis\u001b[0m\u001b[0;34m.\u001b[0m\u001b[0;34m\u001b[0m\u001b[0;34m\u001b[0m\u001b[0m\n\u001b[1;32m     56\u001b[0m     \"\"\"\n\u001b[0;32m---> 57\u001b[0;31m     \u001b[0mdata\u001b[0m \u001b[0;34m=\u001b[0m \u001b[0mdatetime\u001b[0m\u001b[0;34m.\u001b[0m\u001b[0mdate\u001b[0m\u001b[0;34m(\u001b[0m\u001b[0mano\u001b[0m\u001b[0;34m,\u001b[0m \u001b[0mmes\u001b[0m\u001b[0;34m,\u001b[0m \u001b[0mdia\u001b[0m\u001b[0;34m)\u001b[0m\u001b[0;34m\u001b[0m\u001b[0;34m\u001b[0m\u001b[0m\n\u001b[0m\u001b[1;32m     58\u001b[0m     \u001b[0mano\u001b[0m \u001b[0;34m=\u001b[0m \u001b[0mstr\u001b[0m\u001b[0;34m(\u001b[0m\u001b[0mdata\u001b[0m\u001b[0;34m.\u001b[0m\u001b[0myear\u001b[0m\u001b[0;34m)\u001b[0m\u001b[0;34m\u001b[0m\u001b[0;34m\u001b[0m\u001b[0m\n\u001b[1;32m     59\u001b[0m \u001b[0;34m\u001b[0m\u001b[0m\n",
      "\u001b[0;31mValueError\u001b[0m: day is out of range for month"
     ]
    }
   ],
   "source": [
    "hoje = datetime.date.today()\n",
    "informe_covid = baixa_base_de_dados_casos_gerais(hoje.year, hoje.month, hoje.day - 1)"
   ]
  },
  {
   "cell_type": "code",
   "execution_count": 4,
   "metadata": {},
   "outputs": [
    {
     "data": {
      "text/html": "<div>\n<style scoped>\n    .dataframe tbody tr th:only-of-type {\n        vertical-align: middle;\n    }\n\n    .dataframe tbody tr th {\n        vertical-align: top;\n    }\n\n    .dataframe thead th {\n        text-align: right;\n    }\n</style>\n<table border=\"1\" class=\"dataframe\">\n  <thead>\n    <tr style=\"text-align: right;\">\n      <th></th>\n      <th>SEXO</th>\n      <th>IDADE_ORIGINAL</th>\n      <th>MUN_RESIDENCIA</th>\n      <th>MUN_ATENDIMENTO</th>\n      <th>LABORATORIO</th>\n      <th>DATA_DIAGNOSTICO</th>\n      <th>DATA_INICIO_SINTOMAS</th>\n      <th>OBITO</th>\n      <th>DATA_OBITO</th>\n      <th>DATA_OBITO_DIVULGACAO</th>\n      <th>STATUS</th>\n      <th>DATA_RECUPERADO_DIVULGACAO</th>\n      <th>FONTE_DADO_RECUPERADO</th>\n      <th>CASO_CONFIRMADO_NO_DIA</th>\n    </tr>\n    <tr>\n      <th>DATA_CONFIRMACAO_DIVULGACAO</th>\n      <th></th>\n      <th></th>\n      <th></th>\n      <th></th>\n      <th></th>\n      <th></th>\n      <th></th>\n      <th></th>\n      <th></th>\n      <th></th>\n      <th></th>\n      <th></th>\n      <th></th>\n      <th></th>\n    </tr>\n  </thead>\n  <tbody>\n    <tr>\n      <th>2020-03-12</th>\n      <td>F</td>\n      <td>26</td>\n      <td>CURITIBA</td>\n      <td>CURITIBA</td>\n      <td>Genoprimer</td>\n      <td>2020-03-18</td>\n      <td>15/03/2020</td>\n      <td>0.0</td>\n      <td>NaT</td>\n      <td>NaT</td>\n      <td>1.0</td>\n      <td>NaT</td>\n      <td>NaN</td>\n      <td>1</td>\n    </tr>\n    <tr>\n      <th>2020-03-12</th>\n      <td>M</td>\n      <td>15</td>\n      <td>CURITIBA</td>\n      <td>CURITIBA</td>\n      <td>LACEN</td>\n      <td>2020-03-12</td>\n      <td>08/03/2020</td>\n      <td>0.0</td>\n      <td>NaT</td>\n      <td>NaT</td>\n      <td>1.0</td>\n      <td>NaT</td>\n      <td>NaN</td>\n      <td>1</td>\n    </tr>\n    <tr>\n      <th>2020-03-12</th>\n      <td>F</td>\n      <td>47</td>\n      <td>CIANORTE</td>\n      <td>CIANORTE</td>\n      <td>LACEN</td>\n      <td>2020-03-12</td>\n      <td>NaN</td>\n      <td>0.0</td>\n      <td>NaT</td>\n      <td>NaT</td>\n      <td>1.0</td>\n      <td>NaT</td>\n      <td>Notificações</td>\n      <td>1</td>\n    </tr>\n    <tr>\n      <th>2020-03-12</th>\n      <td>M</td>\n      <td>43</td>\n      <td>CURITIBA</td>\n      <td>CURITIBA</td>\n      <td>LACEN</td>\n      <td>2020-03-12</td>\n      <td>07/03/2020</td>\n      <td>0.0</td>\n      <td>NaT</td>\n      <td>NaT</td>\n      <td>1.0</td>\n      <td>NaT</td>\n      <td>NaN</td>\n      <td>1</td>\n    </tr>\n    <tr>\n      <th>2020-03-12</th>\n      <td>M</td>\n      <td>28</td>\n      <td>SAO PAULO/SP</td>\n      <td>CURITIBA</td>\n      <td>Genoprimer</td>\n      <td>2020-03-16</td>\n      <td>NaN</td>\n      <td>0.0</td>\n      <td>NaT</td>\n      <td>NaT</td>\n      <td>1.0</td>\n      <td>2020-08-05</td>\n      <td>SMS</td>\n      <td>1</td>\n    </tr>\n    <tr>\n      <th>...</th>\n      <td>...</td>\n      <td>...</td>\n      <td>...</td>\n      <td>...</td>\n      <td>...</td>\n      <td>...</td>\n      <td>...</td>\n      <td>...</td>\n      <td>...</td>\n      <td>...</td>\n      <td>...</td>\n      <td>...</td>\n      <td>...</td>\n      <td>...</td>\n    </tr>\n    <tr>\n      <th>2021-03-10</th>\n      <td>F</td>\n      <td>13</td>\n      <td>CLEVELANDIA</td>\n      <td>NaN</td>\n      <td>COVID-19, Biologia Molecular</td>\n      <td>2021-03-09</td>\n      <td>NaN</td>\n      <td>NaN</td>\n      <td>NaT</td>\n      <td>NaT</td>\n      <td>NaN</td>\n      <td>NaT</td>\n      <td>NaN</td>\n      <td>1</td>\n    </tr>\n    <tr>\n      <th>2021-03-10</th>\n      <td>F</td>\n      <td>17</td>\n      <td>CAMPO MOURAO</td>\n      <td>CAMPO MOURAO</td>\n      <td>COVID-19, Biologia Molecular</td>\n      <td>2021-03-08</td>\n      <td>28/02/2021</td>\n      <td>NaN</td>\n      <td>NaT</td>\n      <td>NaT</td>\n      <td>NaN</td>\n      <td>NaT</td>\n      <td>NaN</td>\n      <td>1</td>\n    </tr>\n    <tr>\n      <th>2021-03-10</th>\n      <td>F</td>\n      <td>21</td>\n      <td>LUIZIANA</td>\n      <td>LUIZIANA</td>\n      <td>Teste Rápido Antígeno (Imunocromatografia)</td>\n      <td>2021-03-09</td>\n      <td>07/03/2021</td>\n      <td>NaN</td>\n      <td>NaT</td>\n      <td>NaT</td>\n      <td>NaN</td>\n      <td>NaT</td>\n      <td>NaN</td>\n      <td>1</td>\n    </tr>\n    <tr>\n      <th>2021-03-10</th>\n      <td>F</td>\n      <td>14</td>\n      <td>CAMPO LARGO</td>\n      <td>CAMPO LARGO</td>\n      <td>Teste Rápido Antígeno (Imunocromatografia)</td>\n      <td>2021-03-09</td>\n      <td>08/03/2021</td>\n      <td>NaN</td>\n      <td>NaT</td>\n      <td>NaT</td>\n      <td>NaN</td>\n      <td>NaT</td>\n      <td>NaN</td>\n      <td>1</td>\n    </tr>\n    <tr>\n      <th>2021-03-10</th>\n      <td>F</td>\n      <td>22</td>\n      <td>ARAPONGAS</td>\n      <td>ARAPONGAS</td>\n      <td>COVID-19, Biologia Molecular</td>\n      <td>2021-01-03</td>\n      <td>28/12/2020</td>\n      <td>NaN</td>\n      <td>NaT</td>\n      <td>NaT</td>\n      <td>NaN</td>\n      <td>NaT</td>\n      <td>NaN</td>\n      <td>1</td>\n    </tr>\n  </tbody>\n</table>\n<p>741568 rows × 14 columns</p>\n</div>",
      "text/plain": "                            SEXO  IDADE_ORIGINAL MUN_RESIDENCIA  \\\nDATA_CONFIRMACAO_DIVULGACAO                                       \n2020-03-12                     F              26       CURITIBA   \n2020-03-12                     M              15       CURITIBA   \n2020-03-12                     F              47       CIANORTE   \n2020-03-12                     M              43       CURITIBA   \n2020-03-12                     M              28   SAO PAULO/SP   \n...                          ...             ...            ...   \n2021-03-10                     F              13    CLEVELANDIA   \n2021-03-10                     F              17   CAMPO MOURAO   \n2021-03-10                     F              21       LUIZIANA   \n2021-03-10                     F              14    CAMPO LARGO   \n2021-03-10                     F              22      ARAPONGAS   \n\n                            MUN_ATENDIMENTO  \\\nDATA_CONFIRMACAO_DIVULGACAO                   \n2020-03-12                         CURITIBA   \n2020-03-12                         CURITIBA   \n2020-03-12                         CIANORTE   \n2020-03-12                         CURITIBA   \n2020-03-12                         CURITIBA   \n...                                     ...   \n2021-03-10                              NaN   \n2021-03-10                     CAMPO MOURAO   \n2021-03-10                         LUIZIANA   \n2021-03-10                      CAMPO LARGO   \n2021-03-10                        ARAPONGAS   \n\n                                                            LABORATORIO  \\\nDATA_CONFIRMACAO_DIVULGACAO                                               \n2020-03-12                                                   Genoprimer   \n2020-03-12                                                        LACEN   \n2020-03-12                                                        LACEN   \n2020-03-12                                                        LACEN   \n2020-03-12                                                   Genoprimer   \n...                                                                 ...   \n2021-03-10                                 COVID-19, Biologia Molecular   \n2021-03-10                                 COVID-19, Biologia Molecular   \n2021-03-10                   Teste Rápido Antígeno (Imunocromatografia)   \n2021-03-10                   Teste Rápido Antígeno (Imunocromatografia)   \n2021-03-10                                 COVID-19, Biologia Molecular   \n\n                            DATA_DIAGNOSTICO DATA_INICIO_SINTOMAS  OBITO  \\\nDATA_CONFIRMACAO_DIVULGACAO                                                \n2020-03-12                        2020-03-18           15/03/2020    0.0   \n2020-03-12                        2020-03-12           08/03/2020    0.0   \n2020-03-12                        2020-03-12                  NaN    0.0   \n2020-03-12                        2020-03-12           07/03/2020    0.0   \n2020-03-12                        2020-03-16                  NaN    0.0   \n...                                      ...                  ...    ...   \n2021-03-10                        2021-03-09                  NaN    NaN   \n2021-03-10                        2021-03-08           28/02/2021    NaN   \n2021-03-10                        2021-03-09           07/03/2021    NaN   \n2021-03-10                        2021-03-09           08/03/2021    NaN   \n2021-03-10                        2021-01-03           28/12/2020    NaN   \n\n                            DATA_OBITO DATA_OBITO_DIVULGACAO  STATUS  \\\nDATA_CONFIRMACAO_DIVULGACAO                                            \n2020-03-12                         NaT                   NaT     1.0   \n2020-03-12                         NaT                   NaT     1.0   \n2020-03-12                         NaT                   NaT     1.0   \n2020-03-12                         NaT                   NaT     1.0   \n2020-03-12                         NaT                   NaT     1.0   \n...                                ...                   ...     ...   \n2021-03-10                         NaT                   NaT     NaN   \n2021-03-10                         NaT                   NaT     NaN   \n2021-03-10                         NaT                   NaT     NaN   \n2021-03-10                         NaT                   NaT     NaN   \n2021-03-10                         NaT                   NaT     NaN   \n\n                            DATA_RECUPERADO_DIVULGACAO FONTE_DADO_RECUPERADO  \\\nDATA_CONFIRMACAO_DIVULGACAO                                                    \n2020-03-12                                         NaT                   NaN   \n2020-03-12                                         NaT                   NaN   \n2020-03-12                                         NaT          Notificações   \n2020-03-12                                         NaT                   NaN   \n2020-03-12                                  2020-08-05                   SMS   \n...                                                ...                   ...   \n2021-03-10                                         NaT                   NaN   \n2021-03-10                                         NaT                   NaN   \n2021-03-10                                         NaT                   NaN   \n2021-03-10                                         NaT                   NaN   \n2021-03-10                                         NaT                   NaN   \n\n                             CASO_CONFIRMADO_NO_DIA  \nDATA_CONFIRMACAO_DIVULGACAO                          \n2020-03-12                                        1  \n2020-03-12                                        1  \n2020-03-12                                        1  \n2020-03-12                                        1  \n2020-03-12                                        1  \n...                                             ...  \n2021-03-10                                        1  \n2021-03-10                                        1  \n2021-03-10                                        1  \n2021-03-10                                        1  \n2021-03-10                                        1  \n\n[741568 rows x 14 columns]"
     },
     "execution_count": 4,
     "metadata": {},
     "output_type": "execute_result"
    }
   ],
   "source": [
    "informe_covid"
   ]
  },
  {
   "cell_type": "code",
   "execution_count": 5,
   "metadata": {},
   "outputs": [],
   "source": [
    "def seleciona_cidade(cidade, dataframe):\n",
    "    \"\"\"\n",
    "    Esta função retona todos os registros\n",
    "    cujo o atendimento ocorreu na cidade \n",
    "    passada como parâmetro.\n",
    "    Retorna um dataframe.\n",
    "    \"\"\"\n",
    "    dados_cidade = dataframe.query(f'MUN_ATENDIMENTO == \"{cidade.upper()}\"')\n",
    "    return dados_cidade.reset_index()\n",
    "\n"
   ]
  },
  {
   "cell_type": "code",
   "execution_count": 6,
   "metadata": {},
   "outputs": [],
   "source": [
    "move_average_15_por_cidade = informe_covid.groupby(['MUN_ATENDIMENTO','DATA_CONFIRMACAO_DIVULGACAO'])[['CASO_CONFIRMADO_NO_DIA','OBITO']].sum().rolling(14).mean()[14:].round()\n",
    "casos_por_cidade = informe_covid.groupby(['MUN_ATENDIMENTO','DATA_CONFIRMACAO_DIVULGACAO'])[['CASO_CONFIRMADO_NO_DIA','OBITO']].sum().round()"
   ]
  },
  {
   "cell_type": "code",
   "execution_count": 7,
   "metadata": {},
   "outputs": [
    {
     "data": {
      "text/html": "<div>\n<style scoped>\n    .dataframe tbody tr th:only-of-type {\n        vertical-align: middle;\n    }\n\n    .dataframe tbody tr th {\n        vertical-align: top;\n    }\n\n    .dataframe thead th {\n        text-align: right;\n    }\n</style>\n<table border=\"1\" class=\"dataframe\">\n  <thead>\n    <tr style=\"text-align: right;\">\n      <th></th>\n      <th></th>\n      <th>CASO_CONFIRMADO_NO_DIA</th>\n      <th>OBITO</th>\n    </tr>\n    <tr>\n      <th>MUN_ATENDIMENTO</th>\n      <th>DATA_CONFIRMACAO_DIVULGACAO</th>\n      <th></th>\n      <th></th>\n    </tr>\n  </thead>\n  <tbody>\n    <tr>\n      <th rowspan=\"5\" valign=\"top\">ABATIA</th>\n      <th>2020-07-01</th>\n      <td>2.0</td>\n      <td>0.0</td>\n    </tr>\n    <tr>\n      <th>2020-07-02</th>\n      <td>2.0</td>\n      <td>0.0</td>\n    </tr>\n    <tr>\n      <th>2020-07-03</th>\n      <td>2.0</td>\n      <td>0.0</td>\n    </tr>\n    <tr>\n      <th>2020-07-07</th>\n      <td>3.0</td>\n      <td>0.0</td>\n    </tr>\n    <tr>\n      <th>2020-07-08</th>\n      <td>3.0</td>\n      <td>0.0</td>\n    </tr>\n    <tr>\n      <th>...</th>\n      <th>...</th>\n      <td>...</td>\n      <td>...</td>\n    </tr>\n    <tr>\n      <th rowspan=\"5\" valign=\"top\">XAMBRE</th>\n      <th>2021-02-26</th>\n      <td>2.0</td>\n      <td>0.0</td>\n    </tr>\n    <tr>\n      <th>2021-02-27</th>\n      <td>2.0</td>\n      <td>0.0</td>\n    </tr>\n    <tr>\n      <th>2021-03-02</th>\n      <td>2.0</td>\n      <td>0.0</td>\n    </tr>\n    <tr>\n      <th>2021-03-04</th>\n      <td>2.0</td>\n      <td>0.0</td>\n    </tr>\n    <tr>\n      <th>2021-03-07</th>\n      <td>2.0</td>\n      <td>0.0</td>\n    </tr>\n  </tbody>\n</table>\n<p>51277 rows × 2 columns</p>\n</div>",
      "text/plain": "                                             CASO_CONFIRMADO_NO_DIA  OBITO\nMUN_ATENDIMENTO DATA_CONFIRMACAO_DIVULGACAO                               \nABATIA          2020-07-01                                      2.0    0.0\n                2020-07-02                                      2.0    0.0\n                2020-07-03                                      2.0    0.0\n                2020-07-07                                      3.0    0.0\n                2020-07-08                                      3.0    0.0\n...                                                             ...    ...\nXAMBRE          2021-02-26                                      2.0    0.0\n                2021-02-27                                      2.0    0.0\n                2021-03-02                                      2.0    0.0\n                2021-03-04                                      2.0    0.0\n                2021-03-07                                      2.0    0.0\n\n[51277 rows x 2 columns]"
     },
     "execution_count": 7,
     "metadata": {},
     "output_type": "execute_result"
    }
   ],
   "source": [
    "move_average_15_por_cidade"
   ]
  },
  {
   "cell_type": "code",
   "execution_count": 8,
   "metadata": {},
   "outputs": [
    {
     "data": {
      "text/html": "<div>\n<style scoped>\n    .dataframe tbody tr th:only-of-type {\n        vertical-align: middle;\n    }\n\n    .dataframe tbody tr th {\n        vertical-align: top;\n    }\n\n    .dataframe thead th {\n        text-align: right;\n    }\n</style>\n<table border=\"1\" class=\"dataframe\">\n  <thead>\n    <tr style=\"text-align: right;\">\n      <th></th>\n      <th></th>\n      <th>CASO_CONFIRMADO_NO_DIA</th>\n      <th>OBITO</th>\n    </tr>\n    <tr>\n      <th>MUN_ATENDIMENTO</th>\n      <th>DATA_CONFIRMACAO_DIVULGACAO</th>\n      <th></th>\n      <th></th>\n    </tr>\n  </thead>\n  <tbody>\n    <tr>\n      <th rowspan=\"5\" valign=\"top\">ABATIA</th>\n      <th>2020-05-08</th>\n      <td>1</td>\n      <td>0.0</td>\n    </tr>\n    <tr>\n      <th>2020-05-31</th>\n      <td>1</td>\n      <td>0.0</td>\n    </tr>\n    <tr>\n      <th>2020-06-05</th>\n      <td>4</td>\n      <td>0.0</td>\n    </tr>\n    <tr>\n      <th>2020-06-08</th>\n      <td>1</td>\n      <td>0.0</td>\n    </tr>\n    <tr>\n      <th>2020-06-11</th>\n      <td>1</td>\n      <td>0.0</td>\n    </tr>\n    <tr>\n      <th>...</th>\n      <th>...</th>\n      <td>...</td>\n      <td>...</td>\n    </tr>\n    <tr>\n      <th rowspan=\"5\" valign=\"top\">XAMBRE</th>\n      <th>2021-02-26</th>\n      <td>3</td>\n      <td>0.0</td>\n    </tr>\n    <tr>\n      <th>2021-02-27</th>\n      <td>1</td>\n      <td>0.0</td>\n    </tr>\n    <tr>\n      <th>2021-03-02</th>\n      <td>1</td>\n      <td>0.0</td>\n    </tr>\n    <tr>\n      <th>2021-03-04</th>\n      <td>2</td>\n      <td>0.0</td>\n    </tr>\n    <tr>\n      <th>2021-03-07</th>\n      <td>4</td>\n      <td>0.0</td>\n    </tr>\n  </tbody>\n</table>\n<p>51291 rows × 2 columns</p>\n</div>",
      "text/plain": "                                             CASO_CONFIRMADO_NO_DIA  OBITO\nMUN_ATENDIMENTO DATA_CONFIRMACAO_DIVULGACAO                               \nABATIA          2020-05-08                                        1    0.0\n                2020-05-31                                        1    0.0\n                2020-06-05                                        4    0.0\n                2020-06-08                                        1    0.0\n                2020-06-11                                        1    0.0\n...                                                             ...    ...\nXAMBRE          2021-02-26                                        3    0.0\n                2021-02-27                                        1    0.0\n                2021-03-02                                        1    0.0\n                2021-03-04                                        2    0.0\n                2021-03-07                                        4    0.0\n\n[51291 rows x 2 columns]"
     },
     "execution_count": 8,
     "metadata": {},
     "output_type": "execute_result"
    }
   ],
   "source": [
    "casos_por_cidade"
   ]
  },
  {
   "cell_type": "code",
   "execution_count": 9,
   "metadata": {},
   "outputs": [],
   "source": [
    "def atualiza_dados_diarios():\n",
    "    hoje = datetime.date.today()\n",
    "    informe_covid = baixa_base_de_dados_casos_gerais(hoje.year, hoje.month, hoje.day - 1)\n",
    "\n",
    "    move_average_15_por_cidade = informe_covid.groupby(['MUN_ATENDIMENTO','DATA_CONFIRMACAO_DIVULGACAO'])[['CASO_CONFIRMADO_NO_DIA','OBITO']].sum().rolling(14).mean()[14:].round()\n",
    "    move_average_15_por_cidade.to_csv('../dados_recentes/cidades_mm15.csv', sep=';')\n",
    "\n",
    "    casos_por_cidade = informe_covid.groupby(['MUN_ATENDIMENTO','DATA_CONFIRMACAO_DIVULGACAO'])[['CASO_CONFIRMADO_NO_DIA','OBITO']].sum().round()\n",
    "    casos_por_cidade.to_csv('../dados_recentes/casos_por_cidade.csv', sep=';')    \n",
    "\n"
   ]
  },
  {
   "cell_type": "markdown",
   "metadata": {},
   "source": [
    "# Dados de Internações"
   ]
  },
  {
   "cell_type": "code",
   "execution_count": 10,
   "metadata": {},
   "outputs": [],
   "source": [
    "uri_internacoes = 'https://raw.githubusercontent.com/ConradBitt/covid_parana/main/dados_recentes/INTERNACOES_TRATAMENTO%20DE%20INFEC%C3%87%C3%83O%20PELO_CORONAVIRUS_COVID%2019.csv'"
   ]
  },
  {
   "cell_type": "code",
   "execution_count": 11,
   "metadata": {},
   "outputs": [],
   "source": [
    "internacoes = pd.read_csv(uri_internacoes,sep=';',\n",
    " skiprows = 4,\n",
    " skipfooter=14,\n",
    " thousands=',',\n",
    " engine='python', encoding='iso-8859-1')"
   ]
  },
  {
   "cell_type": "code",
   "execution_count": 12,
   "metadata": {},
   "outputs": [
    {
     "data": {
      "text/html": "<div>\n<style scoped>\n    .dataframe tbody tr th:only-of-type {\n        vertical-align: middle;\n    }\n\n    .dataframe tbody tr th {\n        vertical-align: top;\n    }\n\n    .dataframe thead th {\n        text-align: right;\n    }\n</style>\n<table border=\"1\" class=\"dataframe\">\n  <thead>\n    <tr style=\"text-align: right;\">\n      <th></th>\n      <th>Município</th>\n      <th>2020/Mar</th>\n      <th>2020/Abr</th>\n      <th>2020/Mai</th>\n      <th>2020/Jun</th>\n      <th>2020/Jul</th>\n      <th>2020/Ago</th>\n      <th>2020/Set</th>\n      <th>2020/Out</th>\n      <th>2020/Nov</th>\n      <th>2020/Dez</th>\n      <th>2021/Jan</th>\n      <th>Total</th>\n    </tr>\n  </thead>\n  <tbody>\n    <tr>\n      <th>0</th>\n      <td>410045 Altamira do Paraná</td>\n      <td>-</td>\n      <td>-</td>\n      <td>-</td>\n      <td>-</td>\n      <td>-</td>\n      <td>2</td>\n      <td>-</td>\n      <td>1</td>\n      <td>-</td>\n      <td>-</td>\n      <td>-</td>\n      <td>3</td>\n    </tr>\n    <tr>\n      <th>1</th>\n      <td>410060 Alto Paraná</td>\n      <td>-</td>\n      <td>-</td>\n      <td>-</td>\n      <td>-</td>\n      <td>-</td>\n      <td>-</td>\n      <td>-</td>\n      <td>-</td>\n      <td>-</td>\n      <td>-</td>\n      <td>1</td>\n      <td>1</td>\n    </tr>\n    <tr>\n      <th>2</th>\n      <td>410100 Ampére</td>\n      <td>-</td>\n      <td>-</td>\n      <td>-</td>\n      <td>-</td>\n      <td>2</td>\n      <td>3</td>\n      <td>6</td>\n      <td>6</td>\n      <td>6</td>\n      <td>6</td>\n      <td>13</td>\n      <td>42</td>\n    </tr>\n    <tr>\n      <th>3</th>\n      <td>410140 Apucarana</td>\n      <td>-</td>\n      <td>12</td>\n      <td>27</td>\n      <td>29</td>\n      <td>69</td>\n      <td>69</td>\n      <td>60</td>\n      <td>38</td>\n      <td>40</td>\n      <td>41</td>\n      <td>3</td>\n      <td>388</td>\n    </tr>\n    <tr>\n      <th>4</th>\n      <td>410150 Arapongas</td>\n      <td>-</td>\n      <td>7</td>\n      <td>26</td>\n      <td>43</td>\n      <td>118</td>\n      <td>85</td>\n      <td>60</td>\n      <td>14</td>\n      <td>19</td>\n      <td>110</td>\n      <td>84</td>\n      <td>566</td>\n    </tr>\n    <tr>\n      <th>...</th>\n      <td>...</td>\n      <td>...</td>\n      <td>...</td>\n      <td>...</td>\n      <td>...</td>\n      <td>...</td>\n      <td>...</td>\n      <td>...</td>\n      <td>...</td>\n      <td>...</td>\n      <td>...</td>\n      <td>...</td>\n      <td>...</td>\n    </tr>\n    <tr>\n      <th>123</th>\n      <td>412800 Ubiratã</td>\n      <td>-</td>\n      <td>-</td>\n      <td>-</td>\n      <td>1</td>\n      <td>-</td>\n      <td>-</td>\n      <td>5</td>\n      <td>6</td>\n      <td>8</td>\n      <td>26</td>\n      <td>17</td>\n      <td>63</td>\n    </tr>\n    <tr>\n      <th>124</th>\n      <td>412810 Umuarama</td>\n      <td>-</td>\n      <td>2</td>\n      <td>7</td>\n      <td>29</td>\n      <td>89</td>\n      <td>82</td>\n      <td>56</td>\n      <td>30</td>\n      <td>55</td>\n      <td>137</td>\n      <td>49</td>\n      <td>536</td>\n    </tr>\n    <tr>\n      <th>125</th>\n      <td>412820 União da Vitória</td>\n      <td>-</td>\n      <td>-</td>\n      <td>3</td>\n      <td>7</td>\n      <td>13</td>\n      <td>11</td>\n      <td>7</td>\n      <td>3</td>\n      <td>20</td>\n      <td>26</td>\n      <td>6</td>\n      <td>96</td>\n    </tr>\n    <tr>\n      <th>126</th>\n      <td>412855 Vera Cruz do Oeste</td>\n      <td>-</td>\n      <td>-</td>\n      <td>-</td>\n      <td>4</td>\n      <td>3</td>\n      <td>-</td>\n      <td>-</td>\n      <td>-</td>\n      <td>1</td>\n      <td>3</td>\n      <td>-</td>\n      <td>11</td>\n    </tr>\n    <tr>\n      <th>127</th>\n      <td>412860 Verê</td>\n      <td>-</td>\n      <td>-</td>\n      <td>1</td>\n      <td>2</td>\n      <td>4</td>\n      <td>1</td>\n      <td>4</td>\n      <td>2</td>\n      <td>8</td>\n      <td>13</td>\n      <td>6</td>\n      <td>41</td>\n    </tr>\n  </tbody>\n</table>\n<p>128 rows × 13 columns</p>\n</div>",
      "text/plain": "                     Município 2020/Mar 2020/Abr 2020/Mai 2020/Jun 2020/Jul  \\\n0    410045 Altamira do Paraná        -        -        -        -        -   \n1           410060 Alto Paraná        -        -        -        -        -   \n2                410100 Ampére        -        -        -        -        2   \n3             410140 Apucarana        -       12       27       29       69   \n4             410150 Arapongas        -        7       26       43      118   \n..                         ...      ...      ...      ...      ...      ...   \n123             412800 Ubiratã        -        -        -        1        -   \n124            412810 Umuarama        -        2        7       29       89   \n125    412820 União da Vitória        -        -        3        7       13   \n126  412855 Vera Cruz do Oeste        -        -        -        4        3   \n127                412860 Verê        -        -        1        2        4   \n\n    2020/Ago 2020/Set 2020/Out 2020/Nov 2020/Dez 2021/Jan  Total  \n0          2        -        1        -        -        -      3  \n1          -        -        -        -        -        1      1  \n2          3        6        6        6        6       13     42  \n3         69       60       38       40       41        3    388  \n4         85       60       14       19      110       84    566  \n..       ...      ...      ...      ...      ...      ...    ...  \n123        -        5        6        8       26       17     63  \n124       82       56       30       55      137       49    536  \n125       11        7        3       20       26        6     96  \n126        -        -        -        1        3        -     11  \n127        1        4        2        8       13        6     41  \n\n[128 rows x 13 columns]"
     },
     "execution_count": 12,
     "metadata": {},
     "output_type": "execute_result"
    }
   ],
   "source": [
    "internacoes"
   ]
  },
  {
   "cell_type": "code",
   "execution_count": 13,
   "metadata": {},
   "outputs": [],
   "source": [
    "def pre_processamento_dados_internacoes(dataframe):\n",
    "    from unidecode import unidecode\n",
    "    municipios = []\n",
    "    for municipio in dataframe['Município']:\n",
    "        municipios.append(unidecode(municipio[7:]).upper())\n",
    "\n",
    "    dataframe['Município'] = municipios\n",
    "    dataframe.drop('Total',axis='columns')\n",
    "    dataframe = dataframe.T.iloc[:-1]\n",
    "    index = [\n",
    "        'MUN_ATENDIMENTO', '2020-03', '2020-04',\n",
    "        '2020-05', '2020-06', '2020-07',\n",
    "        '2020-08', '2020-09', '2020-10', \n",
    "        '2020-11', '2020-12', '2021-01'\n",
    "        ]\n",
    "\n",
    "    dataframe.index = index\n",
    "    dataframe = dataframe.T\n",
    "    dataframe = dataframe.set_index('MUN_ATENDIMENTO')\n",
    "    dataframe = dataframe.replace('-',0).astype(int)\n",
    "    dataframe.columns = pd.to_datetime(dataframe.columns)\n",
    "    return dataframe.T\n",
    "\n"
   ]
  },
  {
   "cell_type": "code",
   "execution_count": 14,
   "metadata": {},
   "outputs": [],
   "source": [
    "def pre_processamento_dados_internacoes(dataframe):\n",
    "    from unidecode import unidecode\n",
    "    municipios = []\n",
    "    for municipio in dataframe['Município']:\n",
    "        municipios.append(unidecode(municipio[7:]).upper())\n",
    "\n",
    "    dataframe['Município'] = municipios\n",
    "    dataframe.drop('Total',axis='columns')\n",
    "    dataframe = dataframe.T.iloc[:-1]\n",
    "    index = [\n",
    "        'MUN_ATENDIMENTO', '2020-03', '2020-04',\n",
    "        '2020-05', '2020-06', '2020-07',\n",
    "        '2020-08', '2020-09', '2020-10', \n",
    "        '2020-11', '2020-12', '2021-01'\n",
    "        ]\n",
    "\n",
    "    dataframe.index = index\n",
    "    dataframe = dataframe.T\n",
    "    dataframe = dataframe.set_index('MUN_ATENDIMENTO')\n",
    "    dataframe = dataframe.replace('-',0).astype(int)\n",
    "    dataframe.columns = pd.to_datetime(dataframe.columns)\n",
    "    return dataframe.T\n",
    "\n",
    "def carrega_internacoes():\n",
    "    uri_internacoes = 'https://raw.githubusercontent.com/ConradBitt/covid_parana/main/dados_recentes/INTERNACOES_TRATAMENTO%20DE%20INFEC%C3%87%C3%83O%20PELO_CORONAVIRUS_COVID%2019.csv'\n",
    "    internacoes = pd.read_csv(uri_internacoes,sep=';',skiprows = 4,skipfooter=14,thousands=',', engine='python', encoding='iso-8859-1')\n",
    "    internacoes = pre_processamento_dados_internacoes(internacoes)\n",
    "\n",
    "    return internacoes"
   ]
  },
  {
   "cell_type": "code",
   "execution_count": 15,
   "metadata": {},
   "outputs": [],
   "source": [
    "internacoes = pre_processamento_dados_internacoes(internacoes)\n"
   ]
  },
  {
   "cell_type": "code",
   "execution_count": 19,
   "metadata": {},
   "outputs": [
    {
     "data": {
      "text/html": "<div>\n<style scoped>\n    .dataframe tbody tr th:only-of-type {\n        vertical-align: middle;\n    }\n\n    .dataframe tbody tr th {\n        vertical-align: top;\n    }\n\n    .dataframe thead th {\n        text-align: right;\n    }\n</style>\n<table border=\"1\" class=\"dataframe\">\n  <thead>\n    <tr style=\"text-align: right;\">\n      <th>MUN_ATENDIMENTO</th>\n      <th>PONTA GROSSA</th>\n    </tr>\n  </thead>\n  <tbody>\n    <tr>\n      <th>2020-03-01</th>\n      <td>0</td>\n    </tr>\n    <tr>\n      <th>2020-04-01</th>\n      <td>22</td>\n    </tr>\n    <tr>\n      <th>2020-05-01</th>\n      <td>21</td>\n    </tr>\n    <tr>\n      <th>2020-06-01</th>\n      <td>63</td>\n    </tr>\n    <tr>\n      <th>2020-07-01</th>\n      <td>126</td>\n    </tr>\n    <tr>\n      <th>2020-08-01</th>\n      <td>140</td>\n    </tr>\n    <tr>\n      <th>2020-09-01</th>\n      <td>145</td>\n    </tr>\n    <tr>\n      <th>2020-10-01</th>\n      <td>151</td>\n    </tr>\n    <tr>\n      <th>2020-11-01</th>\n      <td>167</td>\n    </tr>\n    <tr>\n      <th>2020-12-01</th>\n      <td>234</td>\n    </tr>\n    <tr>\n      <th>2021-01-01</th>\n      <td>204</td>\n    </tr>\n  </tbody>\n</table>\n</div>",
      "text/plain": "MUN_ATENDIMENTO  PONTA GROSSA\n2020-03-01                  0\n2020-04-01                 22\n2020-05-01                 21\n2020-06-01                 63\n2020-07-01                126\n2020-08-01                140\n2020-09-01                145\n2020-10-01                151\n2020-11-01                167\n2020-12-01                234\n2021-01-01                204"
     },
     "execution_count": 19,
     "metadata": {},
     "output_type": "execute_result"
    }
   ],
   "source": [
    "internacoes[['PONTA GROSSA']]"
   ]
  },
  {
   "cell_type": "code",
   "execution_count": 161,
   "metadata": {},
   "outputs": [],
   "source": [
    "def exibe_internacoes_cidade(dataframe, cidade):\n",
    "    cidade = cidade.upper()\n",
    "    internacoes = dataframe[cidade]\n",
    "    internacoes.rename_axis('Data', inplace=True)\n",
    "\n",
    "    fig = px.bar(dataframe[cidade], x=internacoes.index, y = f'{cidade}',\n",
    "     color=f'{cidade}', height=400, labels={f'{cidade}': 'Internados'})\n",
    "    fig.layout.title.text = f'Internações por COVID-19 - {cidade}'\n",
    "    fig.layout.xaxis.title.text = 'Mês de internação'\n",
    "    fig.layout.yaxis.title.text = ''\n",
    "    fig.update_coloraxes(\n",
    "        colorbar=dict(title='Internações'),\n",
    "        colorbar_title_font_size=22,\n",
    "        colorbar_title_side='top')\n",
    "\n",
    "    return fig"
   ]
  },
  {
   "cell_type": "code",
   "execution_count": 162,
   "metadata": {},
   "outputs": [
    {
     "data": {
      "application/vnd.plotly.v1+json": {
       "config": {
        "plotlyServerURL": "https://plot.ly"
       },
       "data": [
        {
         "alignmentgroup": "True",
         "hovertemplate": "Data=%{x}<br>Internados=%{marker.color}<extra></extra>",
         "legendgroup": "",
         "marker": {
          "color": [
           0,
           22,
           21,
           63,
           126,
           140,
           145,
           151,
           167,
           234,
           204
          ],
          "coloraxis": "coloraxis"
         },
         "name": "",
         "offsetgroup": "",
         "orientation": "v",
         "showlegend": false,
         "textposition": "auto",
         "type": "bar",
         "x": [
          "2020-03-01T00:00:00",
          "2020-04-01T00:00:00",
          "2020-05-01T00:00:00",
          "2020-06-01T00:00:00",
          "2020-07-01T00:00:00",
          "2020-08-01T00:00:00",
          "2020-09-01T00:00:00",
          "2020-10-01T00:00:00",
          "2020-11-01T00:00:00",
          "2020-12-01T00:00:00",
          "2021-01-01T00:00:00"
         ],
         "xaxis": "x",
         "y": [
          0,
          22,
          21,
          63,
          126,
          140,
          145,
          151,
          167,
          234,
          204
         ],
         "yaxis": "y"
        }
       ],
       "layout": {
        "barmode": "relative",
        "coloraxis": {
         "colorbar": {
          "title": {
           "font": {
            "size": 22
           },
           "side": "top",
           "text": "Internações"
          }
         },
         "colorscale": [
          [
           0,
           "#0d0887"
          ],
          [
           0.1111111111111111,
           "#46039f"
          ],
          [
           0.2222222222222222,
           "#7201a8"
          ],
          [
           0.3333333333333333,
           "#9c179e"
          ],
          [
           0.4444444444444444,
           "#bd3786"
          ],
          [
           0.5555555555555556,
           "#d8576b"
          ],
          [
           0.6666666666666666,
           "#ed7953"
          ],
          [
           0.7777777777777778,
           "#fb9f3a"
          ],
          [
           0.8888888888888888,
           "#fdca26"
          ],
          [
           1,
           "#f0f921"
          ]
         ]
        },
        "height": 400,
        "legend": {
         "tracegroupgap": 0
        },
        "margin": {
         "t": 60
        },
        "template": {
         "data": {
          "bar": [
           {
            "error_x": {
             "color": "#2a3f5f"
            },
            "error_y": {
             "color": "#2a3f5f"
            },
            "marker": {
             "line": {
              "color": "#E5ECF6",
              "width": 0.5
             }
            },
            "type": "bar"
           }
          ],
          "barpolar": [
           {
            "marker": {
             "line": {
              "color": "#E5ECF6",
              "width": 0.5
             }
            },
            "type": "barpolar"
           }
          ],
          "carpet": [
           {
            "aaxis": {
             "endlinecolor": "#2a3f5f",
             "gridcolor": "white",
             "linecolor": "white",
             "minorgridcolor": "white",
             "startlinecolor": "#2a3f5f"
            },
            "baxis": {
             "endlinecolor": "#2a3f5f",
             "gridcolor": "white",
             "linecolor": "white",
             "minorgridcolor": "white",
             "startlinecolor": "#2a3f5f"
            },
            "type": "carpet"
           }
          ],
          "choropleth": [
           {
            "colorbar": {
             "outlinewidth": 0,
             "ticks": ""
            },
            "type": "choropleth"
           }
          ],
          "contour": [
           {
            "colorbar": {
             "outlinewidth": 0,
             "ticks": ""
            },
            "colorscale": [
             [
              0,
              "#0d0887"
             ],
             [
              0.1111111111111111,
              "#46039f"
             ],
             [
              0.2222222222222222,
              "#7201a8"
             ],
             [
              0.3333333333333333,
              "#9c179e"
             ],
             [
              0.4444444444444444,
              "#bd3786"
             ],
             [
              0.5555555555555556,
              "#d8576b"
             ],
             [
              0.6666666666666666,
              "#ed7953"
             ],
             [
              0.7777777777777778,
              "#fb9f3a"
             ],
             [
              0.8888888888888888,
              "#fdca26"
             ],
             [
              1,
              "#f0f921"
             ]
            ],
            "type": "contour"
           }
          ],
          "contourcarpet": [
           {
            "colorbar": {
             "outlinewidth": 0,
             "ticks": ""
            },
            "type": "contourcarpet"
           }
          ],
          "heatmap": [
           {
            "colorbar": {
             "outlinewidth": 0,
             "ticks": ""
            },
            "colorscale": [
             [
              0,
              "#0d0887"
             ],
             [
              0.1111111111111111,
              "#46039f"
             ],
             [
              0.2222222222222222,
              "#7201a8"
             ],
             [
              0.3333333333333333,
              "#9c179e"
             ],
             [
              0.4444444444444444,
              "#bd3786"
             ],
             [
              0.5555555555555556,
              "#d8576b"
             ],
             [
              0.6666666666666666,
              "#ed7953"
             ],
             [
              0.7777777777777778,
              "#fb9f3a"
             ],
             [
              0.8888888888888888,
              "#fdca26"
             ],
             [
              1,
              "#f0f921"
             ]
            ],
            "type": "heatmap"
           }
          ],
          "heatmapgl": [
           {
            "colorbar": {
             "outlinewidth": 0,
             "ticks": ""
            },
            "colorscale": [
             [
              0,
              "#0d0887"
             ],
             [
              0.1111111111111111,
              "#46039f"
             ],
             [
              0.2222222222222222,
              "#7201a8"
             ],
             [
              0.3333333333333333,
              "#9c179e"
             ],
             [
              0.4444444444444444,
              "#bd3786"
             ],
             [
              0.5555555555555556,
              "#d8576b"
             ],
             [
              0.6666666666666666,
              "#ed7953"
             ],
             [
              0.7777777777777778,
              "#fb9f3a"
             ],
             [
              0.8888888888888888,
              "#fdca26"
             ],
             [
              1,
              "#f0f921"
             ]
            ],
            "type": "heatmapgl"
           }
          ],
          "histogram": [
           {
            "marker": {
             "colorbar": {
              "outlinewidth": 0,
              "ticks": ""
             }
            },
            "type": "histogram"
           }
          ],
          "histogram2d": [
           {
            "colorbar": {
             "outlinewidth": 0,
             "ticks": ""
            },
            "colorscale": [
             [
              0,
              "#0d0887"
             ],
             [
              0.1111111111111111,
              "#46039f"
             ],
             [
              0.2222222222222222,
              "#7201a8"
             ],
             [
              0.3333333333333333,
              "#9c179e"
             ],
             [
              0.4444444444444444,
              "#bd3786"
             ],
             [
              0.5555555555555556,
              "#d8576b"
             ],
             [
              0.6666666666666666,
              "#ed7953"
             ],
             [
              0.7777777777777778,
              "#fb9f3a"
             ],
             [
              0.8888888888888888,
              "#fdca26"
             ],
             [
              1,
              "#f0f921"
             ]
            ],
            "type": "histogram2d"
           }
          ],
          "histogram2dcontour": [
           {
            "colorbar": {
             "outlinewidth": 0,
             "ticks": ""
            },
            "colorscale": [
             [
              0,
              "#0d0887"
             ],
             [
              0.1111111111111111,
              "#46039f"
             ],
             [
              0.2222222222222222,
              "#7201a8"
             ],
             [
              0.3333333333333333,
              "#9c179e"
             ],
             [
              0.4444444444444444,
              "#bd3786"
             ],
             [
              0.5555555555555556,
              "#d8576b"
             ],
             [
              0.6666666666666666,
              "#ed7953"
             ],
             [
              0.7777777777777778,
              "#fb9f3a"
             ],
             [
              0.8888888888888888,
              "#fdca26"
             ],
             [
              1,
              "#f0f921"
             ]
            ],
            "type": "histogram2dcontour"
           }
          ],
          "mesh3d": [
           {
            "colorbar": {
             "outlinewidth": 0,
             "ticks": ""
            },
            "type": "mesh3d"
           }
          ],
          "parcoords": [
           {
            "line": {
             "colorbar": {
              "outlinewidth": 0,
              "ticks": ""
             }
            },
            "type": "parcoords"
           }
          ],
          "pie": [
           {
            "automargin": true,
            "type": "pie"
           }
          ],
          "scatter": [
           {
            "marker": {
             "colorbar": {
              "outlinewidth": 0,
              "ticks": ""
             }
            },
            "type": "scatter"
           }
          ],
          "scatter3d": [
           {
            "line": {
             "colorbar": {
              "outlinewidth": 0,
              "ticks": ""
             }
            },
            "marker": {
             "colorbar": {
              "outlinewidth": 0,
              "ticks": ""
             }
            },
            "type": "scatter3d"
           }
          ],
          "scattercarpet": [
           {
            "marker": {
             "colorbar": {
              "outlinewidth": 0,
              "ticks": ""
             }
            },
            "type": "scattercarpet"
           }
          ],
          "scattergeo": [
           {
            "marker": {
             "colorbar": {
              "outlinewidth": 0,
              "ticks": ""
             }
            },
            "type": "scattergeo"
           }
          ],
          "scattergl": [
           {
            "marker": {
             "colorbar": {
              "outlinewidth": 0,
              "ticks": ""
             }
            },
            "type": "scattergl"
           }
          ],
          "scattermapbox": [
           {
            "marker": {
             "colorbar": {
              "outlinewidth": 0,
              "ticks": ""
             }
            },
            "type": "scattermapbox"
           }
          ],
          "scatterpolar": [
           {
            "marker": {
             "colorbar": {
              "outlinewidth": 0,
              "ticks": ""
             }
            },
            "type": "scatterpolar"
           }
          ],
          "scatterpolargl": [
           {
            "marker": {
             "colorbar": {
              "outlinewidth": 0,
              "ticks": ""
             }
            },
            "type": "scatterpolargl"
           }
          ],
          "scatterternary": [
           {
            "marker": {
             "colorbar": {
              "outlinewidth": 0,
              "ticks": ""
             }
            },
            "type": "scatterternary"
           }
          ],
          "surface": [
           {
            "colorbar": {
             "outlinewidth": 0,
             "ticks": ""
            },
            "colorscale": [
             [
              0,
              "#0d0887"
             ],
             [
              0.1111111111111111,
              "#46039f"
             ],
             [
              0.2222222222222222,
              "#7201a8"
             ],
             [
              0.3333333333333333,
              "#9c179e"
             ],
             [
              0.4444444444444444,
              "#bd3786"
             ],
             [
              0.5555555555555556,
              "#d8576b"
             ],
             [
              0.6666666666666666,
              "#ed7953"
             ],
             [
              0.7777777777777778,
              "#fb9f3a"
             ],
             [
              0.8888888888888888,
              "#fdca26"
             ],
             [
              1,
              "#f0f921"
             ]
            ],
            "type": "surface"
           }
          ],
          "table": [
           {
            "cells": {
             "fill": {
              "color": "#EBF0F8"
             },
             "line": {
              "color": "white"
             }
            },
            "header": {
             "fill": {
              "color": "#C8D4E3"
             },
             "line": {
              "color": "white"
             }
            },
            "type": "table"
           }
          ]
         },
         "layout": {
          "annotationdefaults": {
           "arrowcolor": "#2a3f5f",
           "arrowhead": 0,
           "arrowwidth": 1
          },
          "coloraxis": {
           "colorbar": {
            "outlinewidth": 0,
            "ticks": ""
           }
          },
          "colorscale": {
           "diverging": [
            [
             0,
             "#8e0152"
            ],
            [
             0.1,
             "#c51b7d"
            ],
            [
             0.2,
             "#de77ae"
            ],
            [
             0.3,
             "#f1b6da"
            ],
            [
             0.4,
             "#fde0ef"
            ],
            [
             0.5,
             "#f7f7f7"
            ],
            [
             0.6,
             "#e6f5d0"
            ],
            [
             0.7,
             "#b8e186"
            ],
            [
             0.8,
             "#7fbc41"
            ],
            [
             0.9,
             "#4d9221"
            ],
            [
             1,
             "#276419"
            ]
           ],
           "sequential": [
            [
             0,
             "#0d0887"
            ],
            [
             0.1111111111111111,
             "#46039f"
            ],
            [
             0.2222222222222222,
             "#7201a8"
            ],
            [
             0.3333333333333333,
             "#9c179e"
            ],
            [
             0.4444444444444444,
             "#bd3786"
            ],
            [
             0.5555555555555556,
             "#d8576b"
            ],
            [
             0.6666666666666666,
             "#ed7953"
            ],
            [
             0.7777777777777778,
             "#fb9f3a"
            ],
            [
             0.8888888888888888,
             "#fdca26"
            ],
            [
             1,
             "#f0f921"
            ]
           ],
           "sequentialminus": [
            [
             0,
             "#0d0887"
            ],
            [
             0.1111111111111111,
             "#46039f"
            ],
            [
             0.2222222222222222,
             "#7201a8"
            ],
            [
             0.3333333333333333,
             "#9c179e"
            ],
            [
             0.4444444444444444,
             "#bd3786"
            ],
            [
             0.5555555555555556,
             "#d8576b"
            ],
            [
             0.6666666666666666,
             "#ed7953"
            ],
            [
             0.7777777777777778,
             "#fb9f3a"
            ],
            [
             0.8888888888888888,
             "#fdca26"
            ],
            [
             1,
             "#f0f921"
            ]
           ]
          },
          "colorway": [
           "#636efa",
           "#EF553B",
           "#00cc96",
           "#ab63fa",
           "#FFA15A",
           "#19d3f3",
           "#FF6692",
           "#B6E880",
           "#FF97FF",
           "#FECB52"
          ],
          "font": {
           "color": "#2a3f5f"
          },
          "geo": {
           "bgcolor": "white",
           "lakecolor": "white",
           "landcolor": "#E5ECF6",
           "showlakes": true,
           "showland": true,
           "subunitcolor": "white"
          },
          "hoverlabel": {
           "align": "left"
          },
          "hovermode": "closest",
          "mapbox": {
           "style": "light"
          },
          "paper_bgcolor": "white",
          "plot_bgcolor": "#E5ECF6",
          "polar": {
           "angularaxis": {
            "gridcolor": "white",
            "linecolor": "white",
            "ticks": ""
           },
           "bgcolor": "#E5ECF6",
           "radialaxis": {
            "gridcolor": "white",
            "linecolor": "white",
            "ticks": ""
           }
          },
          "scene": {
           "xaxis": {
            "backgroundcolor": "#E5ECF6",
            "gridcolor": "white",
            "gridwidth": 2,
            "linecolor": "white",
            "showbackground": true,
            "ticks": "",
            "zerolinecolor": "white"
           },
           "yaxis": {
            "backgroundcolor": "#E5ECF6",
            "gridcolor": "white",
            "gridwidth": 2,
            "linecolor": "white",
            "showbackground": true,
            "ticks": "",
            "zerolinecolor": "white"
           },
           "zaxis": {
            "backgroundcolor": "#E5ECF6",
            "gridcolor": "white",
            "gridwidth": 2,
            "linecolor": "white",
            "showbackground": true,
            "ticks": "",
            "zerolinecolor": "white"
           }
          },
          "shapedefaults": {
           "line": {
            "color": "#2a3f5f"
           }
          },
          "ternary": {
           "aaxis": {
            "gridcolor": "white",
            "linecolor": "white",
            "ticks": ""
           },
           "baxis": {
            "gridcolor": "white",
            "linecolor": "white",
            "ticks": ""
           },
           "bgcolor": "#E5ECF6",
           "caxis": {
            "gridcolor": "white",
            "linecolor": "white",
            "ticks": ""
           }
          },
          "title": {
           "x": 0.05
          },
          "xaxis": {
           "automargin": true,
           "gridcolor": "white",
           "linecolor": "white",
           "ticks": "",
           "title": {
            "standoff": 15
           },
           "zerolinecolor": "white",
           "zerolinewidth": 2
          },
          "yaxis": {
           "automargin": true,
           "gridcolor": "white",
           "linecolor": "white",
           "ticks": "",
           "title": {
            "standoff": 15
           },
           "zerolinecolor": "white",
           "zerolinewidth": 2
          }
         }
        },
        "title": {
         "text": "Internações por COVID-19 - PONTA GROSSA"
        },
        "xaxis": {
         "anchor": "y",
         "domain": [
          0,
          1
         ],
         "title": {
          "text": "Mês de internação"
         }
        },
        "yaxis": {
         "anchor": "x",
         "domain": [
          0,
          1
         ],
         "title": {
          "text": ""
         }
        }
       }
      }
     },
     "metadata": {},
     "output_type": "display_data"
    }
   ],
   "source": [
    "exibe_internacoes_cidade(internacoes, 'Ponta Grossa').show()"
   ]
  },
  {
   "cell_type": "code",
   "execution_count": 122,
   "metadata": {},
   "outputs": [
    {
     "data": {
      "text/plain": "2020-03-01      0\n2020-04-01     22\n2020-05-01     21\n2020-06-01     63\n2020-07-01    126\n2020-08-01    140\n2020-09-01    145\n2020-10-01    151\n2020-11-01    167\n2020-12-01    234\n2021-01-01    204\nName: PONTA GROSSA, dtype: int64"
     },
     "execution_count": 122,
     "metadata": {},
     "output_type": "execute_result"
    }
   ],
   "source": [
    "internacoes['PONTA GROSSA']"
   ]
  },
  {
   "cell_type": "code",
   "execution_count": 5,
   "metadata": {},
   "outputs": [],
   "source": [
    "import datetime\n",
    "import pandas as pd\n",
    "\n",
    "class InformeCovid():\n",
    "    \"\"\"\n",
    "    Esta classe tem como objetivo carregar os informes\n",
    "    da covid do estado do paraná. Ao utilizar a função\n",
    "    carrega_informe() o resultado será um dataframe \n",
    "    com o informe do dia, mes e ano.\n",
    "\n",
    "    Use o método carrega_informe(): para carregar todo o\n",
    "        informe do paraná.\n",
    "    \n",
    "    OU\n",
    "\n",
    "    Use o método carrega_informe_mm(): para carregar as \n",
    "    médias móveis da cidade do paraná. É possível modificar\n",
    "    o parâmetro move_average para mudar a janela.\n",
    "    \"\"\"\n",
    "    def __init__(self):\n",
    "        pass\n",
    "\n",
    "    def carrega_informe(self, data):\n",
    "        ano = data.year\n",
    "        mes = data.month\n",
    "        dia = data.day - 3\n",
    "\n",
    "        self._data_informe = datetime.date(ano, mes, dia)\n",
    "        self.dia, self.mes, self.ano = self.__ajusta_data(self._data_informe)\n",
    "        self.__uri = self.__ajusta_uri(self.dia, self.mes, self.ano)\n",
    "\n",
    "        try:\n",
    "            dados_informe_covid = pd.read_csv(self.__uri, sep=';')\n",
    "            dados_informe_covid = self.__pre_processamento(dados_informe_covid)\n",
    "            return dados_informe_covid\n",
    "        except:\n",
    "            raise Exception(f'Não Tem dados disponíveis neste dia.\\n{self.__uri}')\n",
    "\n",
    "    def carrega_informe_mm(self, data, janela = 14):\n",
    "        dados = self.carrega_informe(data)\n",
    "        dados = self.__pre_processamento(dados)\n",
    "        dados_agrupados = dados.groupby(['MUN_ATENDIMENTO','DATA_CONFIRMACAO_DIVULGACAO'])\n",
    "\n",
    "        self.informe_mm = dados_agrupados[\n",
    "            ['CASO_CONFIRMADO',\n",
    "            'OBITO']\n",
    "            ].sum().rolling(janela).mean()[janela:]\n",
    "        \n",
    "        return self.informe_mm\n",
    "\n",
    "\n",
    "\n",
    "    def __ajusta_uri(self, dia, mes, ano):\n",
    "        dia = str(dia)\n",
    "        mes = str(mes)\n",
    "        ano = str(ano)\n",
    "\n",
    "        if dia in ['1','2','3','4','6','7','8','9']:\n",
    "            dia = '0' + dia\n",
    "\n",
    "        if ano == '2020':\n",
    "            arquivo = f'INFORME_EPIDEMIOLOGICO_{dia}_{mes}_GERAL.csv'\n",
    "        elif ano == '2021':\n",
    "            arquivo = f'informe_epidemiologico_{dia}_{mes}_{ano}_geral.csv' \n",
    "\n",
    "        ano_mes = ano + '-' + mes\n",
    "        dominio = 'https://www.saude.pr.gov.br'\n",
    "        caminho = f'/sites/default/arquivos_restritos/files/documento/{ano_mes}/'   \n",
    "        \n",
    "        uri = dominio + caminho + arquivo \n",
    "\n",
    "        return uri\n",
    "\n",
    "    \n",
    "    def __ajusta_data(self, data_informe):\n",
    "        ano = str(data_informe.year)\n",
    "        mes = str(data_informe.month)\n",
    "        dia = str(data_informe.day)\n",
    "        \n",
    "        if mes != 10 and mes != 11 and mes != 12:\n",
    "            mes = '0'+str(data_informe.month)\n",
    "        else:\n",
    "            mes = str(data_informe.month)\n",
    "\n",
    "        if dia in [1,2,3,4,6,7,8,9]:\n",
    "            dia = '0'+str(data_informe.day)\n",
    "        \n",
    "        return dia, mes, ano\n",
    "\n",
    "\n",
    "    def __pre_processamento(self, dataframe):\n",
    "        \"\"\"\n",
    "        Esta função faz o pré processamento dos dados\n",
    "        - converte_variaveis_em_datas\n",
    "        - tira_variaveis_IBGE\n",
    "        - cria_variavel_caso_confirmado_no_dia(dataframe)\n",
    "        - replace_nas_variaveis_obito_status(dataframe)\n",
    "        - usa 'DATA_CONFIRMACAO_DIVULGACAO' como indice\n",
    "        - ordena pelo índice\n",
    "\n",
    "        retorna o dataframe.\n",
    "        \"\"\"\n",
    "\n",
    "        dataframe = self.__converte_variaveis_em_datas(dataframe)\n",
    "        dataframe = self.__tira_variaveis_IBGE(dataframe)\n",
    "        dataframe =  self.__cria_variavel_caso_confirmado(dataframe)\n",
    "        dataframe = self.__replace_nas_variaveis_obito_status(dataframe)\n",
    "        dataframe = dataframe.set_index('DATA_CONFIRMACAO_DIVULGACAO')\n",
    "        dataframe = dataframe.sort_index()\n",
    "\n",
    "        return dataframe\n",
    "        \n",
    "\n",
    "    def __converte_variaveis_em_datas(self, dataframe):\n",
    "        for variavel in dataframe.columns:\n",
    "            if 'DATA' in variavel:\n",
    "                try:\n",
    "                    dataframe[variavel] = pd.to_datetime(dataframe[variavel], format='%d/%m/%Y')\n",
    "                \n",
    "                except:\n",
    "                    print(f'Variável \"{variavel}\" contém um erro e conversão/formatação')\n",
    "                    pass\n",
    "            else:\n",
    "                pass \n",
    "        return dataframe\n",
    "\n",
    "\n",
    "    def __tira_variaveis_IBGE(self, dataframe):\n",
    "        dataframe = dataframe.drop(['IBGE_RES_PR','IBGE_ATEND_PR'], axis='columns')\n",
    "        return dataframe\n",
    "\n",
    "\n",
    "    def __cria_variavel_caso_confirmado(self, dataframe):\n",
    "        dataframe['CASO_CONFIRMADO'] = 1\n",
    "        return dataframe\n",
    "\n",
    "\n",
    "    def __replace_nas_variaveis_obito_status(self, dataframe):\n",
    "\n",
    "        if 'OBITO' in dataframe.columns:\n",
    "            dataframe['OBITO'] = dataframe['OBITO'].replace('SIM','Sim')\n",
    "            dataframe['OBITO'] = dataframe['OBITO'].replace('Não','Nao')\n",
    "        \n",
    "            dataframe['OBITO'] = dataframe['OBITO'].replace('Sim',1)\n",
    "            dataframe['OBITO'] = dataframe['OBITO'].replace('Nao',0)\n",
    "        else:\n",
    "            pass\n",
    "        if 'STATUS' in dataframe.columns:\n",
    "            dataframe['STATUS'] = dataframe['STATUS'].replace('Recuperado','recuperado')\n",
    "            dataframe['STATUS'] = dataframe['STATUS'].replace('recuperado', 1)\n",
    "            dataframe['STATUS'] = dataframe['STATUS'].replace('nan', 0)\n",
    "        else:\n",
    "            pass\n",
    "        return dataframe\n",
    "\n",
    "\n",
    "    def atualiza_dados_diarios(hoje):\n",
    "        informe_covid = self.carrega_informe(hoje.year, hoje.month, hoje.day - 1)\n",
    "\n",
    "        move_average_15_por_cidade = informe_covid.groupby(['MUN_ATENDIMENTO','DATA_CONFIRMACAO_DIVULGACAO'])[['CASO_CONFIRMADO_NO_DIA','OBITO']].sum().rolling(14).mean()[14:].round()\n",
    "        move_average_15_por_cidade.to_csv('../dados_recentes/cidades_mm15.csv', sep=';')\n",
    "\n",
    "        casos_por_cidade = informe_covid.groupby(['MUN_ATENDIMENTO','DATA_CONFIRMACAO_DIVULGACAO'])[['CASO_CONFIRMADO_NO_DIA','OBITO']].sum().round()\n",
    "        casos_por_cidade.to_csv('../dados_recentes/casos_por_cidade.csv', sep=';')    \n",
    "\n",
    "\n",
    "\n",
    "\n",
    "\n",
    "\n",
    "        "
   ]
  },
  {
   "cell_type": "code",
   "execution_count": 6,
   "metadata": {},
   "outputs": [],
   "source": [
    "informe = InformeCovid()"
   ]
  },
  {
   "cell_type": "code",
   "execution_count": 11,
   "metadata": {},
   "outputs": [
    {
     "name": "stdout",
     "output_type": "stream",
     "text": [
      "Variável \"DATA_INICIO_SINTOMAS\" contém um erro e conversão/formatação\n"
     ]
    }
   ],
   "source": [
    "hoje = datetime.date.today()\n",
    "dados = informe.carrega_informe(hoje)"
   ]
  },
  {
   "cell_type": "code",
   "execution_count": 12,
   "metadata": {},
   "outputs": [
    {
     "data": {
      "text/html": "<div>\n<style scoped>\n    .dataframe tbody tr th:only-of-type {\n        vertical-align: middle;\n    }\n\n    .dataframe tbody tr th {\n        vertical-align: top;\n    }\n\n    .dataframe thead th {\n        text-align: right;\n    }\n</style>\n<table border=\"1\" class=\"dataframe\">\n  <thead>\n    <tr style=\"text-align: right;\">\n      <th></th>\n      <th>SEXO</th>\n      <th>IDADE_ORIGINAL</th>\n      <th>MUN_RESIDENCIA</th>\n      <th>MUN_ATENDIMENTO</th>\n      <th>LABORATORIO</th>\n      <th>DATA_DIAGNOSTICO</th>\n      <th>DATA_INICIO_SINTOMAS</th>\n      <th>OBITO</th>\n      <th>DATA_OBITO</th>\n      <th>DATA_OBITO_DIVULGACAO</th>\n      <th>STATUS</th>\n      <th>DATA_RECUPERADO_DIVULGACAO</th>\n      <th>FONTE_DADO_RECUPERADO</th>\n      <th>CASO_CONFIRMADO</th>\n    </tr>\n    <tr>\n      <th>DATA_CONFIRMACAO_DIVULGACAO</th>\n      <th></th>\n      <th></th>\n      <th></th>\n      <th></th>\n      <th></th>\n      <th></th>\n      <th></th>\n      <th></th>\n      <th></th>\n      <th></th>\n      <th></th>\n      <th></th>\n      <th></th>\n      <th></th>\n    </tr>\n  </thead>\n  <tbody>\n    <tr>\n      <th>2020-03-12</th>\n      <td>F</td>\n      <td>26</td>\n      <td>CURITIBA</td>\n      <td>CURITIBA</td>\n      <td>Genoprimer</td>\n      <td>2020-03-18</td>\n      <td>15/03/2020</td>\n      <td>0.0</td>\n      <td>NaT</td>\n      <td>NaT</td>\n      <td>1.0</td>\n      <td>NaT</td>\n      <td>NaN</td>\n      <td>1</td>\n    </tr>\n    <tr>\n      <th>2020-03-12</th>\n      <td>M</td>\n      <td>15</td>\n      <td>CURITIBA</td>\n      <td>CURITIBA</td>\n      <td>LACEN</td>\n      <td>2020-03-12</td>\n      <td>08/03/2020</td>\n      <td>0.0</td>\n      <td>NaT</td>\n      <td>NaT</td>\n      <td>1.0</td>\n      <td>NaT</td>\n      <td>NaN</td>\n      <td>1</td>\n    </tr>\n    <tr>\n      <th>2020-03-12</th>\n      <td>F</td>\n      <td>47</td>\n      <td>CIANORTE</td>\n      <td>CIANORTE</td>\n      <td>LACEN</td>\n      <td>2020-03-12</td>\n      <td>NaN</td>\n      <td>0.0</td>\n      <td>NaT</td>\n      <td>NaT</td>\n      <td>1.0</td>\n      <td>NaT</td>\n      <td>Notificações</td>\n      <td>1</td>\n    </tr>\n    <tr>\n      <th>2020-03-12</th>\n      <td>M</td>\n      <td>43</td>\n      <td>CURITIBA</td>\n      <td>CURITIBA</td>\n      <td>LACEN</td>\n      <td>2020-03-12</td>\n      <td>07/03/2020</td>\n      <td>0.0</td>\n      <td>NaT</td>\n      <td>NaT</td>\n      <td>1.0</td>\n      <td>NaT</td>\n      <td>NaN</td>\n      <td>1</td>\n    </tr>\n    <tr>\n      <th>2020-03-12</th>\n      <td>M</td>\n      <td>28</td>\n      <td>SAO PAULO/SP</td>\n      <td>CURITIBA</td>\n      <td>Genoprimer</td>\n      <td>2020-03-16</td>\n      <td>NaN</td>\n      <td>0.0</td>\n      <td>NaT</td>\n      <td>NaT</td>\n      <td>1.0</td>\n      <td>2020-08-05</td>\n      <td>SMS</td>\n      <td>1</td>\n    </tr>\n  </tbody>\n</table>\n</div>",
      "text/plain": "                            SEXO  IDADE_ORIGINAL MUN_RESIDENCIA  \\\nDATA_CONFIRMACAO_DIVULGACAO                                       \n2020-03-12                     F              26       CURITIBA   \n2020-03-12                     M              15       CURITIBA   \n2020-03-12                     F              47       CIANORTE   \n2020-03-12                     M              43       CURITIBA   \n2020-03-12                     M              28   SAO PAULO/SP   \n\n                            MUN_ATENDIMENTO LABORATORIO DATA_DIAGNOSTICO  \\\nDATA_CONFIRMACAO_DIVULGACAO                                                \n2020-03-12                         CURITIBA  Genoprimer       2020-03-18   \n2020-03-12                         CURITIBA       LACEN       2020-03-12   \n2020-03-12                         CIANORTE       LACEN       2020-03-12   \n2020-03-12                         CURITIBA       LACEN       2020-03-12   \n2020-03-12                         CURITIBA  Genoprimer       2020-03-16   \n\n                            DATA_INICIO_SINTOMAS  OBITO DATA_OBITO  \\\nDATA_CONFIRMACAO_DIVULGACAO                                          \n2020-03-12                            15/03/2020    0.0        NaT   \n2020-03-12                            08/03/2020    0.0        NaT   \n2020-03-12                                   NaN    0.0        NaT   \n2020-03-12                            07/03/2020    0.0        NaT   \n2020-03-12                                   NaN    0.0        NaT   \n\n                            DATA_OBITO_DIVULGACAO  STATUS  \\\nDATA_CONFIRMACAO_DIVULGACAO                                 \n2020-03-12                                    NaT     1.0   \n2020-03-12                                    NaT     1.0   \n2020-03-12                                    NaT     1.0   \n2020-03-12                                    NaT     1.0   \n2020-03-12                                    NaT     1.0   \n\n                            DATA_RECUPERADO_DIVULGACAO FONTE_DADO_RECUPERADO  \\\nDATA_CONFIRMACAO_DIVULGACAO                                                    \n2020-03-12                                         NaT                   NaN   \n2020-03-12                                         NaT                   NaN   \n2020-03-12                                         NaT          Notificações   \n2020-03-12                                         NaT                   NaN   \n2020-03-12                                  2020-08-05                   SMS   \n\n                             CASO_CONFIRMADO  \nDATA_CONFIRMACAO_DIVULGACAO                   \n2020-03-12                                 1  \n2020-03-12                                 1  \n2020-03-12                                 1  \n2020-03-12                                 1  \n2020-03-12                                 1  "
     },
     "execution_count": 12,
     "metadata": {},
     "output_type": "execute_result"
    }
   ],
   "source": [
    "dados.head()"
   ]
  },
  {
   "cell_type": "code",
   "execution_count": 13,
   "metadata": {},
   "outputs": [
    {
     "name": "stderr",
     "output_type": "stream",
     "text": [
      "INFO:numexpr.utils:NumExpr defaulting to 4 threads.\n"
     ]
    }
   ],
   "source": [
    "PG = dados.query('MUN_ATENDIMENTO == \"PONTA GROSSA\"')"
   ]
  },
  {
   "cell_type": "code",
   "execution_count": 20,
   "metadata": {},
   "outputs": [
    {
     "data": {
      "text/html": "<div>\n<style scoped>\n    .dataframe tbody tr th:only-of-type {\n        vertical-align: middle;\n    }\n\n    .dataframe tbody tr th {\n        vertical-align: top;\n    }\n\n    .dataframe thead th {\n        text-align: right;\n    }\n</style>\n<table border=\"1\" class=\"dataframe\">\n  <thead>\n    <tr style=\"text-align: right;\">\n      <th></th>\n      <th>DATA_CONFIRMACAO_DIVULGACAO</th>\n      <th>IDADE_ORIGINAL</th>\n      <th>OBITO</th>\n      <th>STATUS</th>\n      <th>CASO_CONFIRMADO</th>\n    </tr>\n  </thead>\n  <tbody>\n    <tr>\n      <th>0</th>\n      <td>2020-03-21</td>\n      <td>33</td>\n      <td>0.0</td>\n      <td>1.0</td>\n      <td>1</td>\n    </tr>\n    <tr>\n      <th>1</th>\n      <td>2020-03-25</td>\n      <td>91</td>\n      <td>0.0</td>\n      <td>2.0</td>\n      <td>2</td>\n    </tr>\n    <tr>\n      <th>2</th>\n      <td>2020-04-04</td>\n      <td>125</td>\n      <td>0.0</td>\n      <td>2.0</td>\n      <td>2</td>\n    </tr>\n    <tr>\n      <th>3</th>\n      <td>2020-04-14</td>\n      <td>61</td>\n      <td>0.0</td>\n      <td>1.0</td>\n      <td>1</td>\n    </tr>\n    <tr>\n      <th>4</th>\n      <td>2020-04-18</td>\n      <td>62</td>\n      <td>0.0</td>\n      <td>1.0</td>\n      <td>1</td>\n    </tr>\n    <tr>\n      <th>...</th>\n      <td>...</td>\n      <td>...</td>\n      <td>...</td>\n      <td>...</td>\n      <td>...</td>\n    </tr>\n    <tr>\n      <th>310</th>\n      <td>2021-03-06</td>\n      <td>14567</td>\n      <td>4.0</td>\n      <td>5.0</td>\n      <td>344</td>\n    </tr>\n    <tr>\n      <th>311</th>\n      <td>2021-03-07</td>\n      <td>4922</td>\n      <td>1.0</td>\n      <td>12.0</td>\n      <td>121</td>\n    </tr>\n    <tr>\n      <th>312</th>\n      <td>2021-03-08</td>\n      <td>1542</td>\n      <td>0.0</td>\n      <td>1.0</td>\n      <td>37</td>\n    </tr>\n    <tr>\n      <th>313</th>\n      <td>2021-03-09</td>\n      <td>7108</td>\n      <td>8.0</td>\n      <td>6.0</td>\n      <td>157</td>\n    </tr>\n    <tr>\n      <th>314</th>\n      <td>2021-03-10</td>\n      <td>11732</td>\n      <td>1.0</td>\n      <td>0.0</td>\n      <td>285</td>\n    </tr>\n  </tbody>\n</table>\n<p>315 rows × 5 columns</p>\n</div>",
      "text/plain": "    DATA_CONFIRMACAO_DIVULGACAO  IDADE_ORIGINAL  OBITO  STATUS  \\\n0                    2020-03-21              33    0.0     1.0   \n1                    2020-03-25              91    0.0     2.0   \n2                    2020-04-04             125    0.0     2.0   \n3                    2020-04-14              61    0.0     1.0   \n4                    2020-04-18              62    0.0     1.0   \n..                          ...             ...    ...     ...   \n310                  2021-03-06           14567    4.0     5.0   \n311                  2021-03-07            4922    1.0    12.0   \n312                  2021-03-08            1542    0.0     1.0   \n313                  2021-03-09            7108    8.0     6.0   \n314                  2021-03-10           11732    1.0     0.0   \n\n     CASO_CONFIRMADO  \n0                  1  \n1                  2  \n2                  2  \n3                  1  \n4                  1  \n..               ...  \n310              344  \n311              121  \n312               37  \n313              157  \n314              285  \n\n[315 rows x 5 columns]"
     },
     "execution_count": 20,
     "metadata": {},
     "output_type": "execute_result"
    }
   ],
   "source": [
    "PG.groupby(['DATA_CONFIRMACAO_DIVULGACAO'], as_index=True).sum().reset_index()"
   ]
  },
  {
   "cell_type": "markdown",
   "metadata": {},
   "source": [
    "# Número de Habitantes"
   ]
  },
  {
   "cell_type": "code",
   "execution_count": 135,
   "metadata": {},
   "outputs": [],
   "source": [
    "populacao_pr = \"\"\"\n",
    "Posição \tMunicípio \tPopulação\n",
    "1 \tCuritiba \t1 948 626\n",
    "2 \tLondrina \t575 377\n",
    "3 \tMaringá \t430 157\n",
    "4 \tPonta Grossa \t355 336\n",
    "5 \tCascavel \t332 333\n",
    "6 \tSão José dos Pinhais \t329 058\n",
    "7 \tFoz do Iguaçu \t258 248\n",
    "8 \tColombo \t246 540\n",
    "9 \tGuarapuava \t182 644\n",
    "10 \tParanaguá \t156 174\n",
    "11 \tAraucária \t146 214\n",
    "12 \tToledo \t142 645\n",
    "13 \tApucarana \t136 234\n",
    "14 \tCampo Largo \t133 865\n",
    "15 \tPinhais \t133 490\n",
    "16 \tArapongas \t124 810\n",
    "17 \tAlmirante Tamandaré \t120 041\n",
    "18 \tPiraquara \t114 970\n",
    "19 \tUmuarama \t112 500\n",
    "20 \tCambé \t107 341\n",
    "21 \tFazenda Rio Grande \t102 004\n",
    "22 \tSarandi \t97 803\n",
    "23 \tCampo Mourão \t95 488\n",
    "24 \tFrancisco Beltrão \t92 216\n",
    "25 \tParanavaí \t88 922\n",
    "26  Pato Branco \t83 843\n",
    "27 \tCianorte \t83 816\n",
    "28 \tTelêmaco Borba \t79 792\n",
    "29 \tCastro \t71 809\n",
    "30 \tRolândia \t67 383\n",
    "31 \tIrati \t61 088\n",
    "32 \tUnião da Vitória \t57 913\n",
    "33 \tIbiporã \t55 131\n",
    "34 \tMarechal Cândido Rondon \t53 495\n",
    "35 \tPrudentópolis \t52 513\n",
    "36 \tPalmas \t51 755\n",
    "37 \tLapa \t48 410\n",
    "38 \tCornélio Procópio \t47 842\n",
    "39 \tSão Mateus do Sul \t46 705\n",
    "40 \tMedianeira \t46 574\n",
    "41 \tSanto Antônio da Platina \t46 251\n",
    "42 \tCampina Grande do Sul \t43 685\n",
    "43 \tPaiçandu \t41 773\n",
    "44 \tDois Vizinhos \t41 038\n",
    "45 \tJacarezinho \t39 322\n",
    "46 \tGuaratuba \t37 527\n",
    "47 \tMarialva \t35 804\n",
    "48 \tMatinhos \t35 219\n",
    "49 \tJaguariaíva \t35 027\n",
    "50 \tMandaguari \t34 515\n",
    "51 \tRio Negro \t34 411\n",
    "52 \tQuedas do Iguaçu \t34 409\n",
    "53 \tPalmeira \t33 994\n",
    "54 \tAssis Chateaubriand \t33 340\n",
    "55 \tGuaíra \t33 310\n",
    "56 \tImbituva \t32 940\n",
    "57 \tPinhão \t32 559\n",
    "58 \tRio Branco do Sul \t32 517\n",
    "59 \tLaranjeiras do Sul \t32 139\n",
    "60 \tPalotina \t32 121\n",
    "61 \tIvaiporã \t31 935\n",
    "62 \tIbaiti \t31 644\n",
    "63 \tBandeirantes \t31 211\n",
    "64 \tPitanga \t29 994\n",
    "65 \tCampo Magro \t29 740\n",
    "66 \tItaperuçu \t29 070\n",
    "67 \tGoioerê \t28 808\n",
    "68 \tArapoti \t28 300\n",
    "69 \tNova Esperança \t27 984\n",
    "70 \tPontal do Paraná \t27 915\n",
    "71 \tSão Miguel do Iguaçu \t27 576\n",
    "72 \tMandirituba \t27 315\n",
    "73 \tReserva \t26 825\n",
    "74 \tSanta Helena \t26 767\n",
    "75 \tAstorga \t26 209\n",
    "76 \tPiraí do Sul \t25 617\n",
    "77 \tCambará \t25 466\n",
    "78 \tColorado \t24 145\n",
    "79 \tQuatro Barras \t23 911\n",
    "80 \tCarambeí \t23 825\n",
    "81 \tSanta Terezinha de Itaipu \t23 699\n",
    "82 \tLoanda \t23 242\n",
    "83 \tMandaguaçu \t23 100\n",
    "84 \tAltônia \t22 176\n",
    "85 \tOrtigueira \t21 960\n",
    "86 \tSiqueira Campos \t21 249\n",
    "87 \tJandaia do Sul \t21 230\n",
    "88 \tCruzeiro do Oeste \t20 947\n",
    "89 \tUbiratã \t20 909\n",
    "90 \tTibagi \t20 607\n",
    "91 \tCoronel Vivida \t20 580\n",
    "92 \tSanto Antônio do Sudoeste \t20 261\n",
    "93 \tAndirá \t19 926\n",
    "94 \tWenceslau Braz \t19 386\n",
    "95 \tSengés \t19 385\n",
    "96 \tAmpére \t19 311\n",
    "97 \tQuitandinha \t19 221\n",
    "98 \tChopinzinho \t19 167\n",
    "99 \tCapanema \t19 148\n",
    "100 \tAntonina \t18 949\n",
    "101 \tContenda \t18 837\n",
    "102 \tCruz Machado \t18 741\n",
    "103 \tCafelândia \t18 456\n",
    "104 \tMatelândia \t18 107\n",
    "105 \tCerro Azul \t17 833\n",
    "106 \tTerra Roxa \t17 522\n",
    "107 \tFaxinal \t17 316\n",
    "108 \tTerra Boa \t17 200\n",
    "109 \tCorbélia \t17 117\n",
    "110 \tTijucas do Sul \t17 084\n",
    "111 \tRealeza \t16 950\n",
    "112 \tTerra Rica \t16 924\n",
    "113 \tMangueirinha \t16 642\n",
    "114 \tClevelândia \t16 450\n",
    "115 \tMorretes \t16 446\n",
    "116 \tSertanópolis \t16 413\n",
    "117 \tBituruna \t16 400\n",
    "118 \tTapejara \t16 345\n",
    "119 \tCandói \t16 053\n",
    "120 \tCapitão Leônidas Marques \t15 834\n",
    "121 \tBela Vista do Paraíso \t15 399\n",
    "122 \tRio Azul \t15 336\n",
    "123 \tIpiranga \t15 251\n",
    "124 \tSão João do Triunfo \t15 241\n",
    "125 \tCuriúva \t15 196\n",
    "126 \tTamarana \t15 040\n",
    "127 \tAssaí \t14 954\n",
    "128 \tRebouças \t14 946\n",
    "129 \tSalto do Lontra \t14 872\n",
    "130 \tAlto Paraná \t14 859\n",
    "131 \tCândido de Abreu \t14 809\n",
    "132 \tSanta Izabel do Oeste \t14 794\n",
    "133 \tMarmeleiro \t14 387\n",
    "134 \tCarlópolis \t14 356\n",
    "135 \tCampina da Lagoa \t14 043\n",
    "136 \tParaíso do Norte \t14 023\n",
    "137 \tPeabiru \t14 007\n",
    "138 \tAraruna \t14 000\n",
    "139 \tEngenheiro Beltrão \t13 981\n",
    "140 \tIvaí \t13 965\n",
    "141 \tIporã \t13 782\n",
    "142 \tJaguapitã \t13 742\n",
    "143 \tGeneral Carneiro \t13 685\n",
    "144 \tMallet \t13 663\n",
    "145 \tManoel Ribas \t13 510\n",
    "146 \tPlanalto \t13 431\n",
    "147 \tCantagalo \t13 329\n",
    "148 \tImbaú \t13 282\n",
    "149 \tRio Bonito do Iguaçu \t13 255\n",
    "150 \tNova Londrina \t13 200\n",
    "151 \tBocaiuva do Sul \t13 129\n",
    "152 \tTurvo \t13 095\n",
    "153 \tBalsa Nova \t13 092\n",
    "154 \tMamborê \t13 014\n",
    "155 \tPalmital \t12 960\n",
    "156 \tRibeirão do Pinhal \t12 948\n",
    "157 \tPiên \t12 882\n",
    "158 \tCidade Gaúcha \t12 797\n",
    "159 \tPorecatu \t12 748\n",
    "160 \tJataizinho \t12 638\n",
    "161 \tTeixeira Soares \t12 567\n",
    "162 \tQuerência do Norte \t12 232\n",
    "163 \tGuaraniaçu \t12 217\n",
    "164 \tSanta Fé \t12 186\n",
    "165 \tItapejara d'Oeste \t12 094\n",
    "166 \tVentania \t12 088\n",
    "167 \tMoreira Sales \t12 042\n",
    "168 \tTrês Barras do Paraná \t12 038\n",
    "169 \tJoaquim Távora \t12 009\n",
    "170 \tCéu Azul \t11 819\n",
    "171 \tSanta Mariana \t11 622\n",
    "172 \tParanacity \t11 580\n",
    "173 \tNova Laranjeiras \t11 507\n",
    "174 \tAlvorada do Sul \t11 503\n",
    "175 \tBarbosa Ferraz \t11 426\n",
    "176 \tItaipulândia \t11 385\n",
    "177 \tPérola \t11 321\n",
    "178 \tUraí \t11 273\n",
    "179 \tJardim Alegre \t11 196\n",
    "180 \tPrimeiro de Maio \t11 130\n",
    "181 \tSão Jerônimo da Serra \t11 128\n",
    "182 \tInácio Martins \t11 121\n",
    "183 \tSão Pedro do Ivaí \t11 046\n",
    "184 \tMauá da Serra \t10 800\n",
    "185 \tCentenário do Sul \t10 764\n",
    "186 \tMissal \t10 704\n",
    "187 \tRibeirão Claro \t10 645\n",
    "188 \tNova Prata do Iguaçu \t10 544\n",
    "189 \tFlorestópolis \t10 453\n",
    "190 \tMariluz \t10 336\n",
    "191 \tBarracão \t10 312\n",
    "192 \tNova Aurora \t10 299\n",
    "193 \tSão João \t10 181\n",
    "194 \tCatanduvas \t10 167\n",
    "195 \tIretama \t10 098\n",
    "196 \tSanta Tereza do Oeste \t10 096\n",
    "197 \tSão João do Ivaí \t10 056\n",
    "198 \tAlto Piquiri \t9 778\n",
    "199 \tRoncador \t9 645\n",
    "200 \tRondon \t9 622\n",
    "201 \tJapurá \t9 500\n",
    "202 \tAgudos do Sul \t9 470\n",
    "203 \tSanta Maria do Oeste \t9 410\n",
    "204 \tSão Jorge d'Oeste \t9 028\n",
    "205 \tTunas do Paraná \t9 022\n",
    "206 \tDouradina \t8 869\n",
    "207 \tSão Sebastião da Amoreira \t8 859\n",
    "208 \tCongonhinhas \t8 857\n",
    "209 \tMarilândia do Sul \t8 814\n",
    "210 \tGuamiranga \t8 811\n",
    "211 \tCalifórnia \t8 606\n",
    "212 \tTuneiras do Oeste \t8 533\n",
    "213 \tSanta Isabel do Ivaí \t8 523\n",
    "214 \tVera Cruz do Oeste \t8 454\n",
    "215 \tJesuítas \t8 330\n",
    "216 \tNova Santa Rosa \t8 266\n",
    "217 \tIvaté \t8 240\n",
    "218 \tNova Fátima \t8 136\n",
    "219 \tTupãssi \t8 109\n",
    "220 \tReserva do Iguaçu \t8 069\n",
    "221 \tCampo do Tenente \t8 045\n",
    "222 \tCambira \t7 917\n",
    "223 \tTomazina \t7 807\n",
    "224 \tIcaraíma \t7 786\n",
    "225 \tSanta Cruz de Monte Castelo \t7 751\n",
    "226 \tFigueira \t7 696\n",
    "227 \tGuaraqueçaba \t7 594\n",
    "228 \tBoa Vista da Aparecida \t7 540\n",
    "229 \tCoronel Domingos Soares \t7 518\n",
    "230 \tQuatiguá \t7 477\n",
    "231 \tAntônio Olinto \t7 427\n",
    "232 \tAbatiá \t7 408\n",
    "233 \tPaulo Frontin \t7 387\n",
    "234 \tJuranda \t7 292\n",
    "235 \tLuiziana \t7 240\n",
    "236 \tVerê \t7 174\n",
    "237 \tMarilena \t7 084\n",
    "238 \tBom Sucesso \t7 068\n",
    "239 \tGoioxim \t7 053\n",
    "240 \tJussara \t7 041\n",
    "241 \tSão Carlos do Ivaí \t6 920\n",
    "242 \tSabáudia \t6 891\n",
    "243 \tVitorino \t6 859\n",
    "244 \tFloresta \t6 851\n",
    "245 \tRenascença \t6 787\n",
    "246 \tSapopema \t6 722\n",
    "247 \tMariópolis \t6 632\n",
    "248 \tGuairaçá \t6 609\n",
    "249 \tItambaracá \t6 549\n",
    "250 \tFormosa do Oeste \t6 460\n",
    "251 \tBorrazópolis \t6 439\n",
    "252 \tIbema \t6 370\n",
    "253 \tBoa Ventura de São Roque \t6 365\n",
    "254 \tAmaporã \t6 332\n",
    "255 \tPinhalão \t6 324\n",
    "256 \tPérola d'Oeste \t6 288\n",
    "257 \tPerobal \t6 160\n",
    "258 \tSão José da Boa Vista \t6 160\n",
    "259 \tItambé \t6 109\n",
    "260 \tOuro Verde do Oeste \t6 016\n",
    "261 \tFrancisco Alves \t5 993\n",
    "262 \tDoutor Camargo \t5 983\n",
    "263 \tEnéas Marques \t5 933\n",
    "264 \tPaula Freitas \t5 908\n",
    "265 \tAdrianópolis \t5 857\n",
    "266 \tSão João do Caiuá \t5 837\n",
    "267 \tNova Olímpia \t5 826\n",
    "268 \tSão Pedro do Iguaçu \t5 820\n",
    "269 \tLaranjal \t5 784\n",
    "270 \tSão Tomé \t5 750\n",
    "271 \tPato Bragado \t5 684\n",
    "272 \tMaria Helena \t5 634\n",
    "273 \tXambrê \t5 630\n",
    "274 \tFernandes Pinheiro \t5 602\n",
    "275 \tSão Jorge do Patrocínio \t5 586\n",
    "276 \tMaripá \t5 582\n",
    "277 \tMercedes \t5 577\n",
    "278 \tDoutor Ulysses \t5 552\n",
    "279 \tSão Jorge do Ivaí \t5 543\n",
    "280 \tSaudade do Iguaçu \t5 539\n",
    "281 \tGuaraci \t5 530\n",
    "282 \tGrandes Rios \t5 497\n",
    "283 \tTapira \t5 495\n",
    "284 \tNova Tebas \t5 448\n",
    "285 \tSanto Inácio \t5 416\n",
    "286 \tBraganey \t5 382\n",
    "287 \tPresidente Castelo Branco \t5 351\n",
    "288 \tJaboti \t5 303\n",
    "289 \tDiamante d'Oeste \t5 266\n",
    "290 \tSertaneja \t5 216\n",
    "291 \tTamboara \t5 158\n",
    "292 \tHonório Serpa \t5 119\n",
    "293 \tJaniópolis \t5 095\n",
    "294 \tPranchita \t5 095\n",
    "295 \tNova Cantu \t5 061\n",
    "296 \tDiamante do Norte \t5 030\n",
    "297 \tNova Esperança do Sudoeste \t5 030\n",
    "298 \tSantana do Itararé \t4 954\n",
    "299 \tLupionópolis \t4 945\n",
    "300 \tJapira \t4 930\n",
    "301 \tFloraí \t4 906\n",
    "302 \tSalto do Itararé \t4 898\n",
    "303 \tPorto Amazonas \t4 874\n",
    "304 \tLobato \t4 819\n",
    "305 \tFênix \t4 748\n",
    "306 \tLunardelli \t4 744\n",
    "307 \tRosário do Ivaí \t4 689\n",
    "308 \tMarumbi \t4 677\n",
    "309 \tFlor da Serra do Sul \t4 603\n",
    "310 \tEntre Rios do Oeste \t4 596\n",
    "311 \tLindoeste \t4 592\n",
    "312 \tFoz do Jordão \t4 556\n",
    "313 \tQuinta do Sol \t4 508\n",
    "314 \tSerranópolis do Iguaçu \t4 477\n",
    "315 \tRamilândia \t4 476\n",
    "316 \tIndianópolis \t4 465\n",
    "317 \tQuarto Centenário \t4 465\n",
    "318 \tCruzeiro do Sul \t4 449\n",
    "319 \tItaguajé \t4 446\n",
    "320 \tIguaraçu \t4 440\n",
    "321 \tMarquinho \t4 340\n",
    "322 \tNova Santa Bárbara \t4 277\n",
    "323 \tPlanaltina do Paraná \t4 272\n",
    "324 \tCruzeiro do Iguaçu \t4 240\n",
    "325 \tRio Branco do Ivaí \t4 109\n",
    "326 \tPorto Vitória \t4 061\n",
    "327 \tEspigão Alto do Iguaçu \t4 048\n",
    "328 \tBoa Esperança \t4 047\n",
    "329 \tKaloré \t4 047\n",
    "330 \tQuatro Pontes \t4 029\n",
    "331 \tVirmond \t4 022\n",
    "332 \tSanta Mônica \t4 017\n",
    "333 \tCafezal do Sul \t4 009\n",
    "334 \tMunhoz de Melo \t4 009\n",
    "335 \tNossa Senhora das Graças \t4 008\n",
    "336 \tLeópolis \t3 925\n",
    "337 \tAtalaia \t3 881\n",
    "338 \tConselheiro Mairinck \t3 876\n",
    "339 \tCampina do Simão \t3 859\n",
    "340 \tSanta Lúcia \t3 793\n",
    "341 \tGuapirama \t3 784\n",
    "342 \tRancho Alegre \t3 784\n",
    "343 \tPrado Ferreira \t3 780\n",
    "344 \tCampo Bonito \t3 763\n",
    "345 \tSão José das Palmeiras \t3 627\n",
    "346 \tBom Jesus do Sul \t3 506\n",
    "347 \tSalgado Filho \t3 483\n",
    "348 \tBela Vista da Caroba \t3 457\n",
    "349 \tNova América da Colina \t3 434\n",
    "350 \tOurizona \t3 425\n",
    "351 \tDiamante do Sul \t3 424\n",
    "352 \tSanta Cecília do Pavão \t3 293\n",
    "353 \tIvatuba \t3 279\n",
    "354 \tJundiaí do Sul \t3 269\n",
    "355 \tSanta Amélia \t3 266\n",
    "356 \tPitangueiras \t3 262\n",
    "357 \tBom Sucesso do Sul \t3 254\n",
    "358 \tParanapoema \t3 241\n",
    "359 \tLidianópolis \t3 231\n",
    "360 \tMato Rico \t3 206\n",
    "361 \tPorto Barreiro \t3 184\n",
    "362 \tRio Bom \t3 182\n",
    "363 \tCorumbataí do Sul \t3 127\n",
    "364 \tInajá \t3 116\n",
    "365 \tFarol \t3 041\n",
    "366 \tArapuã \t3 009\n",
    "367 \tCafeara \t2 954\n",
    "368 \tÂngulo \t2 930\n",
    "369 \tSulina \t2 930\n",
    "370 \tCruzmaltina \t2 921\n",
    "371 \tGodoy Moreira \t2 898\n",
    "372 \tNovo Itacolomi \t2 840\n",
    "373 \tAnahy \t2 788\n",
    "374 \tBarra do Jacaré \t2 781\n",
    "375 \tItaúna do Sul \t2 781\n",
    "376 \tPinhal de São Bento \t2 737\n",
    "377 \tFlórida \t2 699\n",
    "378 \tAlto Paraíso \t2 685\n",
    "379 \tRancho Alegre d'Oeste \t2 628\n",
    "380 \tSanto Antônio do Caiuá \t2 626\n",
    "381 \tUniflor \t2 614\n",
    "382 \tBrasilândia do Sul \t2 585\n",
    "383 \tPorto Rico \t2 556\n",
    "384 \tManfrinópolis \t2 506\n",
    "385 \tBoa Esperança do Iguaçu \t2 470\n",
    "386 \tSão Pedro do Paraná \t2 289\n",
    "387 \tIguatu \t2 253\n",
    "388 \tIracema do Oeste \t2 251\n",
    "389 \tGuaporema \t2 241\n",
    "390 \tMirador \t2 196\n",
    "391 \tSão Manoel do Paraná \t2 163\n",
    "392 \tSanto Antônio do Paraíso \t2 068\n",
    "393 \tAriranha do Ivaí \t2 066\n",
    "394 \tMiraselva \t1 796\n",
    "395 \tAltamira do Paraná \t1 682\n",
    "396 \tEsperança Nova \t1 665\n",
    "397 \tSanta Inês \t1 594\n",
    "398 \tNova Aliança do Ivaí \t1 551\n",
    "399 \tJardim Olinda \t1 320\n",
    "\"\"\""
   ]
  },
  {
   "cell_type": "code",
   "execution_count": 136,
   "metadata": {},
   "outputs": [],
   "source": [
    "from io import StringIO"
   ]
  },
  {
   "cell_type": "code",
   "execution_count": 137,
   "metadata": {},
   "outputs": [],
   "source": [
    "populacao_pr = StringIO(populacao_pr)"
   ]
  },
  {
   "cell_type": "code",
   "execution_count": 138,
   "metadata": {},
   "outputs": [],
   "source": [
    "populacao_pr = pd.read_csv(populacao_pr, sep='\\t')"
   ]
  },
  {
   "cell_type": "code",
   "execution_count": 139,
   "metadata": {},
   "outputs": [
    {
     "data": {
      "text/plain": "Index(['Posição ', 'Município ', 'População'], dtype='object')"
     },
     "execution_count": 139,
     "metadata": {},
     "output_type": "execute_result"
    }
   ],
   "source": [
    "populacao_pr.columns"
   ]
  },
  {
   "cell_type": "code",
   "execution_count": 140,
   "metadata": {},
   "outputs": [],
   "source": [
    "from unidecode import unidecode"
   ]
  },
  {
   "cell_type": "code",
   "execution_count": 141,
   "metadata": {},
   "outputs": [],
   "source": [
    "colunas = []\n",
    "\n",
    "for coluna in populacao_pr.columns:\n",
    "    colunas.append(unidecode(coluna.upper()))\n",
    "\n",
    "populacao_pr.columns = colunas"
   ]
  },
  {
   "cell_type": "code",
   "execution_count": 145,
   "metadata": {},
   "outputs": [
    {
     "data": {
      "text/plain": "POSICAO                26\nMUNICIPIO     Pato Branco\nPOPULACAO          83 843\nName: 25, dtype: object"
     },
     "execution_count": 145,
     "metadata": {},
     "output_type": "execute_result"
    }
   ],
   "source": [
    "populacao_pr.iloc[25,:] = [26,  'Pato Branco', '83 843']\n",
    "populacao_pr.iloc[25,:]"
   ]
  },
  {
   "cell_type": "code",
   "execution_count": 151,
   "metadata": {},
   "outputs": [],
   "source": [
    "pop_pr = []\n",
    "\n",
    "for pop in populacao_pr['POPULACAO']:\n",
    "    pop_pr.append(int(pop.replace(' ','')))\n",
    "\n",
    "populacao_pr['POPULACAO'] = pop_pr\n"
   ]
  },
  {
   "cell_type": "code",
   "execution_count": 152,
   "metadata": {},
   "outputs": [
    {
     "name": "stdout",
     "output_type": "stream",
     "text": [
      "<class 'pandas.core.frame.DataFrame'>\n",
      "RangeIndex: 399 entries, 0 to 398\n",
      "Data columns (total 3 columns):\n",
      " #   Column      Non-Null Count  Dtype \n",
      "---  ------      --------------  ----- \n",
      " 0   POSICAO     399 non-null    object\n",
      " 1   MUNICIPIO   399 non-null    object\n",
      " 2   POPULACAO   399 non-null    int64 \n",
      "dtypes: int64(1), object(2)\n",
      "memory usage: 9.5+ KB\n"
     ]
    }
   ],
   "source": [
    "populacao_pr.info()"
   ]
  },
  {
   "cell_type": "code",
   "execution_count": null,
   "metadata": {},
   "outputs": [],
   "source": []
  }
 ],
 "metadata": {
  "kernelspec": {
   "display_name": "Python 3",
   "language": "python",
   "name": "python3"
  },
  "language_info": {
   "codemirror_mode": {
    "name": "ipython",
    "version": 3
   },
   "file_extension": ".py",
   "mimetype": "text/x-python",
   "name": "python",
   "nbconvert_exporter": "python",
   "pygments_lexer": "ipython3",
   "version": "3.7.6"
  },
  "orig_nbformat": 2
 },
 "nbformat": 4,
 "nbformat_minor": 2
}