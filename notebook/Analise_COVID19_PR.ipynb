{
 "cells": [
  {
   "cell_type": "code",
   "execution_count": 7,
   "metadata": {},
   "outputs": [
    {
     "name": "stdout",
     "output_type": "stream",
     "text": [
      "pandas == 1.2.3\n",
      "numpy == 1.20.1\n",
      "matplotlib == 3.3.4\n",
      "seaborn == 0.11.1\n",
      "pystan == 2.19.1.1\n",
      "fbprophet == 0.7.1\n"
     ]
    }
   ],
   "source": [
    "import pandas as pd\n",
    "import numpy as np\n",
    "import matplotlib\n",
    "import seaborn as sns\n",
    "import pystan\n",
    "import fbprophet \n",
    "\n",
    "#built-in \n",
    "import datetime\n",
    "\n",
    "print('pandas ==',pd.__version__)\n",
    "print('numpy ==',np.__version__)\n",
    "print('matplotlib ==',matplotlib.__version__)\n",
    "print('seaborn ==',sns.__version__)\n",
    "print('pystan ==',pystan.__version__)\n",
    "print('fbprophet ==',fbprophet.__version__)"
   ]
  },
  {
   "cell_type": "markdown",
   "metadata": {},
   "source": [
    "# Funções"
   ]
  },
  {
   "cell_type": "code",
   "execution_count": 8,
   "metadata": {},
   "outputs": [],
   "source": [
    "# =======================================================================================\n",
    "## FUNÇÕES PARA A IMPORTAÇÃO DOS DADOS E TRANSFORMAR DATAS\n",
    "\n",
    "def converte_variaveis_em_datas(dataframe):\n",
    "    for variavel in dataframe.columns:\n",
    "        if 'DATA' in variavel:\n",
    "            try:\n",
    "                dataframe[variavel] = pd.to_datetime(dataframe[variavel], format='%d/%m/%Y')\n",
    "            \n",
    "            except:\n",
    "                print(f'Variável \"{variavel}\" contém um erro e conversão/formatação')\n",
    "                pass\n",
    "        else:\n",
    "            pass \n",
    "    return dataframe\n",
    "\n",
    "\n",
    "def tira_variaveis_IBGE(dataframe):\n",
    "    dataframe = dataframe.drop(['IBGE_RES_PR','IBGE_ATEND_PR'], axis='columns')\n",
    "    return dataframe\n",
    "\n",
    "\n",
    "def cria_variavel_caso_confirmado_no_dia(dataframe):\n",
    "    dataframe['CASO_CONFIRMADO_NO_DIA'] = 1\n",
    "    return dataframe\n",
    "\n",
    "\n",
    "def replace_nas_variaveis_obito_status(dataframe):\n",
    "\n",
    "    dataframe['OBITO'] = dataframe['OBITO'].replace('SIM','Sim')\n",
    "    dataframe['OBITO'] = dataframe['OBITO'].replace('Não','Nao')\n",
    "\n",
    "    dataframe['OBITO'] = dataframe['OBITO'].replace('Sim',1)\n",
    "    dataframe['OBITO'] = dataframe['OBITO'].replace('Nao',0)\n",
    "\n",
    "    dataframe['STATUS'] = dataframe['STATUS'].replace('Recuperado','recuperado')\n",
    "    dataframe['STATUS'] = dataframe['STATUS'].replace('recuperado', 1)\n",
    "    dataframe['STATUS'] = dataframe['STATUS'].replace('nan', 0)\n",
    "\n",
    "    return dataframe\n",
    "    \n",
    "\n",
    "def pre_processamento(dataframe):\n",
    "    dataframe = converte_variaveis_em_datas(dataframe)\n",
    "    dataframe = tira_variaveis_IBGE(dataframe)\n",
    "    dataframe = cria_variavel_caso_confirmado_no_dia(dataframe)\n",
    "    dataframe = replace_nas_variaveis_obito_status(dataframe)\n",
    "    dataframe = dataframe.set_index('DATA_CONFIRMACAO_DIVULGACAO')\n",
    "    dataframe = dataframe.sort_index()\n",
    "    return dataframe\n",
    "\n",
    "def baixa_base_de_dados_casos_gerais(ano,mes,dia):\n",
    "    \"\"\"\n",
    "    Esta função baixa a base de dados disponível no ano, mes e dia.\n",
    "    retorna um dataframe do pandas com os dados disponpiveis.\n",
    "    \"\"\"\n",
    "    data = datetime.date(ano, mes, dia)\n",
    "    ano = str(data.year)\n",
    "\n",
    "    if mes != 10 and mes != 11 and mes != 12:\n",
    "        mes = '0'+str(data.month)\n",
    "    else:\n",
    "        mes = str(data.month)\n",
    "\n",
    "    if dia in [1,2,3,4,6,7,8,9]:\n",
    "        dia = '0'+str(data.day)\n",
    "\n",
    "    ano_mes = ano+'-'+mes\n",
    "\n",
    "    if ano == '2020':\n",
    "        arquivo = f'INFORME_EPIDEMIOLOGICO_{dia}_{mes}_GERAL.csv'\n",
    "    elif ano == '2021':\n",
    "        arquivo = f'informe_epidemiologico_{dia}_{mes}_{ano}_geral.csv'\n",
    "    # Podem acontecer as seguintes variações no site do estado:\n",
    "    # informe_epidemiologico_{dia}_{mes}_{ano}_geral.csv\n",
    "    # informe_epidemiologico_{dia}_{mes}_geral.csv\n",
    "    # INFORME_EPIDEMIOLOGICO_{dia}_{mes}_GERAL.csv\n",
    "\n",
    "\n",
    "\n",
    "    dominio = 'https://www.saude.pr.gov.br'\n",
    "    caminho = f'/sites/default/arquivos_restritos/files/documento/{ano_mes}/'\n",
    "    try:\n",
    "\n",
    "        url = dominio+caminho+arquivo\n",
    "        base_de_dados = pd.read_csv(url, sep=';')\n",
    "        base_de_dados = pre_processamento(base_de_dados)\n",
    "        \n",
    "    \n",
    "    except:\n",
    "        raise Exception('Não Tem dados disponíveis neste dia.')\n",
    "\n",
    "    return base_de_dados\n",
    "\n",
    "# =======================================================================================\n",
    "## FUNÇÕES PARA SELEÇÃO \n",
    "\n",
    "\n"
   ]
  },
  {
   "cell_type": "markdown",
   "metadata": {},
   "source": [
    "# Importando os Dados "
   ]
  },
  {
   "cell_type": "code",
   "execution_count": 24,
   "metadata": {},
   "outputs": [
    {
     "name": "stdout",
     "output_type": "stream",
     "text": [
      "Variável \"DATA_INICIO_SINTOMAS\" contém um erro e conversão/formatação\n"
     ]
    }
   ],
   "source": [
    "hoje = datetime.date.today()\n",
    "informe_covid = baixa_base_de_dados_casos_gerais(hoje.year, hoje.month, hoje.day - 4)"
   ]
  },
  {
   "cell_type": "code",
   "execution_count": 25,
   "metadata": {},
   "outputs": [
    {
     "data": {
      "text/html": "<div>\n<style scoped>\n    .dataframe tbody tr th:only-of-type {\n        vertical-align: middle;\n    }\n\n    .dataframe tbody tr th {\n        vertical-align: top;\n    }\n\n    .dataframe thead th {\n        text-align: right;\n    }\n</style>\n<table border=\"1\" class=\"dataframe\">\n  <thead>\n    <tr style=\"text-align: right;\">\n      <th></th>\n      <th>SEXO</th>\n      <th>IDADE_ORIGINAL</th>\n      <th>MUN_RESIDENCIA</th>\n      <th>MUN_ATENDIMENTO</th>\n      <th>LABORATORIO</th>\n      <th>DATA_DIAGNOSTICO</th>\n      <th>DATA_INICIO_SINTOMAS</th>\n      <th>OBITO</th>\n      <th>DATA_OBITO</th>\n      <th>DATA_OBITO_DIVULGACAO</th>\n      <th>STATUS</th>\n      <th>DATA_RECUPERADO_DIVULGACAO</th>\n      <th>FONTE_DADO_RECUPERADO</th>\n      <th>CASO_CONFIRMADO_NO_DIA</th>\n    </tr>\n    <tr>\n      <th>DATA_CONFIRMACAO_DIVULGACAO</th>\n      <th></th>\n      <th></th>\n      <th></th>\n      <th></th>\n      <th></th>\n      <th></th>\n      <th></th>\n      <th></th>\n      <th></th>\n      <th></th>\n      <th></th>\n      <th></th>\n      <th></th>\n      <th></th>\n    </tr>\n  </thead>\n  <tbody>\n    <tr>\n      <th>2020-03-12</th>\n      <td>F</td>\n      <td>26</td>\n      <td>CURITIBA</td>\n      <td>CURITIBA</td>\n      <td>Genoprimer</td>\n      <td>2020-03-18</td>\n      <td>15/03/2020</td>\n      <td>0.0</td>\n      <td>NaT</td>\n      <td>NaT</td>\n      <td>1.0</td>\n      <td>NaT</td>\n      <td>NaN</td>\n      <td>1</td>\n    </tr>\n    <tr>\n      <th>2020-03-12</th>\n      <td>M</td>\n      <td>43</td>\n      <td>CURITIBA</td>\n      <td>CURITIBA</td>\n      <td>LACEN</td>\n      <td>2020-03-12</td>\n      <td>07/03/2020</td>\n      <td>0.0</td>\n      <td>NaT</td>\n      <td>NaT</td>\n      <td>1.0</td>\n      <td>NaT</td>\n      <td>NaN</td>\n      <td>1</td>\n    </tr>\n    <tr>\n      <th>2020-03-12</th>\n      <td>M</td>\n      <td>28</td>\n      <td>SAO PAULO/SP</td>\n      <td>CURITIBA</td>\n      <td>Genoprimer</td>\n      <td>2020-03-16</td>\n      <td>NaN</td>\n      <td>0.0</td>\n      <td>NaT</td>\n      <td>NaT</td>\n      <td>1.0</td>\n      <td>2020-08-05</td>\n      <td>SMS</td>\n      <td>1</td>\n    </tr>\n    <tr>\n      <th>2020-03-12</th>\n      <td>F</td>\n      <td>47</td>\n      <td>CIANORTE</td>\n      <td>CIANORTE</td>\n      <td>LACEN</td>\n      <td>2020-03-12</td>\n      <td>NaN</td>\n      <td>0.0</td>\n      <td>NaT</td>\n      <td>NaT</td>\n      <td>1.0</td>\n      <td>NaT</td>\n      <td>Notificações</td>\n      <td>1</td>\n    </tr>\n    <tr>\n      <th>2020-03-12</th>\n      <td>M</td>\n      <td>15</td>\n      <td>CURITIBA</td>\n      <td>CURITIBA</td>\n      <td>LACEN</td>\n      <td>2020-03-12</td>\n      <td>08/03/2020</td>\n      <td>0.0</td>\n      <td>NaT</td>\n      <td>NaT</td>\n      <td>1.0</td>\n      <td>NaT</td>\n      <td>NaN</td>\n      <td>1</td>\n    </tr>\n    <tr>\n      <th>...</th>\n      <td>...</td>\n      <td>...</td>\n      <td>...</td>\n      <td>...</td>\n      <td>...</td>\n      <td>...</td>\n      <td>...</td>\n      <td>...</td>\n      <td>...</td>\n      <td>...</td>\n      <td>...</td>\n      <td>...</td>\n      <td>...</td>\n      <td>...</td>\n    </tr>\n    <tr>\n      <th>2021-03-04</th>\n      <td>F</td>\n      <td>85</td>\n      <td>FOZ DO IGUACU</td>\n      <td>FOZ DO IGUACU</td>\n      <td>Teste Rápido Antígeno (Imunocromatografia)</td>\n      <td>2021-03-02</td>\n      <td>25/02/2021</td>\n      <td>NaN</td>\n      <td>NaT</td>\n      <td>NaT</td>\n      <td>NaN</td>\n      <td>NaT</td>\n      <td>NaN</td>\n      <td>1</td>\n    </tr>\n    <tr>\n      <th>2021-03-04</th>\n      <td>M</td>\n      <td>31</td>\n      <td>MARINGA</td>\n      <td>MARINGA</td>\n      <td>COVID-19, Biologia Molecular</td>\n      <td>2021-03-02</td>\n      <td>21/02/2021</td>\n      <td>NaN</td>\n      <td>NaT</td>\n      <td>NaT</td>\n      <td>NaN</td>\n      <td>NaT</td>\n      <td>NaN</td>\n      <td>1</td>\n    </tr>\n    <tr>\n      <th>2021-03-04</th>\n      <td>M</td>\n      <td>30</td>\n      <td>GUAIRA</td>\n      <td>GUAIRA</td>\n      <td>COVID-19, Biologia Molecular</td>\n      <td>2021-02-08</td>\n      <td>31/01/2021</td>\n      <td>0.0</td>\n      <td>NaT</td>\n      <td>NaT</td>\n      <td>1.0</td>\n      <td>2021-03-04</td>\n      <td>NOTIFICA COVID</td>\n      <td>1</td>\n    </tr>\n    <tr>\n      <th>2021-03-04</th>\n      <td>F</td>\n      <td>30</td>\n      <td>PARANACITY</td>\n      <td>PARANACITY</td>\n      <td>COVID-19, Biologia Molecular</td>\n      <td>2021-03-03</td>\n      <td>24/02/2021</td>\n      <td>NaN</td>\n      <td>NaT</td>\n      <td>NaT</td>\n      <td>NaN</td>\n      <td>NaT</td>\n      <td>NaN</td>\n      <td>1</td>\n    </tr>\n    <tr>\n      <th>2021-03-04</th>\n      <td>F</td>\n      <td>62</td>\n      <td>IBIPORA</td>\n      <td>IBIPORA</td>\n      <td>COVID-19, Biologia Molecular</td>\n      <td>2021-03-03</td>\n      <td>21/02/2021</td>\n      <td>NaN</td>\n      <td>NaT</td>\n      <td>NaT</td>\n      <td>NaN</td>\n      <td>NaT</td>\n      <td>NaN</td>\n      <td>1</td>\n    </tr>\n  </tbody>\n</table>\n<p>666509 rows × 14 columns</p>\n</div>",
      "text/plain": "                            SEXO  IDADE_ORIGINAL MUN_RESIDENCIA  \\\nDATA_CONFIRMACAO_DIVULGACAO                                       \n2020-03-12                     F              26       CURITIBA   \n2020-03-12                     M              43       CURITIBA   \n2020-03-12                     M              28   SAO PAULO/SP   \n2020-03-12                     F              47       CIANORTE   \n2020-03-12                     M              15       CURITIBA   \n...                          ...             ...            ...   \n2021-03-04                     F              85  FOZ DO IGUACU   \n2021-03-04                     M              31        MARINGA   \n2021-03-04                     M              30         GUAIRA   \n2021-03-04                     F              30     PARANACITY   \n2021-03-04                     F              62        IBIPORA   \n\n                            MUN_ATENDIMENTO  \\\nDATA_CONFIRMACAO_DIVULGACAO                   \n2020-03-12                         CURITIBA   \n2020-03-12                         CURITIBA   \n2020-03-12                         CURITIBA   \n2020-03-12                         CIANORTE   \n2020-03-12                         CURITIBA   \n...                                     ...   \n2021-03-04                    FOZ DO IGUACU   \n2021-03-04                          MARINGA   \n2021-03-04                           GUAIRA   \n2021-03-04                       PARANACITY   \n2021-03-04                          IBIPORA   \n\n                                                            LABORATORIO  \\\nDATA_CONFIRMACAO_DIVULGACAO                                               \n2020-03-12                                                   Genoprimer   \n2020-03-12                                                        LACEN   \n2020-03-12                                                   Genoprimer   \n2020-03-12                                                        LACEN   \n2020-03-12                                                        LACEN   \n...                                                                 ...   \n2021-03-04                   Teste Rápido Antígeno (Imunocromatografia)   \n2021-03-04                                 COVID-19, Biologia Molecular   \n2021-03-04                                 COVID-19, Biologia Molecular   \n2021-03-04                                 COVID-19, Biologia Molecular   \n2021-03-04                                 COVID-19, Biologia Molecular   \n\n                            DATA_DIAGNOSTICO DATA_INICIO_SINTOMAS  OBITO  \\\nDATA_CONFIRMACAO_DIVULGACAO                                                \n2020-03-12                        2020-03-18           15/03/2020    0.0   \n2020-03-12                        2020-03-12           07/03/2020    0.0   \n2020-03-12                        2020-03-16                  NaN    0.0   \n2020-03-12                        2020-03-12                  NaN    0.0   \n2020-03-12                        2020-03-12           08/03/2020    0.0   \n...                                      ...                  ...    ...   \n2021-03-04                        2021-03-02           25/02/2021    NaN   \n2021-03-04                        2021-03-02           21/02/2021    NaN   \n2021-03-04                        2021-02-08           31/01/2021    0.0   \n2021-03-04                        2021-03-03           24/02/2021    NaN   \n2021-03-04                        2021-03-03           21/02/2021    NaN   \n\n                            DATA_OBITO DATA_OBITO_DIVULGACAO  STATUS  \\\nDATA_CONFIRMACAO_DIVULGACAO                                            \n2020-03-12                         NaT                   NaT     1.0   \n2020-03-12                         NaT                   NaT     1.0   \n2020-03-12                         NaT                   NaT     1.0   \n2020-03-12                         NaT                   NaT     1.0   \n2020-03-12                         NaT                   NaT     1.0   \n...                                ...                   ...     ...   \n2021-03-04                         NaT                   NaT     NaN   \n2021-03-04                         NaT                   NaT     NaN   \n2021-03-04                         NaT                   NaT     1.0   \n2021-03-04                         NaT                   NaT     NaN   \n2021-03-04                         NaT                   NaT     NaN   \n\n                            DATA_RECUPERADO_DIVULGACAO FONTE_DADO_RECUPERADO  \\\nDATA_CONFIRMACAO_DIVULGACAO                                                    \n2020-03-12                                         NaT                   NaN   \n2020-03-12                                         NaT                   NaN   \n2020-03-12                                  2020-08-05                   SMS   \n2020-03-12                                         NaT          Notificações   \n2020-03-12                                         NaT                   NaN   \n...                                                ...                   ...   \n2021-03-04                                         NaT                   NaN   \n2021-03-04                                         NaT                   NaN   \n2021-03-04                                  2021-03-04        NOTIFICA COVID   \n2021-03-04                                         NaT                   NaN   \n2021-03-04                                         NaT                   NaN   \n\n                             CASO_CONFIRMADO_NO_DIA  \nDATA_CONFIRMACAO_DIVULGACAO                          \n2020-03-12                                        1  \n2020-03-12                                        1  \n2020-03-12                                        1  \n2020-03-12                                        1  \n2020-03-12                                        1  \n...                                             ...  \n2021-03-04                                        1  \n2021-03-04                                        1  \n2021-03-04                                        1  \n2021-03-04                                        1  \n2021-03-04                                        1  \n\n[666509 rows x 14 columns]"
     },
     "execution_count": 25,
     "metadata": {},
     "output_type": "execute_result"
    }
   ],
   "source": [
    "informe_covid"
   ]
  },
  {
   "cell_type": "code",
   "execution_count": 26,
   "metadata": {},
   "outputs": [],
   "source": [
    "dados_pg = informe_covid.query('MUN_ATENDIMENTO == \"PONTA GROSSA\"')"
   ]
  },
  {
   "cell_type": "code",
   "execution_count": 27,
   "metadata": {},
   "outputs": [
    {
     "data": {
      "text/html": "<div>\n<style scoped>\n    .dataframe tbody tr th:only-of-type {\n        vertical-align: middle;\n    }\n\n    .dataframe tbody tr th {\n        vertical-align: top;\n    }\n\n    .dataframe thead th {\n        text-align: right;\n    }\n</style>\n<table border=\"1\" class=\"dataframe\">\n  <thead>\n    <tr style=\"text-align: right;\">\n      <th></th>\n      <th>SEXO</th>\n      <th>IDADE_ORIGINAL</th>\n      <th>MUN_RESIDENCIA</th>\n      <th>MUN_ATENDIMENTO</th>\n      <th>LABORATORIO</th>\n      <th>DATA_DIAGNOSTICO</th>\n      <th>DATA_INICIO_SINTOMAS</th>\n      <th>OBITO</th>\n      <th>DATA_OBITO</th>\n      <th>DATA_OBITO_DIVULGACAO</th>\n      <th>STATUS</th>\n      <th>DATA_RECUPERADO_DIVULGACAO</th>\n      <th>FONTE_DADO_RECUPERADO</th>\n      <th>CASO_CONFIRMADO_NO_DIA</th>\n    </tr>\n    <tr>\n      <th>DATA_CONFIRMACAO_DIVULGACAO</th>\n      <th></th>\n      <th></th>\n      <th></th>\n      <th></th>\n      <th></th>\n      <th></th>\n      <th></th>\n      <th></th>\n      <th></th>\n      <th></th>\n      <th></th>\n      <th></th>\n      <th></th>\n      <th></th>\n    </tr>\n  </thead>\n  <tbody>\n    <tr>\n      <th>2020-03-21</th>\n      <td>M</td>\n      <td>33</td>\n      <td>PONTA GROSSA</td>\n      <td>PONTA GROSSA</td>\n      <td>LACEN</td>\n      <td>2020-03-21</td>\n      <td>17/03/2020</td>\n      <td>0.0</td>\n      <td>NaT</td>\n      <td>NaT</td>\n      <td>1.0</td>\n      <td>NaT</td>\n      <td>Epidemio Municipal</td>\n      <td>1</td>\n    </tr>\n    <tr>\n      <th>2020-03-25</th>\n      <td>F</td>\n      <td>61</td>\n      <td>PONTA GROSSA</td>\n      <td>PONTA GROSSA</td>\n      <td>LACEN</td>\n      <td>2020-03-25</td>\n      <td>12/03/2020</td>\n      <td>0.0</td>\n      <td>NaT</td>\n      <td>NaT</td>\n      <td>1.0</td>\n      <td>NaT</td>\n      <td>Epidemio Municipal</td>\n      <td>1</td>\n    </tr>\n    <tr>\n      <th>2020-03-25</th>\n      <td>F</td>\n      <td>30</td>\n      <td>PONTA GROSSA</td>\n      <td>PONTA GROSSA</td>\n      <td>LACEN</td>\n      <td>2020-03-25</td>\n      <td>15/03/2020</td>\n      <td>0.0</td>\n      <td>NaT</td>\n      <td>NaT</td>\n      <td>1.0</td>\n      <td>NaT</td>\n      <td>Epidemio Municipal</td>\n      <td>1</td>\n    </tr>\n    <tr>\n      <th>2020-04-04</th>\n      <td>M</td>\n      <td>54</td>\n      <td>PONTA GROSSA</td>\n      <td>PONTA GROSSA</td>\n      <td>DB</td>\n      <td>2020-03-31</td>\n      <td>NaN</td>\n      <td>0.0</td>\n      <td>NaT</td>\n      <td>NaT</td>\n      <td>1.0</td>\n      <td>NaT</td>\n      <td>SMS Ponta Grossa</td>\n      <td>1</td>\n    </tr>\n    <tr>\n      <th>2020-04-04</th>\n      <td>F</td>\n      <td>71</td>\n      <td>CASTRO</td>\n      <td>PONTA GROSSA</td>\n      <td>DB</td>\n      <td>2020-03-29</td>\n      <td>NaN</td>\n      <td>0.0</td>\n      <td>NaT</td>\n      <td>NaT</td>\n      <td>1.0</td>\n      <td>NaT</td>\n      <td>SMS Castro</td>\n      <td>1</td>\n    </tr>\n    <tr>\n      <th>...</th>\n      <td>...</td>\n      <td>...</td>\n      <td>...</td>\n      <td>...</td>\n      <td>...</td>\n      <td>...</td>\n      <td>...</td>\n      <td>...</td>\n      <td>...</td>\n      <td>...</td>\n      <td>...</td>\n      <td>...</td>\n      <td>...</td>\n      <td>...</td>\n    </tr>\n    <tr>\n      <th>2021-03-04</th>\n      <td>M</td>\n      <td>25</td>\n      <td>PONTA GROSSA</td>\n      <td>PONTA GROSSA</td>\n      <td>COVID-19, Biologia Molecular</td>\n      <td>2021-03-01</td>\n      <td>23/02/2021</td>\n      <td>NaN</td>\n      <td>NaT</td>\n      <td>NaT</td>\n      <td>NaN</td>\n      <td>NaT</td>\n      <td>NaN</td>\n      <td>1</td>\n    </tr>\n    <tr>\n      <th>2021-03-04</th>\n      <td>M</td>\n      <td>37</td>\n      <td>GUARAPUAVA</td>\n      <td>PONTA GROSSA</td>\n      <td>COVID-19, Biologia Molecular</td>\n      <td>2021-01-13</td>\n      <td>NaN</td>\n      <td>NaN</td>\n      <td>NaT</td>\n      <td>NaT</td>\n      <td>NaN</td>\n      <td>NaT</td>\n      <td>NaN</td>\n      <td>1</td>\n    </tr>\n    <tr>\n      <th>2021-03-04</th>\n      <td>M</td>\n      <td>66</td>\n      <td>PONTA GROSSA</td>\n      <td>PONTA GROSSA</td>\n      <td>Teste Rápido Antígeno (Imunocromatografia)</td>\n      <td>2021-03-03</td>\n      <td>NaN</td>\n      <td>NaN</td>\n      <td>NaT</td>\n      <td>NaT</td>\n      <td>NaN</td>\n      <td>NaT</td>\n      <td>NaN</td>\n      <td>1</td>\n    </tr>\n    <tr>\n      <th>2021-03-04</th>\n      <td>M</td>\n      <td>45</td>\n      <td>PONTA GROSSA</td>\n      <td>PONTA GROSSA</td>\n      <td>COVID-19, Biologia Molecular</td>\n      <td>2021-01-29</td>\n      <td>24/01/2021</td>\n      <td>NaN</td>\n      <td>NaT</td>\n      <td>NaT</td>\n      <td>NaN</td>\n      <td>NaT</td>\n      <td>NaN</td>\n      <td>1</td>\n    </tr>\n    <tr>\n      <th>2021-03-04</th>\n      <td>F</td>\n      <td>27</td>\n      <td>PONTA GROSSA</td>\n      <td>PONTA GROSSA</td>\n      <td>COVID-19, Biologia Molecular</td>\n      <td>2021-02-25</td>\n      <td>17/02/2021</td>\n      <td>NaN</td>\n      <td>NaT</td>\n      <td>NaT</td>\n      <td>NaN</td>\n      <td>NaT</td>\n      <td>NaN</td>\n      <td>1</td>\n    </tr>\n  </tbody>\n</table>\n<p>23553 rows × 14 columns</p>\n</div>",
      "text/plain": "                            SEXO  IDADE_ORIGINAL MUN_RESIDENCIA  \\\nDATA_CONFIRMACAO_DIVULGACAO                                       \n2020-03-21                     M              33   PONTA GROSSA   \n2020-03-25                     F              61   PONTA GROSSA   \n2020-03-25                     F              30   PONTA GROSSA   \n2020-04-04                     M              54   PONTA GROSSA   \n2020-04-04                     F              71         CASTRO   \n...                          ...             ...            ...   \n2021-03-04                     M              25   PONTA GROSSA   \n2021-03-04                     M              37     GUARAPUAVA   \n2021-03-04                     M              66   PONTA GROSSA   \n2021-03-04                     M              45   PONTA GROSSA   \n2021-03-04                     F              27   PONTA GROSSA   \n\n                            MUN_ATENDIMENTO  \\\nDATA_CONFIRMACAO_DIVULGACAO                   \n2020-03-21                     PONTA GROSSA   \n2020-03-25                     PONTA GROSSA   \n2020-03-25                     PONTA GROSSA   \n2020-04-04                     PONTA GROSSA   \n2020-04-04                     PONTA GROSSA   \n...                                     ...   \n2021-03-04                     PONTA GROSSA   \n2021-03-04                     PONTA GROSSA   \n2021-03-04                     PONTA GROSSA   \n2021-03-04                     PONTA GROSSA   \n2021-03-04                     PONTA GROSSA   \n\n                                                            LABORATORIO  \\\nDATA_CONFIRMACAO_DIVULGACAO                                               \n2020-03-21                                                        LACEN   \n2020-03-25                                                        LACEN   \n2020-03-25                                                        LACEN   \n2020-04-04                                                           DB   \n2020-04-04                                                           DB   \n...                                                                 ...   \n2021-03-04                                 COVID-19, Biologia Molecular   \n2021-03-04                                 COVID-19, Biologia Molecular   \n2021-03-04                   Teste Rápido Antígeno (Imunocromatografia)   \n2021-03-04                                 COVID-19, Biologia Molecular   \n2021-03-04                                 COVID-19, Biologia Molecular   \n\n                            DATA_DIAGNOSTICO DATA_INICIO_SINTOMAS  OBITO  \\\nDATA_CONFIRMACAO_DIVULGACAO                                                \n2020-03-21                        2020-03-21           17/03/2020    0.0   \n2020-03-25                        2020-03-25           12/03/2020    0.0   \n2020-03-25                        2020-03-25           15/03/2020    0.0   \n2020-04-04                        2020-03-31                  NaN    0.0   \n2020-04-04                        2020-03-29                  NaN    0.0   \n...                                      ...                  ...    ...   \n2021-03-04                        2021-03-01           23/02/2021    NaN   \n2021-03-04                        2021-01-13                  NaN    NaN   \n2021-03-04                        2021-03-03                  NaN    NaN   \n2021-03-04                        2021-01-29           24/01/2021    NaN   \n2021-03-04                        2021-02-25           17/02/2021    NaN   \n\n                            DATA_OBITO DATA_OBITO_DIVULGACAO  STATUS  \\\nDATA_CONFIRMACAO_DIVULGACAO                                            \n2020-03-21                         NaT                   NaT     1.0   \n2020-03-25                         NaT                   NaT     1.0   \n2020-03-25                         NaT                   NaT     1.0   \n2020-04-04                         NaT                   NaT     1.0   \n2020-04-04                         NaT                   NaT     1.0   \n...                                ...                   ...     ...   \n2021-03-04                         NaT                   NaT     NaN   \n2021-03-04                         NaT                   NaT     NaN   \n2021-03-04                         NaT                   NaT     NaN   \n2021-03-04                         NaT                   NaT     NaN   \n2021-03-04                         NaT                   NaT     NaN   \n\n                            DATA_RECUPERADO_DIVULGACAO FONTE_DADO_RECUPERADO  \\\nDATA_CONFIRMACAO_DIVULGACAO                                                    \n2020-03-21                                         NaT    Epidemio Municipal   \n2020-03-25                                         NaT    Epidemio Municipal   \n2020-03-25                                         NaT    Epidemio Municipal   \n2020-04-04                                         NaT      SMS Ponta Grossa   \n2020-04-04                                         NaT            SMS Castro   \n...                                                ...                   ...   \n2021-03-04                                         NaT                   NaN   \n2021-03-04                                         NaT                   NaN   \n2021-03-04                                         NaT                   NaN   \n2021-03-04                                         NaT                   NaN   \n2021-03-04                                         NaT                   NaN   \n\n                             CASO_CONFIRMADO_NO_DIA  \nDATA_CONFIRMACAO_DIVULGACAO                          \n2020-03-21                                        1  \n2020-03-25                                        1  \n2020-03-25                                        1  \n2020-04-04                                        1  \n2020-04-04                                        1  \n...                                             ...  \n2021-03-04                                        1  \n2021-03-04                                        1  \n2021-03-04                                        1  \n2021-03-04                                        1  \n2021-03-04                                        1  \n\n[23553 rows x 14 columns]"
     },
     "execution_count": 27,
     "metadata": {},
     "output_type": "execute_result"
    }
   ],
   "source": [
    "dados_pg.sort_index()"
   ]
  },
  {
   "cell_type": "code",
   "execution_count": 59,
   "metadata": {},
   "outputs": [],
   "source": [
    "def seleciona_cidade(cidade):\n",
    "    \"\"\"\n",
    "    Esta função retona todos os registros\n",
    "    cujo o atendimento ocorreu na cidade \n",
    "    passada como parâmetro.\n",
    "    Retorna um dataframe.\n",
    "    \"\"\"\n",
    "    dados_cidade = informe_covid.query(f'MUN_ATENDIMENTO == \"{cidade.upper()}\"')\n",
    "    return dados_cidade\n",
    "\n"
   ]
  },
  {
   "cell_type": "code",
   "execution_count": 33,
   "metadata": {},
   "outputs": [],
   "source": [
    "\n"
   ]
  },
  {
   "cell_type": "code",
   "execution_count": 55,
   "metadata": {},
   "outputs": [
    {
     "data": {
      "text/html": "<div>\n<style scoped>\n    .dataframe tbody tr th:only-of-type {\n        vertical-align: middle;\n    }\n\n    .dataframe tbody tr th {\n        vertical-align: top;\n    }\n\n    .dataframe thead th {\n        text-align: right;\n    }\n</style>\n<table border=\"1\" class=\"dataframe\">\n  <thead>\n    <tr style=\"text-align: right;\">\n      <th></th>\n      <th>SEXO</th>\n      <th>IDADE_ORIGINAL</th>\n      <th>MUN_RESIDENCIA</th>\n      <th>MUN_ATENDIMENTO</th>\n      <th>LABORATORIO</th>\n      <th>DATA_DIAGNOSTICO</th>\n      <th>DATA_INICIO_SINTOMAS</th>\n      <th>OBITO</th>\n      <th>DATA_OBITO</th>\n      <th>DATA_OBITO_DIVULGACAO</th>\n      <th>STATUS</th>\n      <th>DATA_RECUPERADO_DIVULGACAO</th>\n      <th>FONTE_DADO_RECUPERADO</th>\n      <th>CASO_CONFIRMADO_NO_DIA</th>\n    </tr>\n    <tr>\n      <th>DATA_CONFIRMACAO_DIVULGACAO</th>\n      <th></th>\n      <th></th>\n      <th></th>\n      <th></th>\n      <th></th>\n      <th></th>\n      <th></th>\n      <th></th>\n      <th></th>\n      <th></th>\n      <th></th>\n      <th></th>\n      <th></th>\n      <th></th>\n    </tr>\n  </thead>\n  <tbody>\n    <tr>\n      <th>2020-03-21</th>\n      <td>M</td>\n      <td>33</td>\n      <td>PONTA GROSSA</td>\n      <td>PONTA GROSSA</td>\n      <td>LACEN</td>\n      <td>2020-03-21</td>\n      <td>17/03/2020</td>\n      <td>0.0</td>\n      <td>NaT</td>\n      <td>NaT</td>\n      <td>1.0</td>\n      <td>NaT</td>\n      <td>Epidemio Municipal</td>\n      <td>1</td>\n    </tr>\n    <tr>\n      <th>2020-03-25</th>\n      <td>F</td>\n      <td>61</td>\n      <td>PONTA GROSSA</td>\n      <td>PONTA GROSSA</td>\n      <td>LACEN</td>\n      <td>2020-03-25</td>\n      <td>12/03/2020</td>\n      <td>0.0</td>\n      <td>NaT</td>\n      <td>NaT</td>\n      <td>1.0</td>\n      <td>NaT</td>\n      <td>Epidemio Municipal</td>\n      <td>1</td>\n    </tr>\n    <tr>\n      <th>2020-03-25</th>\n      <td>F</td>\n      <td>30</td>\n      <td>PONTA GROSSA</td>\n      <td>PONTA GROSSA</td>\n      <td>LACEN</td>\n      <td>2020-03-25</td>\n      <td>15/03/2020</td>\n      <td>0.0</td>\n      <td>NaT</td>\n      <td>NaT</td>\n      <td>1.0</td>\n      <td>NaT</td>\n      <td>Epidemio Municipal</td>\n      <td>1</td>\n    </tr>\n    <tr>\n      <th>2020-04-04</th>\n      <td>M</td>\n      <td>54</td>\n      <td>PONTA GROSSA</td>\n      <td>PONTA GROSSA</td>\n      <td>DB</td>\n      <td>2020-03-31</td>\n      <td>NaN</td>\n      <td>0.0</td>\n      <td>NaT</td>\n      <td>NaT</td>\n      <td>1.0</td>\n      <td>NaT</td>\n      <td>SMS Ponta Grossa</td>\n      <td>1</td>\n    </tr>\n    <tr>\n      <th>2020-04-04</th>\n      <td>F</td>\n      <td>71</td>\n      <td>CASTRO</td>\n      <td>PONTA GROSSA</td>\n      <td>DB</td>\n      <td>2020-03-29</td>\n      <td>NaN</td>\n      <td>0.0</td>\n      <td>NaT</td>\n      <td>NaT</td>\n      <td>1.0</td>\n      <td>NaT</td>\n      <td>SMS Castro</td>\n      <td>1</td>\n    </tr>\n    <tr>\n      <th>...</th>\n      <td>...</td>\n      <td>...</td>\n      <td>...</td>\n      <td>...</td>\n      <td>...</td>\n      <td>...</td>\n      <td>...</td>\n      <td>...</td>\n      <td>...</td>\n      <td>...</td>\n      <td>...</td>\n      <td>...</td>\n      <td>...</td>\n      <td>...</td>\n    </tr>\n    <tr>\n      <th>2021-03-04</th>\n      <td>M</td>\n      <td>25</td>\n      <td>PONTA GROSSA</td>\n      <td>PONTA GROSSA</td>\n      <td>COVID-19, Biologia Molecular</td>\n      <td>2021-03-01</td>\n      <td>23/02/2021</td>\n      <td>NaN</td>\n      <td>NaT</td>\n      <td>NaT</td>\n      <td>NaN</td>\n      <td>NaT</td>\n      <td>NaN</td>\n      <td>1</td>\n    </tr>\n    <tr>\n      <th>2021-03-04</th>\n      <td>M</td>\n      <td>37</td>\n      <td>GUARAPUAVA</td>\n      <td>PONTA GROSSA</td>\n      <td>COVID-19, Biologia Molecular</td>\n      <td>2021-01-13</td>\n      <td>NaN</td>\n      <td>NaN</td>\n      <td>NaT</td>\n      <td>NaT</td>\n      <td>NaN</td>\n      <td>NaT</td>\n      <td>NaN</td>\n      <td>1</td>\n    </tr>\n    <tr>\n      <th>2021-03-04</th>\n      <td>M</td>\n      <td>66</td>\n      <td>PONTA GROSSA</td>\n      <td>PONTA GROSSA</td>\n      <td>Teste Rápido Antígeno (Imunocromatografia)</td>\n      <td>2021-03-03</td>\n      <td>NaN</td>\n      <td>NaN</td>\n      <td>NaT</td>\n      <td>NaT</td>\n      <td>NaN</td>\n      <td>NaT</td>\n      <td>NaN</td>\n      <td>1</td>\n    </tr>\n    <tr>\n      <th>2021-03-04</th>\n      <td>M</td>\n      <td>45</td>\n      <td>PONTA GROSSA</td>\n      <td>PONTA GROSSA</td>\n      <td>COVID-19, Biologia Molecular</td>\n      <td>2021-01-29</td>\n      <td>24/01/2021</td>\n      <td>NaN</td>\n      <td>NaT</td>\n      <td>NaT</td>\n      <td>NaN</td>\n      <td>NaT</td>\n      <td>NaN</td>\n      <td>1</td>\n    </tr>\n    <tr>\n      <th>2021-03-04</th>\n      <td>F</td>\n      <td>27</td>\n      <td>PONTA GROSSA</td>\n      <td>PONTA GROSSA</td>\n      <td>COVID-19, Biologia Molecular</td>\n      <td>2021-02-25</td>\n      <td>17/02/2021</td>\n      <td>NaN</td>\n      <td>NaT</td>\n      <td>NaT</td>\n      <td>NaN</td>\n      <td>NaT</td>\n      <td>NaN</td>\n      <td>1</td>\n    </tr>\n  </tbody>\n</table>\n<p>23553 rows × 14 columns</p>\n</div>",
      "text/plain": "                            SEXO  IDADE_ORIGINAL MUN_RESIDENCIA  \\\nDATA_CONFIRMACAO_DIVULGACAO                                       \n2020-03-21                     M              33   PONTA GROSSA   \n2020-03-25                     F              61   PONTA GROSSA   \n2020-03-25                     F              30   PONTA GROSSA   \n2020-04-04                     M              54   PONTA GROSSA   \n2020-04-04                     F              71         CASTRO   \n...                          ...             ...            ...   \n2021-03-04                     M              25   PONTA GROSSA   \n2021-03-04                     M              37     GUARAPUAVA   \n2021-03-04                     M              66   PONTA GROSSA   \n2021-03-04                     M              45   PONTA GROSSA   \n2021-03-04                     F              27   PONTA GROSSA   \n\n                            MUN_ATENDIMENTO  \\\nDATA_CONFIRMACAO_DIVULGACAO                   \n2020-03-21                     PONTA GROSSA   \n2020-03-25                     PONTA GROSSA   \n2020-03-25                     PONTA GROSSA   \n2020-04-04                     PONTA GROSSA   \n2020-04-04                     PONTA GROSSA   \n...                                     ...   \n2021-03-04                     PONTA GROSSA   \n2021-03-04                     PONTA GROSSA   \n2021-03-04                     PONTA GROSSA   \n2021-03-04                     PONTA GROSSA   \n2021-03-04                     PONTA GROSSA   \n\n                                                            LABORATORIO  \\\nDATA_CONFIRMACAO_DIVULGACAO                                               \n2020-03-21                                                        LACEN   \n2020-03-25                                                        LACEN   \n2020-03-25                                                        LACEN   \n2020-04-04                                                           DB   \n2020-04-04                                                           DB   \n...                                                                 ...   \n2021-03-04                                 COVID-19, Biologia Molecular   \n2021-03-04                                 COVID-19, Biologia Molecular   \n2021-03-04                   Teste Rápido Antígeno (Imunocromatografia)   \n2021-03-04                                 COVID-19, Biologia Molecular   \n2021-03-04                                 COVID-19, Biologia Molecular   \n\n                            DATA_DIAGNOSTICO DATA_INICIO_SINTOMAS  OBITO  \\\nDATA_CONFIRMACAO_DIVULGACAO                                                \n2020-03-21                        2020-03-21           17/03/2020    0.0   \n2020-03-25                        2020-03-25           12/03/2020    0.0   \n2020-03-25                        2020-03-25           15/03/2020    0.0   \n2020-04-04                        2020-03-31                  NaN    0.0   \n2020-04-04                        2020-03-29                  NaN    0.0   \n...                                      ...                  ...    ...   \n2021-03-04                        2021-03-01           23/02/2021    NaN   \n2021-03-04                        2021-01-13                  NaN    NaN   \n2021-03-04                        2021-03-03                  NaN    NaN   \n2021-03-04                        2021-01-29           24/01/2021    NaN   \n2021-03-04                        2021-02-25           17/02/2021    NaN   \n\n                            DATA_OBITO DATA_OBITO_DIVULGACAO  STATUS  \\\nDATA_CONFIRMACAO_DIVULGACAO                                            \n2020-03-21                         NaT                   NaT     1.0   \n2020-03-25                         NaT                   NaT     1.0   \n2020-03-25                         NaT                   NaT     1.0   \n2020-04-04                         NaT                   NaT     1.0   \n2020-04-04                         NaT                   NaT     1.0   \n...                                ...                   ...     ...   \n2021-03-04                         NaT                   NaT     NaN   \n2021-03-04                         NaT                   NaT     NaN   \n2021-03-04                         NaT                   NaT     NaN   \n2021-03-04                         NaT                   NaT     NaN   \n2021-03-04                         NaT                   NaT     NaN   \n\n                            DATA_RECUPERADO_DIVULGACAO FONTE_DADO_RECUPERADO  \\\nDATA_CONFIRMACAO_DIVULGACAO                                                    \n2020-03-21                                         NaT    Epidemio Municipal   \n2020-03-25                                         NaT    Epidemio Municipal   \n2020-03-25                                         NaT    Epidemio Municipal   \n2020-04-04                                         NaT      SMS Ponta Grossa   \n2020-04-04                                         NaT            SMS Castro   \n...                                                ...                   ...   \n2021-03-04                                         NaT                   NaN   \n2021-03-04                                         NaT                   NaN   \n2021-03-04                                         NaT                   NaN   \n2021-03-04                                         NaT                   NaN   \n2021-03-04                                         NaT                   NaN   \n\n                             CASO_CONFIRMADO_NO_DIA  \nDATA_CONFIRMACAO_DIVULGACAO                          \n2020-03-21                                        1  \n2020-03-25                                        1  \n2020-03-25                                        1  \n2020-04-04                                        1  \n2020-04-04                                        1  \n...                                             ...  \n2021-03-04                                        1  \n2021-03-04                                        1  \n2021-03-04                                        1  \n2021-03-04                                        1  \n2021-03-04                                        1  \n\n[23553 rows x 14 columns]"
     },
     "execution_count": 55,
     "metadata": {},
     "output_type": "execute_result"
    }
   ],
   "source": [
    "dado_cidade = seleciona_cidade('ponta grossa')\n",
    "dado_cidade"
   ]
  },
  {
   "cell_type": "code",
   "execution_count": null,
   "metadata": {},
   "outputs": [],
   "source": []
  },
  {
   "cell_type": "code",
   "execution_count": null,
   "metadata": {},
   "outputs": [],
   "source": []
  }
 ],
 "metadata": {
  "kernelspec": {
   "display_name": "Python 3.8.6 64-bit ('venv_covid_parana': venv)",
   "metadata": {
    "interpreter": {
     "hash": "244648bc122f8d56e5e325d7211801fa88afee003ad37b8545e4dfd6487faaeb"
    }
   },
   "name": "python3"
  },
  "language_info": {
   "codemirror_mode": {
    "name": "ipython",
    "version": 3
   },
   "file_extension": ".py",
   "mimetype": "text/x-python",
   "name": "python",
   "nbconvert_exporter": "python",
   "pygments_lexer": "ipython3",
   "version": "3.8.6"
  },
  "orig_nbformat": 2
 },
 "nbformat": 4,
 "nbformat_minor": 2
}