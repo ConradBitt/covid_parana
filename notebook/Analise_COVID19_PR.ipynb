{
 "cells": [
  {
   "cell_type": "code",
   "execution_count": 1,
   "metadata": {},
   "outputs": [
    {
     "name": "stdout",
     "output_type": "stream",
     "text": [
      "pandas == 1.2.2\n",
      "numpy == 1.19.2\n",
      "matplotlib == 3.3.4\n",
      "seaborn == 0.11.1\n",
      "plotly == 4.11.0\n",
      "pystan == 2.19.1.1\n",
      "fbprophet == 0.7.1\n"
     ]
    }
   ],
   "source": [
    "import pandas as pd\n",
    "import numpy as np\n",
    "import matplotlib\n",
    "import seaborn as sns\n",
    "import pystan\n",
    "import fbprophet \n",
    "import plotly \n",
    "\n",
    "\n",
    "\n",
    "#built-in \n",
    "import datetime\n",
    "\n",
    "print('pandas ==',pd.__version__)\n",
    "print('numpy ==',np.__version__)\n",
    "print('matplotlib ==',matplotlib.__version__)\n",
    "print('seaborn ==',sns.__version__)\n",
    "print('plotly ==', plotly.__version__)\n",
    "print('pystan ==',pystan.__version__)\n",
    "print('fbprophet ==',fbprophet.__version__)"
   ]
  },
  {
   "cell_type": "markdown",
   "metadata": {},
   "source": [
    "# Funções"
   ]
  },
  {
   "cell_type": "code",
   "execution_count": 2,
   "metadata": {},
   "outputs": [],
   "source": [
    "# =======================================================================================\n",
    "## FUNÇÕES PARA A IMPORTAÇÃO DOS DADOS E TRANSFORMAR DATAS\n",
    "\n",
    "def converte_variaveis_em_datas(dataframe):\n",
    "    for variavel in dataframe.columns:\n",
    "        if 'DATA' in variavel:\n",
    "            try:\n",
    "                dataframe[variavel] = pd.to_datetime(dataframe[variavel], format='%d/%m/%Y')\n",
    "            \n",
    "            except:\n",
    "                print(f'Variável \"{variavel}\" contém um erro e conversão/formatação')\n",
    "                pass\n",
    "        else:\n",
    "            pass \n",
    "    return dataframe\n",
    "\n",
    "\n",
    "def tira_variaveis_IBGE(dataframe):\n",
    "    dataframe = dataframe.drop(['IBGE_RES_PR','IBGE_ATEND_PR'], axis='columns')\n",
    "    return dataframe\n",
    "\n",
    "\n",
    "def cria_variavel_caso_confirmado_no_dia(dataframe):\n",
    "    dataframe['CASO_CONFIRMADO_NO_DIA'] = 1\n",
    "    return dataframe\n",
    "\n",
    "\n",
    "def replace_nas_variaveis_obito_status(dataframe):\n",
    "\n",
    "    dataframe['OBITO'] = dataframe['OBITO'].replace('SIM','Sim')\n",
    "    dataframe['OBITO'] = dataframe['OBITO'].replace('Não','Nao')\n",
    "\n",
    "    dataframe['OBITO'] = dataframe['OBITO'].replace('Sim',1)\n",
    "    dataframe['OBITO'] = dataframe['OBITO'].replace('Nao',0)\n",
    "\n",
    "    dataframe['STATUS'] = dataframe['STATUS'].replace('Recuperado','recuperado')\n",
    "    dataframe['STATUS'] = dataframe['STATUS'].replace('recuperado', 1)\n",
    "    dataframe['STATUS'] = dataframe['STATUS'].replace('nan', 0)\n",
    "\n",
    "    return dataframe\n",
    "    \n",
    "\n",
    "def pre_processamento(dataframe):\n",
    "    dataframe = converte_variaveis_em_datas(dataframe)\n",
    "    dataframe = tira_variaveis_IBGE(dataframe)\n",
    "    dataframe = cria_variavel_caso_confirmado_no_dia(dataframe)\n",
    "    dataframe = replace_nas_variaveis_obito_status(dataframe)\n",
    "    dataframe = dataframe.set_index('DATA_CONFIRMACAO_DIVULGACAO')\n",
    "    dataframe = dataframe.sort_index()\n",
    "    return dataframe\n",
    "\n",
    "def baixa_base_de_dados_casos_gerais(ano,mes,dia):\n",
    "    \"\"\"\n",
    "    Esta função baixa a base de dados disponível no ano, mes e dia.\n",
    "    retorna um dataframe do pandas com os dados disponpiveis.\n",
    "    \"\"\"\n",
    "    data = datetime.date(ano, mes, dia)\n",
    "    ano = str(data.year)\n",
    "\n",
    "    if mes != 10 and mes != 11 and mes != 12:\n",
    "        mes = '0'+str(data.month)\n",
    "    else:\n",
    "        mes = str(data.month)\n",
    "\n",
    "    if dia in [1,2,3,4,6,7,8,9]:\n",
    "        dia = '0'+str(data.day)\n",
    "\n",
    "    ano_mes = ano+'-'+mes\n",
    "\n",
    "    if ano == '2020':\n",
    "        arquivo = f'INFORME_EPIDEMIOLOGICO_{dia}_{mes}_GERAL.csv'\n",
    "    elif ano == '2021':\n",
    "        arquivo = f'informe_epidemiologico_{dia}_{mes}_{ano}_geral.csv'\n",
    "    # Podem acontecer as seguintes variações no site do estado:\n",
    "    # informe_epidemiologico_{dia}_{mes}_{ano}_geral.csv\n",
    "    # informe_epidemiologico_{dia}_{mes}_geral.csv\n",
    "    # INFORME_EPIDEMIOLOGICO_{dia}_{mes}_GERAL.csv\n",
    "\n",
    "\n",
    "\n",
    "    dominio = 'https://www.saude.pr.gov.br'\n",
    "    caminho = f'/sites/default/arquivos_restritos/files/documento/{ano_mes}/'\n",
    "    try:\n",
    "\n",
    "        url = dominio+caminho+arquivo\n",
    "        base_de_dados = pd.read_csv(url, sep=';')\n",
    "        base_de_dados = pre_processamento(base_de_dados)\n",
    "        \n",
    "    \n",
    "    except:\n",
    "        raise Exception('Não Tem dados disponíveis neste dia.')\n",
    "\n",
    "    return base_de_dados\n",
    "\n",
    "# =======================================================================================\n",
    "## FUNÇÕES PARA SELEÇÃO \n",
    "\n",
    "def seleciona_media_movel(dataframe):\n",
    "\n",
    "    if 'MUN_ATENDIMENTO' in dataframe.columns and 'DATA_CONFIRMACAO_DIVULGACAO' in dataframe.columns:\n",
    "        dataframe = dataframe.groupby(['MUN_ATENDIMENTO','DATA_CONFIRMACAO_DIVULGACAO'])[['CASO_CONFIRMADO_NO_DIA','OBITO']].sum().rolling(15).mean()[15:]\n",
    "        return dataframe\n",
    "    else:\n",
    "        raise Exception('')\n",
    "\n",
    "\n"
   ]
  },
  {
   "cell_type": "markdown",
   "metadata": {},
   "source": [
    "# Importando os Dados "
   ]
  },
  {
   "cell_type": "code",
   "execution_count": 3,
   "metadata": {},
   "outputs": [
    {
     "name": "stdout",
     "output_type": "stream",
     "text": [
      "Variável \"DATA_INICIO_SINTOMAS\" contém um erro e conversão/formatação\n"
     ]
    }
   ],
   "source": [
    "hoje = datetime.date.today()\n",
    "informe_covid = baixa_base_de_dados_casos_gerais(hoje.year, hoje.month, hoje.day - 1)"
   ]
  },
  {
   "cell_type": "code",
   "execution_count": 4,
   "metadata": {},
   "outputs": [
    {
     "data": {
      "text/html": "<div>\n<style scoped>\n    .dataframe tbody tr th:only-of-type {\n        vertical-align: middle;\n    }\n\n    .dataframe tbody tr th {\n        vertical-align: top;\n    }\n\n    .dataframe thead th {\n        text-align: right;\n    }\n</style>\n<table border=\"1\" class=\"dataframe\">\n  <thead>\n    <tr style=\"text-align: right;\">\n      <th></th>\n      <th>SEXO</th>\n      <th>IDADE_ORIGINAL</th>\n      <th>MUN_RESIDENCIA</th>\n      <th>MUN_ATENDIMENTO</th>\n      <th>LABORATORIO</th>\n      <th>DATA_DIAGNOSTICO</th>\n      <th>DATA_INICIO_SINTOMAS</th>\n      <th>OBITO</th>\n      <th>DATA_OBITO</th>\n      <th>DATA_OBITO_DIVULGACAO</th>\n      <th>STATUS</th>\n      <th>DATA_RECUPERADO_DIVULGACAO</th>\n      <th>FONTE_DADO_RECUPERADO</th>\n      <th>CASO_CONFIRMADO_NO_DIA</th>\n    </tr>\n    <tr>\n      <th>DATA_CONFIRMACAO_DIVULGACAO</th>\n      <th></th>\n      <th></th>\n      <th></th>\n      <th></th>\n      <th></th>\n      <th></th>\n      <th></th>\n      <th></th>\n      <th></th>\n      <th></th>\n      <th></th>\n      <th></th>\n      <th></th>\n      <th></th>\n    </tr>\n  </thead>\n  <tbody>\n    <tr>\n      <th>2020-03-12</th>\n      <td>F</td>\n      <td>26</td>\n      <td>CURITIBA</td>\n      <td>CURITIBA</td>\n      <td>Genoprimer</td>\n      <td>2020-03-18</td>\n      <td>15/03/2020</td>\n      <td>0.0</td>\n      <td>NaT</td>\n      <td>NaT</td>\n      <td>1.0</td>\n      <td>NaT</td>\n      <td>NaN</td>\n      <td>1</td>\n    </tr>\n    <tr>\n      <th>2020-03-12</th>\n      <td>M</td>\n      <td>15</td>\n      <td>CURITIBA</td>\n      <td>CURITIBA</td>\n      <td>LACEN</td>\n      <td>2020-03-12</td>\n      <td>08/03/2020</td>\n      <td>0.0</td>\n      <td>NaT</td>\n      <td>NaT</td>\n      <td>1.0</td>\n      <td>NaT</td>\n      <td>NaN</td>\n      <td>1</td>\n    </tr>\n    <tr>\n      <th>2020-03-12</th>\n      <td>F</td>\n      <td>47</td>\n      <td>CIANORTE</td>\n      <td>CIANORTE</td>\n      <td>LACEN</td>\n      <td>2020-03-12</td>\n      <td>NaN</td>\n      <td>0.0</td>\n      <td>NaT</td>\n      <td>NaT</td>\n      <td>1.0</td>\n      <td>NaT</td>\n      <td>Notificações</td>\n      <td>1</td>\n    </tr>\n    <tr>\n      <th>2020-03-12</th>\n      <td>M</td>\n      <td>43</td>\n      <td>CURITIBA</td>\n      <td>CURITIBA</td>\n      <td>LACEN</td>\n      <td>2020-03-12</td>\n      <td>07/03/2020</td>\n      <td>0.0</td>\n      <td>NaT</td>\n      <td>NaT</td>\n      <td>1.0</td>\n      <td>NaT</td>\n      <td>NaN</td>\n      <td>1</td>\n    </tr>\n    <tr>\n      <th>2020-03-12</th>\n      <td>M</td>\n      <td>28</td>\n      <td>SAO PAULO/SP</td>\n      <td>CURITIBA</td>\n      <td>Genoprimer</td>\n      <td>2020-03-16</td>\n      <td>NaN</td>\n      <td>0.0</td>\n      <td>NaT</td>\n      <td>NaT</td>\n      <td>1.0</td>\n      <td>2020-08-05</td>\n      <td>SMS</td>\n      <td>1</td>\n    </tr>\n    <tr>\n      <th>...</th>\n      <td>...</td>\n      <td>...</td>\n      <td>...</td>\n      <td>...</td>\n      <td>...</td>\n      <td>...</td>\n      <td>...</td>\n      <td>...</td>\n      <td>...</td>\n      <td>...</td>\n      <td>...</td>\n      <td>...</td>\n      <td>...</td>\n      <td>...</td>\n    </tr>\n    <tr>\n      <th>2021-03-10</th>\n      <td>F</td>\n      <td>13</td>\n      <td>CLEVELANDIA</td>\n      <td>NaN</td>\n      <td>COVID-19, Biologia Molecular</td>\n      <td>2021-03-09</td>\n      <td>NaN</td>\n      <td>NaN</td>\n      <td>NaT</td>\n      <td>NaT</td>\n      <td>NaN</td>\n      <td>NaT</td>\n      <td>NaN</td>\n      <td>1</td>\n    </tr>\n    <tr>\n      <th>2021-03-10</th>\n      <td>F</td>\n      <td>17</td>\n      <td>CAMPO MOURAO</td>\n      <td>CAMPO MOURAO</td>\n      <td>COVID-19, Biologia Molecular</td>\n      <td>2021-03-08</td>\n      <td>28/02/2021</td>\n      <td>NaN</td>\n      <td>NaT</td>\n      <td>NaT</td>\n      <td>NaN</td>\n      <td>NaT</td>\n      <td>NaN</td>\n      <td>1</td>\n    </tr>\n    <tr>\n      <th>2021-03-10</th>\n      <td>F</td>\n      <td>21</td>\n      <td>LUIZIANA</td>\n      <td>LUIZIANA</td>\n      <td>Teste Rápido Antígeno (Imunocromatografia)</td>\n      <td>2021-03-09</td>\n      <td>07/03/2021</td>\n      <td>NaN</td>\n      <td>NaT</td>\n      <td>NaT</td>\n      <td>NaN</td>\n      <td>NaT</td>\n      <td>NaN</td>\n      <td>1</td>\n    </tr>\n    <tr>\n      <th>2021-03-10</th>\n      <td>F</td>\n      <td>14</td>\n      <td>CAMPO LARGO</td>\n      <td>CAMPO LARGO</td>\n      <td>Teste Rápido Antígeno (Imunocromatografia)</td>\n      <td>2021-03-09</td>\n      <td>08/03/2021</td>\n      <td>NaN</td>\n      <td>NaT</td>\n      <td>NaT</td>\n      <td>NaN</td>\n      <td>NaT</td>\n      <td>NaN</td>\n      <td>1</td>\n    </tr>\n    <tr>\n      <th>2021-03-10</th>\n      <td>F</td>\n      <td>22</td>\n      <td>ARAPONGAS</td>\n      <td>ARAPONGAS</td>\n      <td>COVID-19, Biologia Molecular</td>\n      <td>2021-01-03</td>\n      <td>28/12/2020</td>\n      <td>NaN</td>\n      <td>NaT</td>\n      <td>NaT</td>\n      <td>NaN</td>\n      <td>NaT</td>\n      <td>NaN</td>\n      <td>1</td>\n    </tr>\n  </tbody>\n</table>\n<p>741568 rows × 14 columns</p>\n</div>",
      "text/plain": "                            SEXO  IDADE_ORIGINAL MUN_RESIDENCIA  \\\nDATA_CONFIRMACAO_DIVULGACAO                                       \n2020-03-12                     F              26       CURITIBA   \n2020-03-12                     M              15       CURITIBA   \n2020-03-12                     F              47       CIANORTE   \n2020-03-12                     M              43       CURITIBA   \n2020-03-12                     M              28   SAO PAULO/SP   \n...                          ...             ...            ...   \n2021-03-10                     F              13    CLEVELANDIA   \n2021-03-10                     F              17   CAMPO MOURAO   \n2021-03-10                     F              21       LUIZIANA   \n2021-03-10                     F              14    CAMPO LARGO   \n2021-03-10                     F              22      ARAPONGAS   \n\n                            MUN_ATENDIMENTO  \\\nDATA_CONFIRMACAO_DIVULGACAO                   \n2020-03-12                         CURITIBA   \n2020-03-12                         CURITIBA   \n2020-03-12                         CIANORTE   \n2020-03-12                         CURITIBA   \n2020-03-12                         CURITIBA   \n...                                     ...   \n2021-03-10                              NaN   \n2021-03-10                     CAMPO MOURAO   \n2021-03-10                         LUIZIANA   \n2021-03-10                      CAMPO LARGO   \n2021-03-10                        ARAPONGAS   \n\n                                                            LABORATORIO  \\\nDATA_CONFIRMACAO_DIVULGACAO                                               \n2020-03-12                                                   Genoprimer   \n2020-03-12                                                        LACEN   \n2020-03-12                                                        LACEN   \n2020-03-12                                                        LACEN   \n2020-03-12                                                   Genoprimer   \n...                                                                 ...   \n2021-03-10                                 COVID-19, Biologia Molecular   \n2021-03-10                                 COVID-19, Biologia Molecular   \n2021-03-10                   Teste Rápido Antígeno (Imunocromatografia)   \n2021-03-10                   Teste Rápido Antígeno (Imunocromatografia)   \n2021-03-10                                 COVID-19, Biologia Molecular   \n\n                            DATA_DIAGNOSTICO DATA_INICIO_SINTOMAS  OBITO  \\\nDATA_CONFIRMACAO_DIVULGACAO                                                \n2020-03-12                        2020-03-18           15/03/2020    0.0   \n2020-03-12                        2020-03-12           08/03/2020    0.0   \n2020-03-12                        2020-03-12                  NaN    0.0   \n2020-03-12                        2020-03-12           07/03/2020    0.0   \n2020-03-12                        2020-03-16                  NaN    0.0   \n...                                      ...                  ...    ...   \n2021-03-10                        2021-03-09                  NaN    NaN   \n2021-03-10                        2021-03-08           28/02/2021    NaN   \n2021-03-10                        2021-03-09           07/03/2021    NaN   \n2021-03-10                        2021-03-09           08/03/2021    NaN   \n2021-03-10                        2021-01-03           28/12/2020    NaN   \n\n                            DATA_OBITO DATA_OBITO_DIVULGACAO  STATUS  \\\nDATA_CONFIRMACAO_DIVULGACAO                                            \n2020-03-12                         NaT                   NaT     1.0   \n2020-03-12                         NaT                   NaT     1.0   \n2020-03-12                         NaT                   NaT     1.0   \n2020-03-12                         NaT                   NaT     1.0   \n2020-03-12                         NaT                   NaT     1.0   \n...                                ...                   ...     ...   \n2021-03-10                         NaT                   NaT     NaN   \n2021-03-10                         NaT                   NaT     NaN   \n2021-03-10                         NaT                   NaT     NaN   \n2021-03-10                         NaT                   NaT     NaN   \n2021-03-10                         NaT                   NaT     NaN   \n\n                            DATA_RECUPERADO_DIVULGACAO FONTE_DADO_RECUPERADO  \\\nDATA_CONFIRMACAO_DIVULGACAO                                                    \n2020-03-12                                         NaT                   NaN   \n2020-03-12                                         NaT                   NaN   \n2020-03-12                                         NaT          Notificações   \n2020-03-12                                         NaT                   NaN   \n2020-03-12                                  2020-08-05                   SMS   \n...                                                ...                   ...   \n2021-03-10                                         NaT                   NaN   \n2021-03-10                                         NaT                   NaN   \n2021-03-10                                         NaT                   NaN   \n2021-03-10                                         NaT                   NaN   \n2021-03-10                                         NaT                   NaN   \n\n                             CASO_CONFIRMADO_NO_DIA  \nDATA_CONFIRMACAO_DIVULGACAO                          \n2020-03-12                                        1  \n2020-03-12                                        1  \n2020-03-12                                        1  \n2020-03-12                                        1  \n2020-03-12                                        1  \n...                                             ...  \n2021-03-10                                        1  \n2021-03-10                                        1  \n2021-03-10                                        1  \n2021-03-10                                        1  \n2021-03-10                                        1  \n\n[741568 rows x 14 columns]"
     },
     "execution_count": 4,
     "metadata": {},
     "output_type": "execute_result"
    }
   ],
   "source": [
    "informe_covid"
   ]
  },
  {
   "cell_type": "code",
   "execution_count": 5,
   "metadata": {},
   "outputs": [],
   "source": [
    "def seleciona_cidade(cidade, dataframe):\n",
    "    \"\"\"\n",
    "    Esta função retona todos os registros\n",
    "    cujo o atendimento ocorreu na cidade \n",
    "    passada como parâmetro.\n",
    "    Retorna um dataframe.\n",
    "    \"\"\"\n",
    "    dados_cidade = dataframe.query(f'MUN_ATENDIMENTO == \"{cidade.upper()}\"')\n",
    "    return dados_cidade.reset_index()\n",
    "\n"
   ]
  },
  {
   "cell_type": "code",
   "execution_count": 6,
   "metadata": {},
   "outputs": [],
   "source": [
    "move_average_15_por_cidade = informe_covid.groupby(['MUN_ATENDIMENTO','DATA_CONFIRMACAO_DIVULGACAO'])[['CASO_CONFIRMADO_NO_DIA','OBITO']].sum().rolling(14).mean()[14:].round()\n",
    "casos_por_cidade = informe_covid.groupby(['MUN_ATENDIMENTO','DATA_CONFIRMACAO_DIVULGACAO'])[['CASO_CONFIRMADO_NO_DIA','OBITO']].sum().round()"
   ]
  },
  {
   "cell_type": "code",
   "execution_count": 7,
   "metadata": {},
   "outputs": [
    {
     "data": {
      "text/html": "<div>\n<style scoped>\n    .dataframe tbody tr th:only-of-type {\n        vertical-align: middle;\n    }\n\n    .dataframe tbody tr th {\n        vertical-align: top;\n    }\n\n    .dataframe thead th {\n        text-align: right;\n    }\n</style>\n<table border=\"1\" class=\"dataframe\">\n  <thead>\n    <tr style=\"text-align: right;\">\n      <th></th>\n      <th></th>\n      <th>CASO_CONFIRMADO_NO_DIA</th>\n      <th>OBITO</th>\n    </tr>\n    <tr>\n      <th>MUN_ATENDIMENTO</th>\n      <th>DATA_CONFIRMACAO_DIVULGACAO</th>\n      <th></th>\n      <th></th>\n    </tr>\n  </thead>\n  <tbody>\n    <tr>\n      <th rowspan=\"5\" valign=\"top\">ABATIA</th>\n      <th>2020-07-01</th>\n      <td>2.0</td>\n      <td>0.0</td>\n    </tr>\n    <tr>\n      <th>2020-07-02</th>\n      <td>2.0</td>\n      <td>0.0</td>\n    </tr>\n    <tr>\n      <th>2020-07-03</th>\n      <td>2.0</td>\n      <td>0.0</td>\n    </tr>\n    <tr>\n      <th>2020-07-07</th>\n      <td>3.0</td>\n      <td>0.0</td>\n    </tr>\n    <tr>\n      <th>2020-07-08</th>\n      <td>3.0</td>\n      <td>0.0</td>\n    </tr>\n    <tr>\n      <th>...</th>\n      <th>...</th>\n      <td>...</td>\n      <td>...</td>\n    </tr>\n    <tr>\n      <th rowspan=\"5\" valign=\"top\">XAMBRE</th>\n      <th>2021-02-26</th>\n      <td>2.0</td>\n      <td>0.0</td>\n    </tr>\n    <tr>\n      <th>2021-02-27</th>\n      <td>2.0</td>\n      <td>0.0</td>\n    </tr>\n    <tr>\n      <th>2021-03-02</th>\n      <td>2.0</td>\n      <td>0.0</td>\n    </tr>\n    <tr>\n      <th>2021-03-04</th>\n      <td>2.0</td>\n      <td>0.0</td>\n    </tr>\n    <tr>\n      <th>2021-03-07</th>\n      <td>2.0</td>\n      <td>0.0</td>\n    </tr>\n  </tbody>\n</table>\n<p>51277 rows × 2 columns</p>\n</div>",
      "text/plain": "                                             CASO_CONFIRMADO_NO_DIA  OBITO\nMUN_ATENDIMENTO DATA_CONFIRMACAO_DIVULGACAO                               \nABATIA          2020-07-01                                      2.0    0.0\n                2020-07-02                                      2.0    0.0\n                2020-07-03                                      2.0    0.0\n                2020-07-07                                      3.0    0.0\n                2020-07-08                                      3.0    0.0\n...                                                             ...    ...\nXAMBRE          2021-02-26                                      2.0    0.0\n                2021-02-27                                      2.0    0.0\n                2021-03-02                                      2.0    0.0\n                2021-03-04                                      2.0    0.0\n                2021-03-07                                      2.0    0.0\n\n[51277 rows x 2 columns]"
     },
     "execution_count": 7,
     "metadata": {},
     "output_type": "execute_result"
    }
   ],
   "source": [
    "move_average_15_por_cidade"
   ]
  },
  {
   "cell_type": "code",
   "execution_count": 8,
   "metadata": {},
   "outputs": [
    {
     "data": {
      "text/html": "<div>\n<style scoped>\n    .dataframe tbody tr th:only-of-type {\n        vertical-align: middle;\n    }\n\n    .dataframe tbody tr th {\n        vertical-align: top;\n    }\n\n    .dataframe thead th {\n        text-align: right;\n    }\n</style>\n<table border=\"1\" class=\"dataframe\">\n  <thead>\n    <tr style=\"text-align: right;\">\n      <th></th>\n      <th></th>\n      <th>CASO_CONFIRMADO_NO_DIA</th>\n      <th>OBITO</th>\n    </tr>\n    <tr>\n      <th>MUN_ATENDIMENTO</th>\n      <th>DATA_CONFIRMACAO_DIVULGACAO</th>\n      <th></th>\n      <th></th>\n    </tr>\n  </thead>\n  <tbody>\n    <tr>\n      <th rowspan=\"5\" valign=\"top\">ABATIA</th>\n      <th>2020-05-08</th>\n      <td>1</td>\n      <td>0.0</td>\n    </tr>\n    <tr>\n      <th>2020-05-31</th>\n      <td>1</td>\n      <td>0.0</td>\n    </tr>\n    <tr>\n      <th>2020-06-05</th>\n      <td>4</td>\n      <td>0.0</td>\n    </tr>\n    <tr>\n      <th>2020-06-08</th>\n      <td>1</td>\n      <td>0.0</td>\n    </tr>\n    <tr>\n      <th>2020-06-11</th>\n      <td>1</td>\n      <td>0.0</td>\n    </tr>\n    <tr>\n      <th>...</th>\n      <th>...</th>\n      <td>...</td>\n      <td>...</td>\n    </tr>\n    <tr>\n      <th rowspan=\"5\" valign=\"top\">XAMBRE</th>\n      <th>2021-02-26</th>\n      <td>3</td>\n      <td>0.0</td>\n    </tr>\n    <tr>\n      <th>2021-02-27</th>\n      <td>1</td>\n      <td>0.0</td>\n    </tr>\n    <tr>\n      <th>2021-03-02</th>\n      <td>1</td>\n      <td>0.0</td>\n    </tr>\n    <tr>\n      <th>2021-03-04</th>\n      <td>2</td>\n      <td>0.0</td>\n    </tr>\n    <tr>\n      <th>2021-03-07</th>\n      <td>4</td>\n      <td>0.0</td>\n    </tr>\n  </tbody>\n</table>\n<p>51291 rows × 2 columns</p>\n</div>",
      "text/plain": "                                             CASO_CONFIRMADO_NO_DIA  OBITO\nMUN_ATENDIMENTO DATA_CONFIRMACAO_DIVULGACAO                               \nABATIA          2020-05-08                                        1    0.0\n                2020-05-31                                        1    0.0\n                2020-06-05                                        4    0.0\n                2020-06-08                                        1    0.0\n                2020-06-11                                        1    0.0\n...                                                             ...    ...\nXAMBRE          2021-02-26                                        3    0.0\n                2021-02-27                                        1    0.0\n                2021-03-02                                        1    0.0\n                2021-03-04                                        2    0.0\n                2021-03-07                                        4    0.0\n\n[51291 rows x 2 columns]"
     },
     "execution_count": 8,
     "metadata": {},
     "output_type": "execute_result"
    }
   ],
   "source": [
    "casos_por_cidade"
   ]
  },
  {
   "cell_type": "code",
   "execution_count": 9,
   "metadata": {},
   "outputs": [],
   "source": [
    "def atualiza_dados_diarios():\n",
    "    hoje = datetime.date.today()\n",
    "    informe_covid = baixa_base_de_dados_casos_gerais(hoje.year, hoje.month, hoje.day - 1)\n",
    "\n",
    "    move_average_15_por_cidade = informe_covid.groupby(['MUN_ATENDIMENTO','DATA_CONFIRMACAO_DIVULGACAO'])[['CASO_CONFIRMADO_NO_DIA','OBITO']].sum().rolling(14).mean()[14:].round()\n",
    "    move_average_15_por_cidade.to_csv('../dados_recentes/cidades_mm15.csv', sep=';')\n",
    "\n",
    "    casos_por_cidade = informe_covid.groupby(['MUN_ATENDIMENTO','DATA_CONFIRMACAO_DIVULGACAO'])[['CASO_CONFIRMADO_NO_DIA','OBITO']].sum().round()\n",
    "    casos_por_cidade.to_csv('../dados_recentes/casos_por_cidade.csv', sep=';')    \n",
    "\n"
   ]
  },
  {
   "cell_type": "markdown",
   "metadata": {},
   "source": [
    "# Dados de Internações"
   ]
  },
  {
   "cell_type": "code",
   "execution_count": 10,
   "metadata": {},
   "outputs": [],
   "source": [
    "uri_internacoes = 'https://raw.githubusercontent.com/ConradBitt/covid_parana/main/dados_recentes/INTERNACOES_TRATAMENTO%20DE%20INFEC%C3%87%C3%83O%20PELO_CORONAVIRUS_COVID%2019.csv'"
   ]
  },
  {
   "cell_type": "code",
   "execution_count": 11,
   "metadata": {},
   "outputs": [],
   "source": [
    "internacoes = pd.read_csv(uri_internacoes,sep=';',\n",
    " skiprows = 4,\n",
    " skipfooter=14,\n",
    " thousands=',',\n",
    " engine='python', encoding='iso-8859-1')"
   ]
  },
  {
   "cell_type": "code",
   "execution_count": 12,
   "metadata": {},
   "outputs": [
    {
     "data": {
      "text/html": "<div>\n<style scoped>\n    .dataframe tbody tr th:only-of-type {\n        vertical-align: middle;\n    }\n\n    .dataframe tbody tr th {\n        vertical-align: top;\n    }\n\n    .dataframe thead th {\n        text-align: right;\n    }\n</style>\n<table border=\"1\" class=\"dataframe\">\n  <thead>\n    <tr style=\"text-align: right;\">\n      <th></th>\n      <th>Município</th>\n      <th>2020/Mar</th>\n      <th>2020/Abr</th>\n      <th>2020/Mai</th>\n      <th>2020/Jun</th>\n      <th>2020/Jul</th>\n      <th>2020/Ago</th>\n      <th>2020/Set</th>\n      <th>2020/Out</th>\n      <th>2020/Nov</th>\n      <th>2020/Dez</th>\n      <th>2021/Jan</th>\n      <th>Total</th>\n    </tr>\n  </thead>\n  <tbody>\n    <tr>\n      <th>0</th>\n      <td>410045 Altamira do Paraná</td>\n      <td>-</td>\n      <td>-</td>\n      <td>-</td>\n      <td>-</td>\n      <td>-</td>\n      <td>2</td>\n      <td>-</td>\n      <td>1</td>\n      <td>-</td>\n      <td>-</td>\n      <td>-</td>\n      <td>3</td>\n    </tr>\n    <tr>\n      <th>1</th>\n      <td>410060 Alto Paraná</td>\n      <td>-</td>\n      <td>-</td>\n      <td>-</td>\n      <td>-</td>\n      <td>-</td>\n      <td>-</td>\n      <td>-</td>\n      <td>-</td>\n      <td>-</td>\n      <td>-</td>\n      <td>1</td>\n      <td>1</td>\n    </tr>\n    <tr>\n      <th>2</th>\n      <td>410100 Ampére</td>\n      <td>-</td>\n      <td>-</td>\n      <td>-</td>\n      <td>-</td>\n      <td>2</td>\n      <td>3</td>\n      <td>6</td>\n      <td>6</td>\n      <td>6</td>\n      <td>6</td>\n      <td>13</td>\n      <td>42</td>\n    </tr>\n    <tr>\n      <th>3</th>\n      <td>410140 Apucarana</td>\n      <td>-</td>\n      <td>12</td>\n      <td>27</td>\n      <td>29</td>\n      <td>69</td>\n      <td>69</td>\n      <td>60</td>\n      <td>38</td>\n      <td>40</td>\n      <td>41</td>\n      <td>3</td>\n      <td>388</td>\n    </tr>\n    <tr>\n      <th>4</th>\n      <td>410150 Arapongas</td>\n      <td>-</td>\n      <td>7</td>\n      <td>26</td>\n      <td>43</td>\n      <td>118</td>\n      <td>85</td>\n      <td>60</td>\n      <td>14</td>\n      <td>19</td>\n      <td>110</td>\n      <td>84</td>\n      <td>566</td>\n    </tr>\n    <tr>\n      <th>...</th>\n      <td>...</td>\n      <td>...</td>\n      <td>...</td>\n      <td>...</td>\n      <td>...</td>\n      <td>...</td>\n      <td>...</td>\n      <td>...</td>\n      <td>...</td>\n      <td>...</td>\n      <td>...</td>\n      <td>...</td>\n      <td>...</td>\n    </tr>\n    <tr>\n      <th>123</th>\n      <td>412800 Ubiratã</td>\n      <td>-</td>\n      <td>-</td>\n      <td>-</td>\n      <td>1</td>\n      <td>-</td>\n      <td>-</td>\n      <td>5</td>\n      <td>6</td>\n      <td>8</td>\n      <td>26</td>\n      <td>17</td>\n      <td>63</td>\n    </tr>\n    <tr>\n      <th>124</th>\n      <td>412810 Umuarama</td>\n      <td>-</td>\n      <td>2</td>\n      <td>7</td>\n      <td>29</td>\n      <td>89</td>\n      <td>82</td>\n      <td>56</td>\n      <td>30</td>\n      <td>55</td>\n      <td>137</td>\n      <td>49</td>\n      <td>536</td>\n    </tr>\n    <tr>\n      <th>125</th>\n      <td>412820 União da Vitória</td>\n      <td>-</td>\n      <td>-</td>\n      <td>3</td>\n      <td>7</td>\n      <td>13</td>\n      <td>11</td>\n      <td>7</td>\n      <td>3</td>\n      <td>20</td>\n      <td>26</td>\n      <td>6</td>\n      <td>96</td>\n    </tr>\n    <tr>\n      <th>126</th>\n      <td>412855 Vera Cruz do Oeste</td>\n      <td>-</td>\n      <td>-</td>\n      <td>-</td>\n      <td>4</td>\n      <td>3</td>\n      <td>-</td>\n      <td>-</td>\n      <td>-</td>\n      <td>1</td>\n      <td>3</td>\n      <td>-</td>\n      <td>11</td>\n    </tr>\n    <tr>\n      <th>127</th>\n      <td>412860 Verê</td>\n      <td>-</td>\n      <td>-</td>\n      <td>1</td>\n      <td>2</td>\n      <td>4</td>\n      <td>1</td>\n      <td>4</td>\n      <td>2</td>\n      <td>8</td>\n      <td>13</td>\n      <td>6</td>\n      <td>41</td>\n    </tr>\n  </tbody>\n</table>\n<p>128 rows × 13 columns</p>\n</div>",
      "text/plain": "                     Município 2020/Mar 2020/Abr 2020/Mai 2020/Jun 2020/Jul  \\\n0    410045 Altamira do Paraná        -        -        -        -        -   \n1           410060 Alto Paraná        -        -        -        -        -   \n2                410100 Ampére        -        -        -        -        2   \n3             410140 Apucarana        -       12       27       29       69   \n4             410150 Arapongas        -        7       26       43      118   \n..                         ...      ...      ...      ...      ...      ...   \n123             412800 Ubiratã        -        -        -        1        -   \n124            412810 Umuarama        -        2        7       29       89   \n125    412820 União da Vitória        -        -        3        7       13   \n126  412855 Vera Cruz do Oeste        -        -        -        4        3   \n127                412860 Verê        -        -        1        2        4   \n\n    2020/Ago 2020/Set 2020/Out 2020/Nov 2020/Dez 2021/Jan  Total  \n0          2        -        1        -        -        -      3  \n1          -        -        -        -        -        1      1  \n2          3        6        6        6        6       13     42  \n3         69       60       38       40       41        3    388  \n4         85       60       14       19      110       84    566  \n..       ...      ...      ...      ...      ...      ...    ...  \n123        -        5        6        8       26       17     63  \n124       82       56       30       55      137       49    536  \n125       11        7        3       20       26        6     96  \n126        -        -        -        1        3        -     11  \n127        1        4        2        8       13        6     41  \n\n[128 rows x 13 columns]"
     },
     "execution_count": 12,
     "metadata": {},
     "output_type": "execute_result"
    }
   ],
   "source": [
    "internacoes"
   ]
  },
  {
   "cell_type": "code",
   "execution_count": 13,
   "metadata": {},
   "outputs": [],
   "source": [
    "def pre_processamento_dados_internacoes(dataframe):\n",
    "    from unidecode import unidecode\n",
    "    municipios = []\n",
    "    for municipio in dataframe['Município']:\n",
    "        municipios.append(unidecode(municipio[7:]).upper())\n",
    "\n",
    "    dataframe['Município'] = municipios\n",
    "    dataframe.drop('Total',axis='columns')\n",
    "    dataframe = dataframe.T.iloc[:-1]\n",
    "    index = [\n",
    "        'MUN_ATENDIMENTO', '2020-03', '2020-04',\n",
    "        '2020-05', '2020-06', '2020-07',\n",
    "        '2020-08', '2020-09', '2020-10', \n",
    "        '2020-11', '2020-12', '2021-01'\n",
    "        ]\n",
    "\n",
    "    dataframe.index = index\n",
    "    dataframe = dataframe.T\n",
    "    dataframe = dataframe.set_index('MUN_ATENDIMENTO')\n",
    "    dataframe = dataframe.replace('-',0).astype(int)\n",
    "    dataframe.columns = pd.to_datetime(dataframe.columns)\n",
    "    return dataframe.T\n",
    "\n"
   ]
  },
  {
   "cell_type": "code",
   "execution_count": 14,
   "metadata": {},
   "outputs": [],
   "source": [
    "def pre_processamento_dados_internacoes(dataframe):\n",
    "    from unidecode import unidecode\n",
    "    municipios = []\n",
    "    for municipio in dataframe['Município']:\n",
    "        municipios.append(unidecode(municipio[7:]).upper())\n",
    "\n",
    "    dataframe['Município'] = municipios\n",
    "    dataframe.drop('Total',axis='columns')\n",
    "    dataframe = dataframe.T.iloc[:-1]\n",
    "    index = [\n",
    "        'MUN_ATENDIMENTO', '2020-03', '2020-04',\n",
    "        '2020-05', '2020-06', '2020-07',\n",
    "        '2020-08', '2020-09', '2020-10', \n",
    "        '2020-11', '2020-12', '2021-01'\n",
    "        ]\n",
    "\n",
    "    dataframe.index = index\n",
    "    dataframe = dataframe.T\n",
    "    dataframe = dataframe.set_index('MUN_ATENDIMENTO')\n",
    "    dataframe = dataframe.replace('-',0).astype(int)\n",
    "    dataframe.columns = pd.to_datetime(dataframe.columns)\n",
    "    return dataframe.T\n",
    "\n",
    "def carrega_internacoes():\n",
    "    uri_internacoes = 'https://raw.githubusercontent.com/ConradBitt/covid_parana/main/dados_recentes/INTERNACOES_TRATAMENTO%20DE%20INFEC%C3%87%C3%83O%20PELO_CORONAVIRUS_COVID%2019.csv'\n",
    "    internacoes = pd.read_csv(uri_internacoes,sep=';',skiprows = 4,skipfooter=14,thousands=',', engine='python', encoding='iso-8859-1')\n",
    "    internacoes = pre_processamento_dados_internacoes(internacoes)\n",
    "\n",
    "    return internacoes"
   ]
  },
  {
   "cell_type": "code",
   "execution_count": 15,
   "metadata": {},
   "outputs": [],
   "source": [
    "internacoes = pre_processamento_dados_internacoes(internacoes)\n"
   ]
  },
  {
   "cell_type": "code",
   "execution_count": 19,
   "metadata": {},
   "outputs": [
    {
     "data": {
      "text/html": "<div>\n<style scoped>\n    .dataframe tbody tr th:only-of-type {\n        vertical-align: middle;\n    }\n\n    .dataframe tbody tr th {\n        vertical-align: top;\n    }\n\n    .dataframe thead th {\n        text-align: right;\n    }\n</style>\n<table border=\"1\" class=\"dataframe\">\n  <thead>\n    <tr style=\"text-align: right;\">\n      <th>MUN_ATENDIMENTO</th>\n      <th>PONTA GROSSA</th>\n    </tr>\n  </thead>\n  <tbody>\n    <tr>\n      <th>2020-03-01</th>\n      <td>0</td>\n    </tr>\n    <tr>\n      <th>2020-04-01</th>\n      <td>22</td>\n    </tr>\n    <tr>\n      <th>2020-05-01</th>\n      <td>21</td>\n    </tr>\n    <tr>\n      <th>2020-06-01</th>\n      <td>63</td>\n    </tr>\n    <tr>\n      <th>2020-07-01</th>\n      <td>126</td>\n    </tr>\n    <tr>\n      <th>2020-08-01</th>\n      <td>140</td>\n    </tr>\n    <tr>\n      <th>2020-09-01</th>\n      <td>145</td>\n    </tr>\n    <tr>\n      <th>2020-10-01</th>\n      <td>151</td>\n    </tr>\n    <tr>\n      <th>2020-11-01</th>\n      <td>167</td>\n    </tr>\n    <tr>\n      <th>2020-12-01</th>\n      <td>234</td>\n    </tr>\n    <tr>\n      <th>2021-01-01</th>\n      <td>204</td>\n    </tr>\n  </tbody>\n</table>\n</div>",
      "text/plain": "MUN_ATENDIMENTO  PONTA GROSSA\n2020-03-01                  0\n2020-04-01                 22\n2020-05-01                 21\n2020-06-01                 63\n2020-07-01                126\n2020-08-01                140\n2020-09-01                145\n2020-10-01                151\n2020-11-01                167\n2020-12-01                234\n2021-01-01                204"
     },
     "execution_count": 19,
     "metadata": {},
     "output_type": "execute_result"
    }
   ],
   "source": [
    "internacoes[['PONTA GROSSA']]"
   ]
  },
  {
   "cell_type": "code",
   "execution_count": 161,
   "metadata": {},
   "outputs": [],
   "source": [
    "def exibe_internacoes_cidade(dataframe, cidade):\n",
    "    cidade = cidade.upper()\n",
    "    internacoes = dataframe[cidade]\n",
    "    internacoes.rename_axis('Data', inplace=True)\n",
    "\n",
    "    fig = px.bar(dataframe[cidade], x=internacoes.index, y = f'{cidade}',\n",
    "     color=f'{cidade}', height=400, labels={f'{cidade}': 'Internados'})\n",
    "    fig.layout.title.text = f'Internações por COVID-19 - {cidade}'\n",
    "    fig.layout.xaxis.title.text = 'Mês de internação'\n",
    "    fig.layout.yaxis.title.text = ''\n",
    "    fig.update_coloraxes(\n",
    "        colorbar=dict(title='Internações'),\n",
    "        colorbar_title_font_size=22,\n",
    "        colorbar_title_side='top')\n",
    "\n",
    "    return fig"
   ]
  },
  {
   "cell_type": "code",
   "execution_count": 162,
   "metadata": {},
   "outputs": [
    {
     "data": {
      "application/vnd.plotly.v1+json": {
       "config": {
        "plotlyServerURL": "https://plot.ly"
       },
       "data": [
        {
         "alignmentgroup": "True",
         "hovertemplate": "Data=%{x}<br>Internados=%{marker.color}<extra></extra>",
         "legendgroup": "",
         "marker": {
          "color": [
           0,
           22,
           21,
           63,
           126,
           140,
           145,
           151,
           167,
           234,
           204
          ],
          "coloraxis": "coloraxis"
         },
         "name": "",
         "offsetgroup": "",
         "orientation": "v",
         "showlegend": false,
         "textposition": "auto",
         "type": "bar",
         "x": [
          "2020-03-01T00:00:00",
          "2020-04-01T00:00:00",
          "2020-05-01T00:00:00",
          "2020-06-01T00:00:00",
          "2020-07-01T00:00:00",
          "2020-08-01T00:00:00",
          "2020-09-01T00:00:00",
          "2020-10-01T00:00:00",
          "2020-11-01T00:00:00",
          "2020-12-01T00:00:00",
          "2021-01-01T00:00:00"
         ],
         "xaxis": "x",
         "y": [
          0,
          22,
          21,
          63,
          126,
          140,
          145,
          151,
          167,
          234,
          204
         ],
         "yaxis": "y"
        }
       ],
       "layout": {
        "barmode": "relative",
        "coloraxis": {
         "colorbar": {
          "title": {
           "font": {
            "size": 22
           },
           "side": "top",
           "text": "Internações"
          }
         },
         "colorscale": [
          [
           0,
           "#0d0887"
          ],
          [
           0.1111111111111111,
           "#46039f"
          ],
          [
           0.2222222222222222,
           "#7201a8"
          ],
          [
           0.3333333333333333,
           "#9c179e"
          ],
          [
           0.4444444444444444,
           "#bd3786"
          ],
          [
           0.5555555555555556,
           "#d8576b"
          ],
          [
           0.6666666666666666,
           "#ed7953"
          ],
          [
           0.7777777777777778,
           "#fb9f3a"
          ],
          [
           0.8888888888888888,
           "#fdca26"
          ],
          [
           1,
           "#f0f921"
          ]
         ]
        },
        "height": 400,
        "legend": {
         "tracegroupgap": 0
        },
        "margin": {
         "t": 60
        },
        "template": {
         "data": {
          "bar": [
           {
            "error_x": {
             "color": "#2a3f5f"
            },
            "error_y": {
             "color": "#2a3f5f"
            },
            "marker": {
             "line": {
              "color": "#E5ECF6",
              "width": 0.5
             }
            },
            "type": "bar"
           }
          ],
          "barpolar": [
           {
            "marker": {
             "line": {
              "color": "#E5ECF6",
              "width": 0.5
             }
            },
            "type": "barpolar"
           }
          ],
          "carpet": [
           {
            "aaxis": {
             "endlinecolor": "#2a3f5f",
             "gridcolor": "white",
             "linecolor": "white",
             "minorgridcolor": "white",
             "startlinecolor": "#2a3f5f"
            },
            "baxis": {
             "endlinecolor": "#2a3f5f",
             "gridcolor": "white",
             "linecolor": "white",
             "minorgridcolor": "white",
             "startlinecolor": "#2a3f5f"
            },
            "type": "carpet"
           }
          ],
          "choropleth": [
           {
            "colorbar": {
             "outlinewidth": 0,
             "ticks": ""
            },
            "type": "choropleth"
           }
          ],
          "contour": [
           {
            "colorbar": {
             "outlinewidth": 0,
             "ticks": ""
            },
            "colorscale": [
             [
              0,
              "#0d0887"
             ],
             [
              0.1111111111111111,
              "#46039f"
             ],
             [
              0.2222222222222222,
              "#7201a8"
             ],
             [
              0.3333333333333333,
              "#9c179e"
             ],
             [
              0.4444444444444444,
              "#bd3786"
             ],
             [
              0.5555555555555556,
              "#d8576b"
             ],
             [
              0.6666666666666666,
              "#ed7953"
             ],
             [
              0.7777777777777778,
              "#fb9f3a"
             ],
             [
              0.8888888888888888,
              "#fdca26"
             ],
             [
              1,
              "#f0f921"
             ]
            ],
            "type": "contour"
           }
          ],
          "contourcarpet": [
           {
            "colorbar": {
             "outlinewidth": 0,
             "ticks": ""
            },
            "type": "contourcarpet"
           }
          ],
          "heatmap": [
           {
            "colorbar": {
             "outlinewidth": 0,
             "ticks": ""
            },
            "colorscale": [
             [
              0,
              "#0d0887"
             ],
             [
              0.1111111111111111,
              "#46039f"
             ],
             [
              0.2222222222222222,
              "#7201a8"
             ],
             [
              0.3333333333333333,
              "#9c179e"
             ],
             [
              0.4444444444444444,
              "#bd3786"
             ],
             [
              0.5555555555555556,
              "#d8576b"
             ],
             [
              0.6666666666666666,
              "#ed7953"
             ],
             [
              0.7777777777777778,
              "#fb9f3a"
             ],
             [
              0.8888888888888888,
              "#fdca26"
             ],
             [
              1,
              "#f0f921"
             ]
            ],
            "type": "heatmap"
           }
          ],
          "heatmapgl": [
           {
            "colorbar": {
             "outlinewidth": 0,
             "ticks": ""
            },
            "colorscale": [
             [
              0,
              "#0d0887"
             ],
             [
              0.1111111111111111,
              "#46039f"
             ],
             [
              0.2222222222222222,
              "#7201a8"
             ],
             [
              0.3333333333333333,
              "#9c179e"
             ],
             [
              0.4444444444444444,
              "#bd3786"
             ],
             [
              0.5555555555555556,
              "#d8576b"
             ],
             [
              0.6666666666666666,
              "#ed7953"
             ],
             [
              0.7777777777777778,
              "#fb9f3a"
             ],
             [
              0.8888888888888888,
              "#fdca26"
             ],
             [
              1,
              "#f0f921"
             ]
            ],
            "type": "heatmapgl"
           }
          ],
          "histogram": [
           {
            "marker": {
             "colorbar": {
              "outlinewidth": 0,
              "ticks": ""
             }
            },
            "type": "histogram"
           }
          ],
          "histogram2d": [
           {
            "colorbar": {
             "outlinewidth": 0,
             "ticks": ""
            },
            "colorscale": [
             [
              0,
              "#0d0887"
             ],
             [
              0.1111111111111111,
              "#46039f"
             ],
             [
              0.2222222222222222,
              "#7201a8"
             ],
             [
              0.3333333333333333,
              "#9c179e"
             ],
             [
              0.4444444444444444,
              "#bd3786"
             ],
             [
              0.5555555555555556,
              "#d8576b"
             ],
             [
              0.6666666666666666,
              "#ed7953"
             ],
             [
              0.7777777777777778,
              "#fb9f3a"
             ],
             [
              0.8888888888888888,
              "#fdca26"
             ],
             [
              1,
              "#f0f921"
             ]
            ],
            "type": "histogram2d"
           }
          ],
          "histogram2dcontour": [
           {
            "colorbar": {
             "outlinewidth": 0,
             "ticks": ""
            },
            "colorscale": [
             [
              0,
              "#0d0887"
             ],
             [
              0.1111111111111111,
              "#46039f"
             ],
             [
              0.2222222222222222,
              "#7201a8"
             ],
             [
              0.3333333333333333,
              "#9c179e"
             ],
             [
              0.4444444444444444,
              "#bd3786"
             ],
             [
              0.5555555555555556,
              "#d8576b"
             ],
             [
              0.6666666666666666,
              "#ed7953"
             ],
             [
              0.7777777777777778,
              "#fb9f3a"
             ],
             [
              0.8888888888888888,
              "#fdca26"
             ],
             [
              1,
              "#f0f921"
             ]
            ],
            "type": "histogram2dcontour"
           }
          ],
          "mesh3d": [
           {
            "colorbar": {
             "outlinewidth": 0,
             "ticks": ""
            },
            "type": "mesh3d"
           }
          ],
          "parcoords": [
           {
            "line": {
             "colorbar": {
              "outlinewidth": 0,
              "ticks": ""
             }
            },
            "type": "parcoords"
           }
          ],
          "pie": [
           {
            "automargin": true,
            "type": "pie"
           }
          ],
          "scatter": [
           {
            "marker": {
             "colorbar": {
              "outlinewidth": 0,
              "ticks": ""
             }
            },
            "type": "scatter"
           }
          ],
          "scatter3d": [
           {
            "line": {
             "colorbar": {
              "outlinewidth": 0,
              "ticks": ""
             }
            },
            "marker": {
             "colorbar": {
              "outlinewidth": 0,
              "ticks": ""
             }
            },
            "type": "scatter3d"
           }
          ],
          "scattercarpet": [
           {
            "marker": {
             "colorbar": {
              "outlinewidth": 0,
              "ticks": ""
             }
            },
            "type": "scattercarpet"
           }
          ],
          "scattergeo": [
           {
            "marker": {
             "colorbar": {
              "outlinewidth": 0,
              "ticks": ""
             }
            },
            "type": "scattergeo"
           }
          ],
          "scattergl": [
           {
            "marker": {
             "colorbar": {
              "outlinewidth": 0,
              "ticks": ""
             }
            },
            "type": "scattergl"
           }
          ],
          "scattermapbox": [
           {
            "marker": {
             "colorbar": {
              "outlinewidth": 0,
              "ticks": ""
             }
            },
            "type": "scattermapbox"
           }
          ],
          "scatterpolar": [
           {
            "marker": {
             "colorbar": {
              "outlinewidth": 0,
              "ticks": ""
             }
            },
            "type": "scatterpolar"
           }
          ],
          "scatterpolargl": [
           {
            "marker": {
             "colorbar": {
              "outlinewidth": 0,
              "ticks": ""
             }
            },
            "type": "scatterpolargl"
           }
          ],
          "scatterternary": [
           {
            "marker": {
             "colorbar": {
              "outlinewidth": 0,
              "ticks": ""
             }
            },
            "type": "scatterternary"
           }
          ],
          "surface": [
           {
            "colorbar": {
             "outlinewidth": 0,
             "ticks": ""
            },
            "colorscale": [
             [
              0,
              "#0d0887"
             ],
             [
              0.1111111111111111,
              "#46039f"
             ],
             [
              0.2222222222222222,
              "#7201a8"
             ],
             [
              0.3333333333333333,
              "#9c179e"
             ],
             [
              0.4444444444444444,
              "#bd3786"
             ],
             [
              0.5555555555555556,
              "#d8576b"
             ],
             [
              0.6666666666666666,
              "#ed7953"
             ],
             [
              0.7777777777777778,
              "#fb9f3a"
             ],
             [
              0.8888888888888888,
              "#fdca26"
             ],
             [
              1,
              "#f0f921"
             ]
            ],
            "type": "surface"
           }
          ],
          "table": [
           {
            "cells": {
             "fill": {
              "color": "#EBF0F8"
             },
             "line": {
              "color": "white"
             }
            },
            "header": {
             "fill": {
              "color": "#C8D4E3"
             },
             "line": {
              "color": "white"
             }
            },
            "type": "table"
           }
          ]
         },
         "layout": {
          "annotationdefaults": {
           "arrowcolor": "#2a3f5f",
           "arrowhead": 0,
           "arrowwidth": 1
          },
          "coloraxis": {
           "colorbar": {
            "outlinewidth": 0,
            "ticks": ""
           }
          },
          "colorscale": {
           "diverging": [
            [
             0,
             "#8e0152"
            ],
            [
             0.1,
             "#c51b7d"
            ],
            [
             0.2,
             "#de77ae"
            ],
            [
             0.3,
             "#f1b6da"
            ],
            [
             0.4,
             "#fde0ef"
            ],
            [
             0.5,
             "#f7f7f7"
            ],
            [
             0.6,
             "#e6f5d0"
            ],
            [
             0.7,
             "#b8e186"
            ],
            [
             0.8,
             "#7fbc41"
            ],
            [
             0.9,
             "#4d9221"
            ],
            [
             1,
             "#276419"
            ]
           ],
           "sequential": [
            [
             0,
             "#0d0887"
            ],
            [
             0.1111111111111111,
             "#46039f"
            ],
            [
             0.2222222222222222,
             "#7201a8"
            ],
            [
             0.3333333333333333,
             "#9c179e"
            ],
            [
             0.4444444444444444,
             "#bd3786"
            ],
            [
             0.5555555555555556,
             "#d8576b"
            ],
            [
             0.6666666666666666,
             "#ed7953"
            ],
            [
             0.7777777777777778,
             "#fb9f3a"
            ],
            [
             0.8888888888888888,
             "#fdca26"
            ],
            [
             1,
             "#f0f921"
            ]
           ],
           "sequentialminus": [
            [
             0,
             "#0d0887"
            ],
            [
             0.1111111111111111,
             "#46039f"
            ],
            [
             0.2222222222222222,
             "#7201a8"
            ],
            [
             0.3333333333333333,
             "#9c179e"
            ],
            [
             0.4444444444444444,
             "#bd3786"
            ],
            [
             0.5555555555555556,
             "#d8576b"
            ],
            [
             0.6666666666666666,
             "#ed7953"
            ],
            [
             0.7777777777777778,
             "#fb9f3a"
            ],
            [
             0.8888888888888888,
             "#fdca26"
            ],
            [
             1,
             "#f0f921"
            ]
           ]
          },
          "colorway": [
           "#636efa",
           "#EF553B",
           "#00cc96",
           "#ab63fa",
           "#FFA15A",
           "#19d3f3",
           "#FF6692",
           "#B6E880",
           "#FF97FF",
           "#FECB52"
          ],
          "font": {
           "color": "#2a3f5f"
          },
          "geo": {
           "bgcolor": "white",
           "lakecolor": "white",
           "landcolor": "#E5ECF6",
           "showlakes": true,
           "showland": true,
           "subunitcolor": "white"
          },
          "hoverlabel": {
           "align": "left"
          },
          "hovermode": "closest",
          "mapbox": {
           "style": "light"
          },
          "paper_bgcolor": "white",
          "plot_bgcolor": "#E5ECF6",
          "polar": {
           "angularaxis": {
            "gridcolor": "white",
            "linecolor": "white",
            "ticks": ""
           },
           "bgcolor": "#E5ECF6",
           "radialaxis": {
            "gridcolor": "white",
            "linecolor": "white",
            "ticks": ""
           }
          },
          "scene": {
           "xaxis": {
            "backgroundcolor": "#E5ECF6",
            "gridcolor": "white",
            "gridwidth": 2,
            "linecolor": "white",
            "showbackground": true,
            "ticks": "",
            "zerolinecolor": "white"
           },
           "yaxis": {
            "backgroundcolor": "#E5ECF6",
            "gridcolor": "white",
            "gridwidth": 2,
            "linecolor": "white",
            "showbackground": true,
            "ticks": "",
            "zerolinecolor": "white"
           },
           "zaxis": {
            "backgroundcolor": "#E5ECF6",
            "gridcolor": "white",
            "gridwidth": 2,
            "linecolor": "white",
            "showbackground": true,
            "ticks": "",
            "zerolinecolor": "white"
           }
          },
          "shapedefaults": {
           "line": {
            "color": "#2a3f5f"
           }
          },
          "ternary": {
           "aaxis": {
            "gridcolor": "white",
            "linecolor": "white",
            "ticks": ""
           },
           "baxis": {
            "gridcolor": "white",
            "linecolor": "white",
            "ticks": ""
           },
           "bgcolor": "#E5ECF6",
           "caxis": {
            "gridcolor": "white",
            "linecolor": "white",
            "ticks": ""
           }
          },
          "title": {
           "x": 0.05
          },
          "xaxis": {
           "automargin": true,
           "gridcolor": "white",
           "linecolor": "white",
           "ticks": "",
           "title": {
            "standoff": 15
           },
           "zerolinecolor": "white",
           "zerolinewidth": 2
          },
          "yaxis": {
           "automargin": true,
           "gridcolor": "white",
           "linecolor": "white",
           "ticks": "",
           "title": {
            "standoff": 15
           },
           "zerolinecolor": "white",
           "zerolinewidth": 2
          }
         }
        },
        "title": {
         "text": "Internações por COVID-19 - PONTA GROSSA"
        },
        "xaxis": {
         "anchor": "y",
         "domain": [
          0,
          1
         ],
         "title": {
          "text": "Mês de internação"
         }
        },
        "yaxis": {
         "anchor": "x",
         "domain": [
          0,
          1
         ],
         "title": {
          "text": ""
         }
        }
       }
      }
     },
     "metadata": {},
     "output_type": "display_data"
    }
   ],
   "source": [
    "exibe_internacoes_cidade(internacoes, 'Ponta Grossa').show()"
   ]
  },
  {
   "cell_type": "code",
   "execution_count": 122,
   "metadata": {},
   "outputs": [
    {
     "data": {
      "text/plain": "2020-03-01      0\n2020-04-01     22\n2020-05-01     21\n2020-06-01     63\n2020-07-01    126\n2020-08-01    140\n2020-09-01    145\n2020-10-01    151\n2020-11-01    167\n2020-12-01    234\n2021-01-01    204\nName: PONTA GROSSA, dtype: int64"
     },
     "execution_count": 122,
     "metadata": {},
     "output_type": "execute_result"
    }
   ],
   "source": [
    "internacoes['PONTA GROSSA']"
   ]
  },
  {
   "cell_type": "code",
   "execution_count": null,
   "metadata": {},
   "outputs": [],
   "source": []
  }
 ],
 "metadata": {
  "kernelspec": {
   "display_name": "Python 3",
   "language": "python",
   "name": "python3"
  },
  "language_info": {
   "codemirror_mode": {
    "name": "ipython",
    "version": 3
   },
   "file_extension": ".py",
   "mimetype": "text/x-python",
   "name": "python",
   "nbconvert_exporter": "python",
   "pygments_lexer": "ipython3",
   "version": "3.7.6"
  },
  "orig_nbformat": 2
 },
 "nbformat": 4,
 "nbformat_minor": 2
}