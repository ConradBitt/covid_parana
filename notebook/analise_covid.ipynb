{
 "cells": [
  {
   "cell_type": "markdown",
   "metadata": {},
   "source": [
    "# Coleta de dados\n",
    "Este notebook serve para buscar as bases de dados da covid no paraná"
   ]
  },
  {
   "cell_type": "code",
   "execution_count": 1,
   "metadata": {},
   "outputs": [],
   "source": [
    "import pandas as pd\n",
    "import numpy as np\n",
    "import matplotlib\n",
    "import seaborn as sns\n",
    "\n",
    "#built-in \n",
    "import datetime"
   ]
  },
  {
   "cell_type": "markdown",
   "metadata": {},
   "source": [
    "A função abaixo faz a importação dos dados do site do governo do paraná em formato CSV "
   ]
  },
  {
   "cell_type": "code",
   "execution_count": 2,
   "metadata": {},
   "outputs": [],
   "source": [
    "def converte_variaveis_em_datas(dataframe):\n",
    "    for variavel in dataframe.columns:\n",
    "        if 'DATA' in variavel:\n",
    "            try:\n",
    "                dataframe[variavel] = pd.to_datetime(dataframe[variavel], format='%d/%m/%Y')\n",
    "            \n",
    "            except:\n",
    "                print(f'Variável \"{variavel}\" contém um erro e conversão/formatação')\n",
    "                pass\n",
    "        else:\n",
    "            pass \n",
    "    return dataframe\n",
    "\n",
    "\n",
    "def tira_variaveis_IBGE(dataframe):\n",
    "    dataframe = dataframe.drop(['IBGE_RES_PR','IBGE_ATEND_PR'], axis='columns')\n",
    "    return dataframe\n",
    "\n",
    "\n",
    "def cria_variavel_caso_confirmado_no_dia(dataframe):\n",
    "    dataframe['CASO_CONFIRMADO_NO_DIA'] = 1\n",
    "    return dataframe\n",
    "\n",
    "\n",
    "def replace_nas_variaveis_obito_status(dataframe):\n",
    "\n",
    "    dataframe['OBITO'] = dataframe['OBITO'].replace('SIM','Sim')\n",
    "    dataframe['OBITO'] = dataframe['OBITO'].replace('Não','Nao')\n",
    "\n",
    "    dataframe['OBITO'] = dataframe['OBITO'].replace('Sim',1)\n",
    "    dataframe['OBITO'] = dataframe['OBITO'].replace('Nao',0)\n",
    "\n",
    "    dataframe['STATUS'] = dataframe['STATUS'].replace('Recuperado','recuperado')\n",
    "    dataframe['STATUS'] = dataframe['STATUS'].replace('recuperado', 1)\n",
    "    dataframe['STATUS'] = dataframe['STATUS'].replace('nan', 0)\n",
    "\n",
    "    return dataframe\n",
    "    \n",
    "\n",
    "def pre_processamento(dataframe):\n",
    "    dataframe = converte_variaveis_em_datas(dataframe)\n",
    "    dataframe = tira_variaveis_IBGE(dataframe)\n",
    "    dataframe = cria_variavel_caso_confirmado_no_dia(dataframe)\n",
    "    dataframe = replace_nas_variaveis_obito_status(dataframe)\n",
    "    dataframe = dataframe.set_index('DATA_CONFIRMACAO_DIVULGACAO')\n",
    "    dataframe = dataframe.sort_index()\n",
    "    return dataframe\n",
    "\n",
    "def baixa_base_de_dados_casos_gerais(ano,mes,dia):\n",
    "    \"\"\"\n",
    "    Esta função baixa a base de dados disponível no ano, mes e dia.\n",
    "    retorna um dataframe do pandas com os dados disponpiveis.\n",
    "    \"\"\"\n",
    "    data = datetime.date(ano, mes, dia)\n",
    "    ano = str(data.year)\n",
    "\n",
    "    if mes != 10 and mes != 11 and mes != 12:\n",
    "        mes = '0'+str(data.month)\n",
    "    else:\n",
    "        mes = str(data.month)\n",
    "\n",
    "    if dia in [1,2,3,4,6,7,8,9]:\n",
    "        dia = '0'+str(data.day)\n",
    "\n",
    "    ano_mes = ano+'-'+mes\n",
    "\n",
    "    if ano == '2020':\n",
    "        arquivo = f'INFORME_EPIDEMIOLOGICO_{dia}_{mes}_GERAL.csv'\n",
    "    elif ano == '2021':\n",
    "        arquivo = f'informe_epidemiologico_{dia}_{mes}_{ano}_geral.csv'\n",
    "    # Podem acontecer as seguintes variações no site do estado:\n",
    "    # informe_epidemiologico_{dia}_{mes}_{ano}_geral.csv\n",
    "    # informe_epidemiologico_{dia}_{mes}_geral.csv\n",
    "    # INFORME_EPIDEMIOLOGICO_{dia}_{mes}_GERAL.csv\n",
    "\n",
    "\n",
    "\n",
    "    dominio = 'https://www.saude.pr.gov.br'\n",
    "    caminho = f'/sites/default/arquivos_restritos/files/documento/{ano_mes}/'\n",
    "    try:\n",
    "\n",
    "        url = dominio+caminho+arquivo\n",
    "        base_de_dados = pd.read_csv(url, sep=';')\n",
    "        base_de_dados = pre_processamento(base_de_dados)\n",
    "        \n",
    "    \n",
    "    except:\n",
    "        raise Exception('Não Tem dados disponíveis neste dia.')\n",
    "\n",
    "    return base_de_dados\n",
    "\n"
   ]
  },
  {
   "cell_type": "code",
   "execution_count": 3,
   "metadata": {},
   "outputs": [],
   "source": [
    "informe_covid = baixa_base_de_dados_casos_gerais(2021, 3, 6)"
   ]
  },
  {
   "cell_type": "code",
   "execution_count": 4,
   "metadata": {},
   "outputs": [
    {
     "data": {
      "text/html": "<div>\n<style scoped>\n    .dataframe tbody tr th:only-of-type {\n        vertical-align: middle;\n    }\n\n    .dataframe tbody tr th {\n        vertical-align: top;\n    }\n\n    .dataframe thead th {\n        text-align: right;\n    }\n</style>\n<table border=\"1\" class=\"dataframe\">\n  <thead>\n    <tr style=\"text-align: right;\">\n      <th></th>\n      <th>IBGE_RES_PR</th>\n      <th>IBGE_ATEND_PR</th>\n      <th>SEXO</th>\n      <th>IDADE_ORIGINAL</th>\n      <th>MUN_RESIDENCIA</th>\n      <th>MUN_ATENDIMENTO</th>\n      <th>LABORATORIO</th>\n      <th>DATA_DIAGNOSTICO</th>\n      <th>DATA_CONFIRMACAO_DIVULGACAO</th>\n      <th>DATA_INICIO_SINTOMAS</th>\n      <th>OBITO</th>\n      <th>DATA_OBITO</th>\n      <th>DATA_OBITO_DIVULGACAO</th>\n      <th>STATUS</th>\n      <th>DATA_RECUPERADO_DIVULGACAO</th>\n      <th>FONTE_DADO_RECUPERADO</th>\n    </tr>\n  </thead>\n  <tbody>\n    <tr>\n      <th>0</th>\n      <td>4126256</td>\n      <td>4126256</td>\n      <td>M</td>\n      <td>82</td>\n      <td>SARANDI</td>\n      <td>SARANDI</td>\n      <td>COVID-19, Biologia Molecular</td>\n      <td>27/02/2021</td>\n      <td>01/03/2021</td>\n      <td>21/02/2021</td>\n      <td>NaN</td>\n      <td>NaN</td>\n      <td>NaN</td>\n      <td>NaN</td>\n      <td>NaN</td>\n      <td>NaN</td>\n    </tr>\n    <tr>\n      <th>1</th>\n      <td>4104808</td>\n      <td>4104808</td>\n      <td>M</td>\n      <td>19</td>\n      <td>CASCAVEL</td>\n      <td>CASCAVEL</td>\n      <td>COVID-19, Biologia Molecular</td>\n      <td>26/02/2021</td>\n      <td>01/03/2021</td>\n      <td>19/02/2021</td>\n      <td>NaN</td>\n      <td>NaN</td>\n      <td>NaN</td>\n      <td>NaN</td>\n      <td>NaN</td>\n      <td>NaN</td>\n    </tr>\n    <tr>\n      <th>2</th>\n      <td>4106902</td>\n      <td>4106902</td>\n      <td>F</td>\n      <td>45</td>\n      <td>CURITIBA</td>\n      <td>CURITIBA</td>\n      <td>COVID-19, Biologia Molecular</td>\n      <td>28/02/2021</td>\n      <td>01/03/2021</td>\n      <td>NaN</td>\n      <td>NaN</td>\n      <td>NaN</td>\n      <td>NaN</td>\n      <td>NaN</td>\n      <td>NaN</td>\n      <td>NaN</td>\n    </tr>\n    <tr>\n      <th>3</th>\n      <td>4102406</td>\n      <td>4102406</td>\n      <td>M</td>\n      <td>41</td>\n      <td>BANDEIRANTES</td>\n      <td>BANDEIRANTES</td>\n      <td>COVID-19, Biologia Molecular</td>\n      <td>26/02/2021</td>\n      <td>01/03/2021</td>\n      <td>19/02/2021</td>\n      <td>NaN</td>\n      <td>NaN</td>\n      <td>NaN</td>\n      <td>NaN</td>\n      <td>NaN</td>\n      <td>NaN</td>\n    </tr>\n    <tr>\n      <th>4</th>\n      <td>4120309</td>\n      <td>4120309</td>\n      <td>M</td>\n      <td>15</td>\n      <td>PORTO VITORIA</td>\n      <td>PORTO VITORIA</td>\n      <td>COVID-19, Biologia Molecular</td>\n      <td>28/02/2021</td>\n      <td>01/03/2021</td>\n      <td>22/02/2021</td>\n      <td>NaN</td>\n      <td>NaN</td>\n      <td>NaN</td>\n      <td>NaN</td>\n      <td>NaN</td>\n      <td>NaN</td>\n    </tr>\n    <tr>\n      <th>...</th>\n      <td>...</td>\n      <td>...</td>\n      <td>...</td>\n      <td>...</td>\n      <td>...</td>\n      <td>...</td>\n      <td>...</td>\n      <td>...</td>\n      <td>...</td>\n      <td>...</td>\n      <td>...</td>\n      <td>...</td>\n      <td>...</td>\n      <td>...</td>\n      <td>...</td>\n      <td>...</td>\n    </tr>\n    <tr>\n      <th>680772</th>\n      <td>4104204</td>\n      <td>4104204</td>\n      <td>M</td>\n      <td>28</td>\n      <td>CAMPO LARGO</td>\n      <td>CAMPO LARGO</td>\n      <td>COVID-19, Biologia Molecular</td>\n      <td>01/03/2021</td>\n      <td>05/03/2021</td>\n      <td>24/02/2021</td>\n      <td>NaN</td>\n      <td>NaN</td>\n      <td>NaN</td>\n      <td>NaN</td>\n      <td>NaN</td>\n      <td>NaN</td>\n    </tr>\n    <tr>\n      <th>680773</th>\n      <td>4108908</td>\n      <td>4108908</td>\n      <td>M</td>\n      <td>10</td>\n      <td>GUAIRACA</td>\n      <td>GUAIRACA</td>\n      <td>COVID-19, Biologia Molecular</td>\n      <td>03/03/2021</td>\n      <td>05/03/2021</td>\n      <td>25/02/2021</td>\n      <td>NaN</td>\n      <td>NaN</td>\n      <td>NaN</td>\n      <td>NaN</td>\n      <td>NaN</td>\n      <td>NaN</td>\n    </tr>\n    <tr>\n      <th>680774</th>\n      <td>4117602</td>\n      <td>4117602</td>\n      <td>M</td>\n      <td>64</td>\n      <td>PALMAS</td>\n      <td>PALMAS</td>\n      <td>Teste Rápido Antígeno (Imunocromatografia)</td>\n      <td>03/03/2021</td>\n      <td>05/03/2021</td>\n      <td>01/03/2021</td>\n      <td>NaN</td>\n      <td>NaN</td>\n      <td>NaN</td>\n      <td>NaN</td>\n      <td>NaN</td>\n      <td>NaN</td>\n    </tr>\n    <tr>\n      <th>680775</th>\n      <td>4127700</td>\n      <td>4127700</td>\n      <td>M</td>\n      <td>66</td>\n      <td>TOLEDO</td>\n      <td>TOLEDO</td>\n      <td>Teste Rápido Antígeno (Imunocromatografia)</td>\n      <td>04/03/2021</td>\n      <td>05/03/2021</td>\n      <td>28/02/2021</td>\n      <td>NaN</td>\n      <td>NaN</td>\n      <td>NaN</td>\n      <td>NaN</td>\n      <td>NaN</td>\n      <td>NaN</td>\n    </tr>\n    <tr>\n      <th>680776</th>\n      <td>4111258</td>\n      <td>4111258</td>\n      <td>M</td>\n      <td>42</td>\n      <td>ITAPERUCU</td>\n      <td>ITAPERUCU</td>\n      <td>COVID-19, Biologia Molecular</td>\n      <td>04/03/2021</td>\n      <td>05/03/2021</td>\n      <td>21/02/2021</td>\n      <td>NaN</td>\n      <td>NaN</td>\n      <td>NaN</td>\n      <td>NaN</td>\n      <td>NaN</td>\n      <td>NaN</td>\n    </tr>\n  </tbody>\n</table>\n<p>680777 rows × 16 columns</p>\n</div>",
      "text/plain": "        IBGE_RES_PR  IBGE_ATEND_PR SEXO  IDADE_ORIGINAL MUN_RESIDENCIA  \\\n0           4126256        4126256    M              82        SARANDI   \n1           4104808        4104808    M              19       CASCAVEL   \n2           4106902        4106902    F              45       CURITIBA   \n3           4102406        4102406    M              41   BANDEIRANTES   \n4           4120309        4120309    M              15  PORTO VITORIA   \n...             ...            ...  ...             ...            ...   \n680772      4104204        4104204    M              28    CAMPO LARGO   \n680773      4108908        4108908    M              10       GUAIRACA   \n680774      4117602        4117602    M              64         PALMAS   \n680775      4127700        4127700    M              66         TOLEDO   \n680776      4111258        4111258    M              42      ITAPERUCU   \n\n       MUN_ATENDIMENTO                                 LABORATORIO  \\\n0              SARANDI                COVID-19, Biologia Molecular   \n1             CASCAVEL                COVID-19, Biologia Molecular   \n2             CURITIBA                COVID-19, Biologia Molecular   \n3         BANDEIRANTES                COVID-19, Biologia Molecular   \n4        PORTO VITORIA                COVID-19, Biologia Molecular   \n...                ...                                         ...   \n680772     CAMPO LARGO                COVID-19, Biologia Molecular   \n680773        GUAIRACA                COVID-19, Biologia Molecular   \n680774          PALMAS  Teste Rápido Antígeno (Imunocromatografia)   \n680775          TOLEDO  Teste Rápido Antígeno (Imunocromatografia)   \n680776       ITAPERUCU                COVID-19, Biologia Molecular   \n\n       DATA_DIAGNOSTICO DATA_CONFIRMACAO_DIVULGACAO DATA_INICIO_SINTOMAS  \\\n0            27/02/2021                  01/03/2021           21/02/2021   \n1            26/02/2021                  01/03/2021           19/02/2021   \n2            28/02/2021                  01/03/2021                  NaN   \n3            26/02/2021                  01/03/2021           19/02/2021   \n4            28/02/2021                  01/03/2021           22/02/2021   \n...                 ...                         ...                  ...   \n680772       01/03/2021                  05/03/2021           24/02/2021   \n680773       03/03/2021                  05/03/2021           25/02/2021   \n680774       03/03/2021                  05/03/2021           01/03/2021   \n680775       04/03/2021                  05/03/2021           28/02/2021   \n680776       04/03/2021                  05/03/2021           21/02/2021   \n\n       OBITO DATA_OBITO DATA_OBITO_DIVULGACAO STATUS  \\\n0        NaN        NaN                   NaN    NaN   \n1        NaN        NaN                   NaN    NaN   \n2        NaN        NaN                   NaN    NaN   \n3        NaN        NaN                   NaN    NaN   \n4        NaN        NaN                   NaN    NaN   \n...      ...        ...                   ...    ...   \n680772   NaN        NaN                   NaN    NaN   \n680773   NaN        NaN                   NaN    NaN   \n680774   NaN        NaN                   NaN    NaN   \n680775   NaN        NaN                   NaN    NaN   \n680776   NaN        NaN                   NaN    NaN   \n\n       DATA_RECUPERADO_DIVULGACAO FONTE_DADO_RECUPERADO  \n0                             NaN                   NaN  \n1                             NaN                   NaN  \n2                             NaN                   NaN  \n3                             NaN                   NaN  \n4                             NaN                   NaN  \n...                           ...                   ...  \n680772                        NaN                   NaN  \n680773                        NaN                   NaN  \n680774                        NaN                   NaN  \n680775                        NaN                   NaN  \n680776                        NaN                   NaN  \n\n[680777 rows x 16 columns]"
     },
     "execution_count": 4,
     "metadata": {},
     "output_type": "execute_result"
    }
   ],
   "source": [
    "informe_covid"
   ]
  },
  {
   "cell_type": "code",
   "execution_count": 5,
   "metadata": {},
   "outputs": [
    {
     "name": "stdout",
     "output_type": "stream",
     "text": [
      "Variável \"DATA_INICIO_SINTOMAS\" contém um erro e conversão/formatação\n"
     ]
    }
   ],
   "source": [
    "informe_covid = pre_processamento(informe_covid)"
   ]
  },
  {
   "cell_type": "code",
   "execution_count": 6,
   "metadata": {},
   "outputs": [],
   "source": [
    "casos_por_dia = informe_covid.groupby('DATA_CONFIRMACAO_DIVULGACAO')['CASO_CONFIRMADO_NO_DIA'].sum()"
   ]
  },
  {
   "cell_type": "code",
   "execution_count": 7,
   "metadata": {},
   "outputs": [
    {
     "data": {
      "text/plain": "DATA_CONFIRMACAO_DIVULGACAO\n2020-03-12       6\n2020-03-17       4\n2020-03-18       4\n2020-03-19       8\n2020-03-20      13\n              ... \n2021-03-02    6174\n2021-03-03    4706\n2021-03-04    5405\n2021-03-05    5670\n2021-03-06    8598\nName: CASO_CONFIRMADO_NO_DIA, Length: 356, dtype: int64"
     },
     "execution_count": 7,
     "metadata": {},
     "output_type": "execute_result"
    }
   ],
   "source": [
    "casos_por_dia"
   ]
  },
  {
   "cell_type": "code",
   "execution_count": 8,
   "metadata": {},
   "outputs": [],
   "source": [
    "def evolucao_dos_casos():\n",
    "    pass "
   ]
  },
  {
   "cell_type": "code",
   "execution_count": 9,
   "metadata": {},
   "outputs": [],
   "source": [
    "def agrupa_pela_cidade(cidade,dataframe):\n",
    "    dataframe.query(f'MUN_ATENDIMENTO == \"{cidade.upper()}\"')\n",
    "    pass"
   ]
  },
  {
   "cell_type": "code",
   "execution_count": 10,
   "metadata": {},
   "outputs": [],
   "source": [
    "\n",
    "dados_ponta_grossa = informe_covid.query('MUN_ATENDIMENTO == \"PONTA GROSSA\"')"
   ]
  },
  {
   "cell_type": "code",
   "execution_count": 11,
   "metadata": {},
   "outputs": [],
   "source": [
    "\n",
    "caso_por_dia_PG = dados_ponta_grossa.groupby('DATA_CONFIRMACAO_DIVULGACAO')['CASO_CONFIRMADO_NO_DIA'].sum().to_frame()"
   ]
  },
  {
   "cell_type": "code",
   "execution_count": 12,
   "metadata": {},
   "outputs": [
    {
     "data": {
      "text/plain": "<AxesSubplot:xlabel='DATA_CONFIRMACAO_DIVULGACAO'>"
     },
     "execution_count": 12,
     "metadata": {},
     "output_type": "execute_result"
    },
    {
     "data": {
      "image/png": "[encoded data removed]",
      "text/plain": "<Figure size 432x288 with 1 Axes>"
     },
     "metadata": {
      "needs_background": "light"
     },
     "output_type": "display_data"
    }
   ],
   "source": [
    "caso_por_dia_PG.plot()"
   ]
  },
  {
   "cell_type": "code",
   "execution_count": 13,
   "metadata": {},
   "outputs": [
    {
     "data": {
      "text/plain": "array([ 1., nan])"
     },
     "execution_count": 13,
     "metadata": {},
     "output_type": "execute_result"
    }
   ],
   "source": [
    "dados_ponta_grossa.STATUS.unique()"
   ]
  },
  {
   "cell_type": "code",
   "execution_count": 14,
   "metadata": {},
   "outputs": [
    {
     "data": {
      "text/html": "<div>\n<style scoped>\n    .dataframe tbody tr th:only-of-type {\n        vertical-align: middle;\n    }\n\n    .dataframe tbody tr th {\n        vertical-align: top;\n    }\n\n    .dataframe thead th {\n        text-align: right;\n    }\n</style>\n<table border=\"1\" class=\"dataframe\">\n  <thead>\n    <tr style=\"text-align: right;\">\n      <th></th>\n      <th>SEXO</th>\n      <th>IDADE_ORIGINAL</th>\n      <th>MUN_RESIDENCIA</th>\n      <th>MUN_ATENDIMENTO</th>\n      <th>LABORATORIO</th>\n      <th>DATA_DIAGNOSTICO</th>\n      <th>DATA_INICIO_SINTOMAS</th>\n      <th>OBITO</th>\n      <th>DATA_OBITO</th>\n      <th>DATA_OBITO_DIVULGACAO</th>\n      <th>STATUS</th>\n      <th>DATA_RECUPERADO_DIVULGACAO</th>\n      <th>FONTE_DADO_RECUPERADO</th>\n      <th>CASO_CONFIRMADO_NO_DIA</th>\n    </tr>\n    <tr>\n      <th>DATA_CONFIRMACAO_DIVULGACAO</th>\n      <th></th>\n      <th></th>\n      <th></th>\n      <th></th>\n      <th></th>\n      <th></th>\n      <th></th>\n      <th></th>\n      <th></th>\n      <th></th>\n      <th></th>\n      <th></th>\n      <th></th>\n      <th></th>\n    </tr>\n  </thead>\n  <tbody>\n    <tr>\n      <th>2020-03-12</th>\n      <td>M</td>\n      <td>15</td>\n      <td>CURITIBA</td>\n      <td>CURITIBA</td>\n      <td>LACEN</td>\n      <td>2020-03-12</td>\n      <td>08/03/2020</td>\n      <td>0.0</td>\n      <td>NaT</td>\n      <td>NaT</td>\n      <td>1.0</td>\n      <td>NaT</td>\n      <td>NaN</td>\n      <td>1</td>\n    </tr>\n    <tr>\n      <th>2020-03-12</th>\n      <td>M</td>\n      <td>43</td>\n      <td>CURITIBA</td>\n      <td>CURITIBA</td>\n      <td>LACEN</td>\n      <td>2020-03-12</td>\n      <td>07/03/2020</td>\n      <td>0.0</td>\n      <td>NaT</td>\n      <td>NaT</td>\n      <td>1.0</td>\n      <td>NaT</td>\n      <td>NaN</td>\n      <td>1</td>\n    </tr>\n    <tr>\n      <th>2020-03-12</th>\n      <td>F</td>\n      <td>47</td>\n      <td>CIANORTE</td>\n      <td>CIANORTE</td>\n      <td>LACEN</td>\n      <td>2020-03-12</td>\n      <td>NaN</td>\n      <td>0.0</td>\n      <td>NaT</td>\n      <td>NaT</td>\n      <td>1.0</td>\n      <td>NaT</td>\n      <td>Notificações</td>\n      <td>1</td>\n    </tr>\n    <tr>\n      <th>2020-03-12</th>\n      <td>F</td>\n      <td>26</td>\n      <td>CURITIBA</td>\n      <td>CURITIBA</td>\n      <td>Genoprimer</td>\n      <td>2020-03-16</td>\n      <td>11/03/2020</td>\n      <td>0.0</td>\n      <td>NaT</td>\n      <td>NaT</td>\n      <td>1.0</td>\n      <td>NaT</td>\n      <td>NaN</td>\n      <td>1</td>\n    </tr>\n    <tr>\n      <th>2020-03-12</th>\n      <td>F</td>\n      <td>26</td>\n      <td>CURITIBA</td>\n      <td>CURITIBA</td>\n      <td>Genoprimer</td>\n      <td>2020-03-18</td>\n      <td>15/03/2020</td>\n      <td>0.0</td>\n      <td>NaT</td>\n      <td>NaT</td>\n      <td>1.0</td>\n      <td>NaT</td>\n      <td>NaN</td>\n      <td>1</td>\n    </tr>\n    <tr>\n      <th>...</th>\n      <td>...</td>\n      <td>...</td>\n      <td>...</td>\n      <td>...</td>\n      <td>...</td>\n      <td>...</td>\n      <td>...</td>\n      <td>...</td>\n      <td>...</td>\n      <td>...</td>\n      <td>...</td>\n      <td>...</td>\n      <td>...</td>\n      <td>...</td>\n    </tr>\n    <tr>\n      <th>2021-03-06</th>\n      <td>F</td>\n      <td>33</td>\n      <td>MARINGA</td>\n      <td>MARINGA</td>\n      <td>Teste Rápido Antígeno (Imunocromatografia)</td>\n      <td>2021-03-04</td>\n      <td>01/03/2021</td>\n      <td>NaN</td>\n      <td>NaT</td>\n      <td>NaT</td>\n      <td>NaN</td>\n      <td>NaT</td>\n      <td>NaN</td>\n      <td>1</td>\n    </tr>\n    <tr>\n      <th>2021-03-06</th>\n      <td>F</td>\n      <td>20</td>\n      <td>ROLANDIA</td>\n      <td>ROLANDIA</td>\n      <td>COVID-19, Biologia Molecular</td>\n      <td>2021-02-27</td>\n      <td>18/02/2021</td>\n      <td>0.0</td>\n      <td>NaT</td>\n      <td>NaT</td>\n      <td>1.0</td>\n      <td>2021-03-06</td>\n      <td>NOTIFICA COVID</td>\n      <td>1</td>\n    </tr>\n    <tr>\n      <th>2021-03-06</th>\n      <td>F</td>\n      <td>35</td>\n      <td>ALMIRANTE TAMANDARE</td>\n      <td>ALMIRANTE TAMANDARE</td>\n      <td>COVID-19, Biologia Molecular</td>\n      <td>2021-03-05</td>\n      <td>27/02/2021</td>\n      <td>NaN</td>\n      <td>NaT</td>\n      <td>NaT</td>\n      <td>NaN</td>\n      <td>NaT</td>\n      <td>NaN</td>\n      <td>1</td>\n    </tr>\n    <tr>\n      <th>2021-03-06</th>\n      <td>F</td>\n      <td>43</td>\n      <td>CANDIDO DE ABREU</td>\n      <td>CANDIDO DE ABREU</td>\n      <td>COVID-19, Biologia Molecular</td>\n      <td>2021-03-03</td>\n      <td>NaN</td>\n      <td>0.0</td>\n      <td>NaT</td>\n      <td>NaT</td>\n      <td>1.0</td>\n      <td>2021-03-06</td>\n      <td>NOTIFICA COVID</td>\n      <td>1</td>\n    </tr>\n    <tr>\n      <th>2021-03-06</th>\n      <td>F</td>\n      <td>21</td>\n      <td>RIO BONITO DO IGUACU</td>\n      <td>RIO BONITO DO IGUACU</td>\n      <td>COVID-19, Biologia Molecular</td>\n      <td>2021-02-22</td>\n      <td>16/02/2021</td>\n      <td>NaN</td>\n      <td>NaT</td>\n      <td>NaT</td>\n      <td>NaN</td>\n      <td>NaT</td>\n      <td>NaN</td>\n      <td>1</td>\n    </tr>\n  </tbody>\n</table>\n<p>680777 rows × 14 columns</p>\n</div>",
      "text/plain": "                            SEXO  IDADE_ORIGINAL        MUN_RESIDENCIA  \\\nDATA_CONFIRMACAO_DIVULGACAO                                              \n2020-03-12                     M              15              CURITIBA   \n2020-03-12                     M              43              CURITIBA   \n2020-03-12                     F              47              CIANORTE   \n2020-03-12                     F              26              CURITIBA   \n2020-03-12                     F              26              CURITIBA   \n...                          ...             ...                   ...   \n2021-03-06                     F              33               MARINGA   \n2021-03-06                     F              20              ROLANDIA   \n2021-03-06                     F              35   ALMIRANTE TAMANDARE   \n2021-03-06                     F              43      CANDIDO DE ABREU   \n2021-03-06                     F              21  RIO BONITO DO IGUACU   \n\n                                  MUN_ATENDIMENTO  \\\nDATA_CONFIRMACAO_DIVULGACAO                         \n2020-03-12                               CURITIBA   \n2020-03-12                               CURITIBA   \n2020-03-12                               CIANORTE   \n2020-03-12                               CURITIBA   \n2020-03-12                               CURITIBA   \n...                                           ...   \n2021-03-06                                MARINGA   \n2021-03-06                               ROLANDIA   \n2021-03-06                    ALMIRANTE TAMANDARE   \n2021-03-06                       CANDIDO DE ABREU   \n2021-03-06                   RIO BONITO DO IGUACU   \n\n                                                            LABORATORIO  \\\nDATA_CONFIRMACAO_DIVULGACAO                                               \n2020-03-12                                                        LACEN   \n2020-03-12                                                        LACEN   \n2020-03-12                                                        LACEN   \n2020-03-12                                                   Genoprimer   \n2020-03-12                                                   Genoprimer   \n...                                                                 ...   \n2021-03-06                   Teste Rápido Antígeno (Imunocromatografia)   \n2021-03-06                                 COVID-19, Biologia Molecular   \n2021-03-06                                 COVID-19, Biologia Molecular   \n2021-03-06                                 COVID-19, Biologia Molecular   \n2021-03-06                                 COVID-19, Biologia Molecular   \n\n                            DATA_DIAGNOSTICO DATA_INICIO_SINTOMAS  OBITO  \\\nDATA_CONFIRMACAO_DIVULGACAO                                                \n2020-03-12                        2020-03-12           08/03/2020    0.0   \n2020-03-12                        2020-03-12           07/03/2020    0.0   \n2020-03-12                        2020-03-12                  NaN    0.0   \n2020-03-12                        2020-03-16           11/03/2020    0.0   \n2020-03-12                        2020-03-18           15/03/2020    0.0   \n...                                      ...                  ...    ...   \n2021-03-06                        2021-03-04           01/03/2021    NaN   \n2021-03-06                        2021-02-27           18/02/2021    0.0   \n2021-03-06                        2021-03-05           27/02/2021    NaN   \n2021-03-06                        2021-03-03                  NaN    0.0   \n2021-03-06                        2021-02-22           16/02/2021    NaN   \n\n                            DATA_OBITO DATA_OBITO_DIVULGACAO  STATUS  \\\nDATA_CONFIRMACAO_DIVULGACAO                                            \n2020-03-12                         NaT                   NaT     1.0   \n2020-03-12                         NaT                   NaT     1.0   \n2020-03-12                         NaT                   NaT     1.0   \n2020-03-12                         NaT                   NaT     1.0   \n2020-03-12                         NaT                   NaT     1.0   \n...                                ...                   ...     ...   \n2021-03-06                         NaT                   NaT     NaN   \n2021-03-06                         NaT                   NaT     1.0   \n2021-03-06                         NaT                   NaT     NaN   \n2021-03-06                         NaT                   NaT     1.0   \n2021-03-06                         NaT                   NaT     NaN   \n\n                            DATA_RECUPERADO_DIVULGACAO FONTE_DADO_RECUPERADO  \\\nDATA_CONFIRMACAO_DIVULGACAO                                                    \n2020-03-12                                         NaT                   NaN   \n2020-03-12                                         NaT                   NaN   \n2020-03-12                                         NaT          Notificações   \n2020-03-12                                         NaT                   NaN   \n2020-03-12                                         NaT                   NaN   \n...                                                ...                   ...   \n2021-03-06                                         NaT                   NaN   \n2021-03-06                                  2021-03-06        NOTIFICA COVID   \n2021-03-06                                         NaT                   NaN   \n2021-03-06                                  2021-03-06        NOTIFICA COVID   \n2021-03-06                                         NaT                   NaN   \n\n                             CASO_CONFIRMADO_NO_DIA  \nDATA_CONFIRMACAO_DIVULGACAO                          \n2020-03-12                                        1  \n2020-03-12                                        1  \n2020-03-12                                        1  \n2020-03-12                                        1  \n2020-03-12                                        1  \n...                                             ...  \n2021-03-06                                        1  \n2021-03-06                                        1  \n2021-03-06                                        1  \n2021-03-06                                        1  \n2021-03-06                                        1  \n\n[680777 rows x 14 columns]"
     },
     "execution_count": 14,
     "metadata": {},
     "output_type": "execute_result"
    }
   ],
   "source": [
    "informe_covid"
   ]
  },
  {
   "cell_type": "code",
   "execution_count": null,
   "metadata": {},
   "outputs": [],
   "source": []
  }
 ],
 "metadata": {
  "kernelspec": {
   "display_name": "Python 3",
   "language": "python",
   "name": "python3"
  },
  "language_info": {
   "codemirror_mode": {
    "name": "ipython",
    "version": 3
   },
   "file_extension": ".py",
   "mimetype": "text/x-python",
   "name": "python",
   "nbconvert_exporter": "python",
   "pygments_lexer": "ipython3",
   "version": "3.7.6"
  },
  "orig_nbformat": 2
 },
 "nbformat": 4,
 "nbformat_minor": 2
}
